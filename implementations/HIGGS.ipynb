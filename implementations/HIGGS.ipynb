{
  "cells": [
    {
      "cell_type": "markdown",
      "source": [
        "# Import Data and useful libraries"
      ],
      "metadata": {
        "id": "e311PF5OGrNV"
      }
    },
    {
      "cell_type": "code",
      "execution_count": null,
      "metadata": {
        "colab": {
          "base_uri": "https://localhost:8080/"
        },
        "id": "zi-24G8Opran",
        "outputId": "19b38a73-9e1f-4a66-ec0d-acb92a4709b4"
      },
      "outputs": [
        {
          "output_type": "stream",
          "name": "stdout",
          "text": [
            "Mounted at /content/gdrive\n"
          ]
        }
      ],
      "source": [
        "from google.colab import drive\n",
        "drive.mount('/content/gdrive')"
      ]
    },
    {
      "cell_type": "code",
      "execution_count": null,
      "metadata": {
        "id": "HPospfZqpt1Z",
        "colab": {
          "base_uri": "https://localhost:8080/"
        },
        "outputId": "7e80ae22-b06e-4ef2-e8b2-2491073dfd59"
      },
      "outputs": [
        {
          "output_type": "stream",
          "name": "stdout",
          "text": [
            "Looking in indexes: https://pypi.org/simple, https://us-python.pkg.dev/colab-wheels/public/simple/\n",
            "Collecting plot_metric\n",
            "  Downloading plot_metric-0.0.6-py3-none-any.whl (13 kB)\n",
            "Requirement already satisfied: matplotlib>=3.0.2 in /usr/local/lib/python3.8/dist-packages (from plot_metric) (3.2.2)\n",
            "Requirement already satisfied: seaborn>=0.9.0 in /usr/local/lib/python3.8/dist-packages (from plot_metric) (0.11.2)\n",
            "Requirement already satisfied: pandas>=0.23.4 in /usr/local/lib/python3.8/dist-packages (from plot_metric) (1.3.5)\n",
            "Requirement already satisfied: scipy>=1.1.0 in /usr/local/lib/python3.8/dist-packages (from plot_metric) (1.7.3)\n",
            "Requirement already satisfied: scikit-learn>=0.21.2 in /usr/local/lib/python3.8/dist-packages (from plot_metric) (1.0.2)\n",
            "Requirement already satisfied: colorlover>=0.3.0 in /usr/local/lib/python3.8/dist-packages (from plot_metric) (0.3.0)\n",
            "Requirement already satisfied: numpy>=1.15.4 in /usr/local/lib/python3.8/dist-packages (from plot_metric) (1.21.6)\n",
            "Requirement already satisfied: cycler>=0.10 in /usr/local/lib/python3.8/dist-packages (from matplotlib>=3.0.2->plot_metric) (0.11.0)\n",
            "Requirement already satisfied: pyparsing!=2.0.4,!=2.1.2,!=2.1.6,>=2.0.1 in /usr/local/lib/python3.8/dist-packages (from matplotlib>=3.0.2->plot_metric) (3.0.9)\n",
            "Requirement already satisfied: kiwisolver>=1.0.1 in /usr/local/lib/python3.8/dist-packages (from matplotlib>=3.0.2->plot_metric) (1.4.4)\n",
            "Requirement already satisfied: python-dateutil>=2.1 in /usr/local/lib/python3.8/dist-packages (from matplotlib>=3.0.2->plot_metric) (2.8.2)\n",
            "Requirement already satisfied: pytz>=2017.3 in /usr/local/lib/python3.8/dist-packages (from pandas>=0.23.4->plot_metric) (2022.6)\n",
            "Requirement already satisfied: six>=1.5 in /usr/local/lib/python3.8/dist-packages (from python-dateutil>=2.1->matplotlib>=3.0.2->plot_metric) (1.15.0)\n",
            "Requirement already satisfied: joblib>=0.11 in /usr/local/lib/python3.8/dist-packages (from scikit-learn>=0.21.2->plot_metric) (1.2.0)\n",
            "Requirement already satisfied: threadpoolctl>=2.0.0 in /usr/local/lib/python3.8/dist-packages (from scikit-learn>=0.21.2->plot_metric) (3.1.0)\n",
            "Installing collected packages: plot-metric\n",
            "Successfully installed plot-metric-0.0.6\n"
          ]
        }
      ],
      "source": [
        "!pip install plot_metric\n",
        "!cp gdrive/MyDrive/HIGGS.csv.gz ."
      ]
    },
    {
      "cell_type": "code",
      "execution_count": null,
      "metadata": {
        "id": "dVDPeuUXp-qR"
      },
      "outputs": [],
      "source": [
        "!gzip -d HIGGS.csv.gz"
      ]
    },
    {
      "cell_type": "code",
      "execution_count": null,
      "metadata": {
        "colab": {
          "base_uri": "https://localhost:8080/"
        },
        "id": "FgNrZ3vSqFzJ",
        "outputId": "6e02655f-ff28-4253-b82e-4f017a4ce437"
      },
      "outputs": [
        {
          "output_type": "stream",
          "name": "stdout",
          "text": [
            "Setup Ready!\n"
          ]
        }
      ],
      "source": [
        "import fileinput\n",
        "import pandas as pd\n",
        "import os , sys, warnings\n",
        "import numpy as np\n",
        "import h5py\n",
        "import tensorflow\n",
        "import matplotlib.pyplot as plt\n",
        "from plot_metric.functions import BinaryClassification\n",
        "from sklearn.svm import SVC\n",
        "from sklearn import svm\n",
        "from sklearn.ensemble import RandomForestClassifier\n",
        "from sklearn.naive_bayes import GaussianNB\n",
        "from sklearn.linear_model import LogisticRegression\n",
        "from sklearn.linear_model import SGDClassifier\n",
        "from sklearn.neighbors import KNeighborsClassifier\n",
        "from sklearn.ensemble import AdaBoostClassifier\n",
        "from sklearn.tree import DecisionTreeClassifier\n",
        "from sklearn.metrics import accuracy_score, classification_report,confusion_matrix\n",
        "from sklearn.model_selection import train_test_split\n",
        "from sklearn.preprocessing import StandardScaler\n",
        "from warnings import simplefilter\n",
        "from sklearn.exceptions import DataConversionWarning\n",
        "from keras.models import Sequential\n",
        "from keras.optimizers import Adam\n",
        "from keras.initializers import TruncatedNormal\n",
        "from keras.layers import Input, Dense, Dropout\n",
        "from keras.callbacks import ReduceLROnPlateau, EarlyStopping\n",
        "import seaborn as sns\n",
        "from tensorflow.keras.optimizers import SGD\n",
        "from tensorflow.keras.optimizers.schedules import ExponentialDecay\n",
        "\n",
        "np.random.seed(1337)  # for reproducibility\n",
        "\n",
        "\n",
        "\n",
        "simplefilter(action='ignore', category=FutureWarning)\n",
        "warnings.filterwarnings(action='ignore', category=DataConversionWarning)\n",
        "print(\"Setup Ready!\")\n",
        "\n"
      ]
    },
    {
      "cell_type": "markdown",
      "source": [
        "# Explaratory Data Analysis"
      ],
      "metadata": {
        "id": "9uKCiR8DGxF7"
      }
    },
    {
      "cell_type": "code",
      "execution_count": null,
      "metadata": {
        "id": "mjs8bURNq9TZ"
      },
      "outputs": [],
      "source": [
        "data=pd.read_csv('HIGGS.csv')"
      ]
    },
    {
      "cell_type": "code",
      "execution_count": null,
      "metadata": {
        "colab": {
          "base_uri": "https://localhost:8080/",
          "height": 317
        },
        "id": "Q5J_oc7iq9Ng",
        "outputId": "fec1295a-4fa0-4607-fe28-9607a908ffaa"
      },
      "outputs": [
        {
          "output_type": "execute_result",
          "data": {
            "text/plain": [
              "   1.000000000000000000e+00  8.692932128906250000e-01  \\\n",
              "0                       1.0                  0.907542   \n",
              "1                       1.0                  0.798835   \n",
              "2                       0.0                  1.344385   \n",
              "3                       1.0                  1.105009   \n",
              "4                       0.0                  1.595839   \n",
              "\n",
              "   -6.350818276405334473e-01  2.256902605295181274e-01  \\\n",
              "0                   0.329147                  0.359412   \n",
              "1                   1.470639                 -1.635975   \n",
              "2                  -0.876626                  0.935913   \n",
              "3                   0.321356                  1.522401   \n",
              "4                  -0.607811                  0.007075   \n",
              "\n",
              "   3.274700641632080078e-01  -6.899932026863098145e-01  \\\n",
              "0                  1.497970                  -0.313010   \n",
              "1                  0.453773                   0.425629   \n",
              "2                  1.992050                   0.882454   \n",
              "3                  0.882808                  -1.205349   \n",
              "4                  1.818450                  -0.111906   \n",
              "\n",
              "   7.542022466659545898e-01  -2.485731393098831177e-01  \\\n",
              "0                  1.095531                  -0.557525   \n",
              "1                  1.104875                   1.282322   \n",
              "2                  1.786066                  -1.646778   \n",
              "3                  0.681466                  -1.070464   \n",
              "4                  0.847550                  -0.566437   \n",
              "\n",
              "   -1.092063903808593750e+00  0.000000000000000000e+00  ...  \\\n",
              "0                  -1.588230                  2.173076  ...   \n",
              "1                   1.381664                  0.000000  ...   \n",
              "2                  -0.942383                  0.000000  ...   \n",
              "3                  -0.921871                  0.000000  ...   \n",
              "4                   1.581239                  2.173076  ...   \n",
              "\n",
              "   -1.045456994324922562e-02  -4.576716944575309753e-02  \\\n",
              "0                  -1.138930                  -0.000819   \n",
              "1                   1.128848                   0.900461   \n",
              "2                  -0.678379                  -1.360356   \n",
              "3                  -0.373566                   0.113041   \n",
              "4                  -0.654227                  -1.274345   \n",
              "\n",
              "   3.101961374282836914e+00  1.353760004043579102e+00  \\\n",
              "0                  0.000000                  0.302220   \n",
              "1                  0.000000                  0.909753   \n",
              "2                  0.000000                  0.946652   \n",
              "3                  0.000000                  0.755856   \n",
              "4                  3.101961                  0.823761   \n",
              "\n",
              "   9.795631170272827148e-01  9.780761599540710449e-01  \\\n",
              "0                  0.833048                  0.985700   \n",
              "1                  1.108330                  0.985692   \n",
              "2                  1.028704                  0.998656   \n",
              "3                  1.361057                  0.986610   \n",
              "4                  0.938191                  0.971758   \n",
              "\n",
              "   9.200048446655273438e-01  7.216574549674987793e-01  \\\n",
              "0                  0.978098                  0.779732   \n",
              "1                  0.951331                  0.803252   \n",
              "2                  0.728281                  0.869200   \n",
              "3                  0.838085                  1.133295   \n",
              "4                  0.789176                  0.430553   \n",
              "\n",
              "   9.887509346008300781e-01  8.766783475875854492e-01  \n",
              "0                  0.992356                  0.798343  \n",
              "1                  0.865924                  0.780118  \n",
              "2                  1.026736                  0.957904  \n",
              "3                  0.872245                  0.808487  \n",
              "4                  0.961357                  0.957818  \n",
              "\n",
              "[5 rows x 29 columns]"
            ],
            "text/html": [
              "\n",
              "  <div id=\"df-bb075337-cd1b-4221-a488-7c3bc587b6e1\">\n",
              "    <div class=\"colab-df-container\">\n",
              "      <div>\n",
              "<style scoped>\n",
              "    .dataframe tbody tr th:only-of-type {\n",
              "        vertical-align: middle;\n",
              "    }\n",
              "\n",
              "    .dataframe tbody tr th {\n",
              "        vertical-align: top;\n",
              "    }\n",
              "\n",
              "    .dataframe thead th {\n",
              "        text-align: right;\n",
              "    }\n",
              "</style>\n",
              "<table border=\"1\" class=\"dataframe\">\n",
              "  <thead>\n",
              "    <tr style=\"text-align: right;\">\n",
              "      <th></th>\n",
              "      <th>1.000000000000000000e+00</th>\n",
              "      <th>8.692932128906250000e-01</th>\n",
              "      <th>-6.350818276405334473e-01</th>\n",
              "      <th>2.256902605295181274e-01</th>\n",
              "      <th>3.274700641632080078e-01</th>\n",
              "      <th>-6.899932026863098145e-01</th>\n",
              "      <th>7.542022466659545898e-01</th>\n",
              "      <th>-2.485731393098831177e-01</th>\n",
              "      <th>-1.092063903808593750e+00</th>\n",
              "      <th>0.000000000000000000e+00</th>\n",
              "      <th>...</th>\n",
              "      <th>-1.045456994324922562e-02</th>\n",
              "      <th>-4.576716944575309753e-02</th>\n",
              "      <th>3.101961374282836914e+00</th>\n",
              "      <th>1.353760004043579102e+00</th>\n",
              "      <th>9.795631170272827148e-01</th>\n",
              "      <th>9.780761599540710449e-01</th>\n",
              "      <th>9.200048446655273438e-01</th>\n",
              "      <th>7.216574549674987793e-01</th>\n",
              "      <th>9.887509346008300781e-01</th>\n",
              "      <th>8.766783475875854492e-01</th>\n",
              "    </tr>\n",
              "  </thead>\n",
              "  <tbody>\n",
              "    <tr>\n",
              "      <th>0</th>\n",
              "      <td>1.0</td>\n",
              "      <td>0.907542</td>\n",
              "      <td>0.329147</td>\n",
              "      <td>0.359412</td>\n",
              "      <td>1.497970</td>\n",
              "      <td>-0.313010</td>\n",
              "      <td>1.095531</td>\n",
              "      <td>-0.557525</td>\n",
              "      <td>-1.588230</td>\n",
              "      <td>2.173076</td>\n",
              "      <td>...</td>\n",
              "      <td>-1.138930</td>\n",
              "      <td>-0.000819</td>\n",
              "      <td>0.000000</td>\n",
              "      <td>0.302220</td>\n",
              "      <td>0.833048</td>\n",
              "      <td>0.985700</td>\n",
              "      <td>0.978098</td>\n",
              "      <td>0.779732</td>\n",
              "      <td>0.992356</td>\n",
              "      <td>0.798343</td>\n",
              "    </tr>\n",
              "    <tr>\n",
              "      <th>1</th>\n",
              "      <td>1.0</td>\n",
              "      <td>0.798835</td>\n",
              "      <td>1.470639</td>\n",
              "      <td>-1.635975</td>\n",
              "      <td>0.453773</td>\n",
              "      <td>0.425629</td>\n",
              "      <td>1.104875</td>\n",
              "      <td>1.282322</td>\n",
              "      <td>1.381664</td>\n",
              "      <td>0.000000</td>\n",
              "      <td>...</td>\n",
              "      <td>1.128848</td>\n",
              "      <td>0.900461</td>\n",
              "      <td>0.000000</td>\n",
              "      <td>0.909753</td>\n",
              "      <td>1.108330</td>\n",
              "      <td>0.985692</td>\n",
              "      <td>0.951331</td>\n",
              "      <td>0.803252</td>\n",
              "      <td>0.865924</td>\n",
              "      <td>0.780118</td>\n",
              "    </tr>\n",
              "    <tr>\n",
              "      <th>2</th>\n",
              "      <td>0.0</td>\n",
              "      <td>1.344385</td>\n",
              "      <td>-0.876626</td>\n",
              "      <td>0.935913</td>\n",
              "      <td>1.992050</td>\n",
              "      <td>0.882454</td>\n",
              "      <td>1.786066</td>\n",
              "      <td>-1.646778</td>\n",
              "      <td>-0.942383</td>\n",
              "      <td>0.000000</td>\n",
              "      <td>...</td>\n",
              "      <td>-0.678379</td>\n",
              "      <td>-1.360356</td>\n",
              "      <td>0.000000</td>\n",
              "      <td>0.946652</td>\n",
              "      <td>1.028704</td>\n",
              "      <td>0.998656</td>\n",
              "      <td>0.728281</td>\n",
              "      <td>0.869200</td>\n",
              "      <td>1.026736</td>\n",
              "      <td>0.957904</td>\n",
              "    </tr>\n",
              "    <tr>\n",
              "      <th>3</th>\n",
              "      <td>1.0</td>\n",
              "      <td>1.105009</td>\n",
              "      <td>0.321356</td>\n",
              "      <td>1.522401</td>\n",
              "      <td>0.882808</td>\n",
              "      <td>-1.205349</td>\n",
              "      <td>0.681466</td>\n",
              "      <td>-1.070464</td>\n",
              "      <td>-0.921871</td>\n",
              "      <td>0.000000</td>\n",
              "      <td>...</td>\n",
              "      <td>-0.373566</td>\n",
              "      <td>0.113041</td>\n",
              "      <td>0.000000</td>\n",
              "      <td>0.755856</td>\n",
              "      <td>1.361057</td>\n",
              "      <td>0.986610</td>\n",
              "      <td>0.838085</td>\n",
              "      <td>1.133295</td>\n",
              "      <td>0.872245</td>\n",
              "      <td>0.808487</td>\n",
              "    </tr>\n",
              "    <tr>\n",
              "      <th>4</th>\n",
              "      <td>0.0</td>\n",
              "      <td>1.595839</td>\n",
              "      <td>-0.607811</td>\n",
              "      <td>0.007075</td>\n",
              "      <td>1.818450</td>\n",
              "      <td>-0.111906</td>\n",
              "      <td>0.847550</td>\n",
              "      <td>-0.566437</td>\n",
              "      <td>1.581239</td>\n",
              "      <td>2.173076</td>\n",
              "      <td>...</td>\n",
              "      <td>-0.654227</td>\n",
              "      <td>-1.274345</td>\n",
              "      <td>3.101961</td>\n",
              "      <td>0.823761</td>\n",
              "      <td>0.938191</td>\n",
              "      <td>0.971758</td>\n",
              "      <td>0.789176</td>\n",
              "      <td>0.430553</td>\n",
              "      <td>0.961357</td>\n",
              "      <td>0.957818</td>\n",
              "    </tr>\n",
              "  </tbody>\n",
              "</table>\n",
              "<p>5 rows × 29 columns</p>\n",
              "</div>\n",
              "      <button class=\"colab-df-convert\" onclick=\"convertToInteractive('df-bb075337-cd1b-4221-a488-7c3bc587b6e1')\"\n",
              "              title=\"Convert this dataframe to an interactive table.\"\n",
              "              style=\"display:none;\">\n",
              "        \n",
              "  <svg xmlns=\"http://www.w3.org/2000/svg\" height=\"24px\"viewBox=\"0 0 24 24\"\n",
              "       width=\"24px\">\n",
              "    <path d=\"M0 0h24v24H0V0z\" fill=\"none\"/>\n",
              "    <path d=\"M18.56 5.44l.94 2.06.94-2.06 2.06-.94-2.06-.94-.94-2.06-.94 2.06-2.06.94zm-11 1L8.5 8.5l.94-2.06 2.06-.94-2.06-.94L8.5 2.5l-.94 2.06-2.06.94zm10 10l.94 2.06.94-2.06 2.06-.94-2.06-.94-.94-2.06-.94 2.06-2.06.94z\"/><path d=\"M17.41 7.96l-1.37-1.37c-.4-.4-.92-.59-1.43-.59-.52 0-1.04.2-1.43.59L10.3 9.45l-7.72 7.72c-.78.78-.78 2.05 0 2.83L4 21.41c.39.39.9.59 1.41.59.51 0 1.02-.2 1.41-.59l7.78-7.78 2.81-2.81c.8-.78.8-2.07 0-2.86zM5.41 20L4 18.59l7.72-7.72 1.47 1.35L5.41 20z\"/>\n",
              "  </svg>\n",
              "      </button>\n",
              "      \n",
              "  <style>\n",
              "    .colab-df-container {\n",
              "      display:flex;\n",
              "      flex-wrap:wrap;\n",
              "      gap: 12px;\n",
              "    }\n",
              "\n",
              "    .colab-df-convert {\n",
              "      background-color: #E8F0FE;\n",
              "      border: none;\n",
              "      border-radius: 50%;\n",
              "      cursor: pointer;\n",
              "      display: none;\n",
              "      fill: #1967D2;\n",
              "      height: 32px;\n",
              "      padding: 0 0 0 0;\n",
              "      width: 32px;\n",
              "    }\n",
              "\n",
              "    .colab-df-convert:hover {\n",
              "      background-color: #E2EBFA;\n",
              "      box-shadow: 0px 1px 2px rgba(60, 64, 67, 0.3), 0px 1px 3px 1px rgba(60, 64, 67, 0.15);\n",
              "      fill: #174EA6;\n",
              "    }\n",
              "\n",
              "    [theme=dark] .colab-df-convert {\n",
              "      background-color: #3B4455;\n",
              "      fill: #D2E3FC;\n",
              "    }\n",
              "\n",
              "    [theme=dark] .colab-df-convert:hover {\n",
              "      background-color: #434B5C;\n",
              "      box-shadow: 0px 1px 3px 1px rgba(0, 0, 0, 0.15);\n",
              "      filter: drop-shadow(0px 1px 2px rgba(0, 0, 0, 0.3));\n",
              "      fill: #FFFFFF;\n",
              "    }\n",
              "  </style>\n",
              "\n",
              "      <script>\n",
              "        const buttonEl =\n",
              "          document.querySelector('#df-bb075337-cd1b-4221-a488-7c3bc587b6e1 button.colab-df-convert');\n",
              "        buttonEl.style.display =\n",
              "          google.colab.kernel.accessAllowed ? 'block' : 'none';\n",
              "\n",
              "        async function convertToInteractive(key) {\n",
              "          const element = document.querySelector('#df-bb075337-cd1b-4221-a488-7c3bc587b6e1');\n",
              "          const dataTable =\n",
              "            await google.colab.kernel.invokeFunction('convertToInteractive',\n",
              "                                                     [key], {});\n",
              "          if (!dataTable) return;\n",
              "\n",
              "          const docLinkHtml = 'Like what you see? Visit the ' +\n",
              "            '<a target=\"_blank\" href=https://colab.research.google.com/notebooks/data_table.ipynb>data table notebook</a>'\n",
              "            + ' to learn more about interactive tables.';\n",
              "          element.innerHTML = '';\n",
              "          dataTable['output_type'] = 'display_data';\n",
              "          await google.colab.output.renderOutput(dataTable, element);\n",
              "          const docLink = document.createElement('div');\n",
              "          docLink.innerHTML = docLinkHtml;\n",
              "          element.appendChild(docLink);\n",
              "        }\n",
              "      </script>\n",
              "    </div>\n",
              "  </div>\n",
              "  "
            ]
          },
          "metadata": {},
          "execution_count": 6
        }
      ],
      "source": [
        "data.head()"
      ]
    },
    {
      "cell_type": "code",
      "source": [
        "data_n= data.set_axis(['label', 'L_pT', 'L_eta', 'L_phi', 'E_T', 'E_phi', 'J1_pt', 'J1_eta', 'J1_phi', 'J1b-tag', 'J2_pt', 'J2_eta', 'J2_phi', 'J2b-tag', 'J3_pt', 'J3_eta', 'J3_phi', 'J3b-tag', 'J4_pt', 'J4_eta', 'J4_phi', 'J4b-tag', 'm_jj', 'm_jjj', 'm_lv', 'm_jlv', 'm_bb', 'm_wbb', 'm_wwbb'], axis=1)\n",
        "data_n.head()"
      ],
      "metadata": {
        "colab": {
          "base_uri": "https://localhost:8080/",
          "height": 300
        },
        "id": "Qk7yMBSKE7K-",
        "outputId": "db8f7e3a-bde8-45e0-8cdd-8089a83a3fb3"
      },
      "execution_count": null,
      "outputs": [
        {
          "output_type": "execute_result",
          "data": {
            "text/plain": [
              "   label      L_pT     L_eta     L_phi       E_T     E_phi     J1_pt  \\\n",
              "0    1.0  0.907542  0.329147  0.359412  1.497970 -0.313010  1.095531   \n",
              "1    1.0  0.798835  1.470639 -1.635975  0.453773  0.425629  1.104875   \n",
              "2    0.0  1.344385 -0.876626  0.935913  1.992050  0.882454  1.786066   \n",
              "3    1.0  1.105009  0.321356  1.522401  0.882808 -1.205349  0.681466   \n",
              "4    0.0  1.595839 -0.607811  0.007075  1.818450 -0.111906  0.847550   \n",
              "\n",
              "     J1_eta    J1_phi   J1b-tag  ...    J4_eta    J4_phi   J4b-tag      m_jj  \\\n",
              "0 -0.557525 -1.588230  2.173076  ... -1.138930 -0.000819  0.000000  0.302220   \n",
              "1  1.282322  1.381664  0.000000  ...  1.128848  0.900461  0.000000  0.909753   \n",
              "2 -1.646778 -0.942383  0.000000  ... -0.678379 -1.360356  0.000000  0.946652   \n",
              "3 -1.070464 -0.921871  0.000000  ... -0.373566  0.113041  0.000000  0.755856   \n",
              "4 -0.566437  1.581239  2.173076  ... -0.654227 -1.274345  3.101961  0.823761   \n",
              "\n",
              "      m_jjj      m_lv     m_jlv      m_bb     m_wbb    m_wwbb  \n",
              "0  0.833048  0.985700  0.978098  0.779732  0.992356  0.798343  \n",
              "1  1.108330  0.985692  0.951331  0.803252  0.865924  0.780118  \n",
              "2  1.028704  0.998656  0.728281  0.869200  1.026736  0.957904  \n",
              "3  1.361057  0.986610  0.838085  1.133295  0.872245  0.808487  \n",
              "4  0.938191  0.971758  0.789176  0.430553  0.961357  0.957818  \n",
              "\n",
              "[5 rows x 29 columns]"
            ],
            "text/html": [
              "\n",
              "  <div id=\"df-1b126bef-c0d0-4e55-89e8-d7b32a80b5c4\">\n",
              "    <div class=\"colab-df-container\">\n",
              "      <div>\n",
              "<style scoped>\n",
              "    .dataframe tbody tr th:only-of-type {\n",
              "        vertical-align: middle;\n",
              "    }\n",
              "\n",
              "    .dataframe tbody tr th {\n",
              "        vertical-align: top;\n",
              "    }\n",
              "\n",
              "    .dataframe thead th {\n",
              "        text-align: right;\n",
              "    }\n",
              "</style>\n",
              "<table border=\"1\" class=\"dataframe\">\n",
              "  <thead>\n",
              "    <tr style=\"text-align: right;\">\n",
              "      <th></th>\n",
              "      <th>label</th>\n",
              "      <th>L_pT</th>\n",
              "      <th>L_eta</th>\n",
              "      <th>L_phi</th>\n",
              "      <th>E_T</th>\n",
              "      <th>E_phi</th>\n",
              "      <th>J1_pt</th>\n",
              "      <th>J1_eta</th>\n",
              "      <th>J1_phi</th>\n",
              "      <th>J1b-tag</th>\n",
              "      <th>...</th>\n",
              "      <th>J4_eta</th>\n",
              "      <th>J4_phi</th>\n",
              "      <th>J4b-tag</th>\n",
              "      <th>m_jj</th>\n",
              "      <th>m_jjj</th>\n",
              "      <th>m_lv</th>\n",
              "      <th>m_jlv</th>\n",
              "      <th>m_bb</th>\n",
              "      <th>m_wbb</th>\n",
              "      <th>m_wwbb</th>\n",
              "    </tr>\n",
              "  </thead>\n",
              "  <tbody>\n",
              "    <tr>\n",
              "      <th>0</th>\n",
              "      <td>1.0</td>\n",
              "      <td>0.907542</td>\n",
              "      <td>0.329147</td>\n",
              "      <td>0.359412</td>\n",
              "      <td>1.497970</td>\n",
              "      <td>-0.313010</td>\n",
              "      <td>1.095531</td>\n",
              "      <td>-0.557525</td>\n",
              "      <td>-1.588230</td>\n",
              "      <td>2.173076</td>\n",
              "      <td>...</td>\n",
              "      <td>-1.138930</td>\n",
              "      <td>-0.000819</td>\n",
              "      <td>0.000000</td>\n",
              "      <td>0.302220</td>\n",
              "      <td>0.833048</td>\n",
              "      <td>0.985700</td>\n",
              "      <td>0.978098</td>\n",
              "      <td>0.779732</td>\n",
              "      <td>0.992356</td>\n",
              "      <td>0.798343</td>\n",
              "    </tr>\n",
              "    <tr>\n",
              "      <th>1</th>\n",
              "      <td>1.0</td>\n",
              "      <td>0.798835</td>\n",
              "      <td>1.470639</td>\n",
              "      <td>-1.635975</td>\n",
              "      <td>0.453773</td>\n",
              "      <td>0.425629</td>\n",
              "      <td>1.104875</td>\n",
              "      <td>1.282322</td>\n",
              "      <td>1.381664</td>\n",
              "      <td>0.000000</td>\n",
              "      <td>...</td>\n",
              "      <td>1.128848</td>\n",
              "      <td>0.900461</td>\n",
              "      <td>0.000000</td>\n",
              "      <td>0.909753</td>\n",
              "      <td>1.108330</td>\n",
              "      <td>0.985692</td>\n",
              "      <td>0.951331</td>\n",
              "      <td>0.803252</td>\n",
              "      <td>0.865924</td>\n",
              "      <td>0.780118</td>\n",
              "    </tr>\n",
              "    <tr>\n",
              "      <th>2</th>\n",
              "      <td>0.0</td>\n",
              "      <td>1.344385</td>\n",
              "      <td>-0.876626</td>\n",
              "      <td>0.935913</td>\n",
              "      <td>1.992050</td>\n",
              "      <td>0.882454</td>\n",
              "      <td>1.786066</td>\n",
              "      <td>-1.646778</td>\n",
              "      <td>-0.942383</td>\n",
              "      <td>0.000000</td>\n",
              "      <td>...</td>\n",
              "      <td>-0.678379</td>\n",
              "      <td>-1.360356</td>\n",
              "      <td>0.000000</td>\n",
              "      <td>0.946652</td>\n",
              "      <td>1.028704</td>\n",
              "      <td>0.998656</td>\n",
              "      <td>0.728281</td>\n",
              "      <td>0.869200</td>\n",
              "      <td>1.026736</td>\n",
              "      <td>0.957904</td>\n",
              "    </tr>\n",
              "    <tr>\n",
              "      <th>3</th>\n",
              "      <td>1.0</td>\n",
              "      <td>1.105009</td>\n",
              "      <td>0.321356</td>\n",
              "      <td>1.522401</td>\n",
              "      <td>0.882808</td>\n",
              "      <td>-1.205349</td>\n",
              "      <td>0.681466</td>\n",
              "      <td>-1.070464</td>\n",
              "      <td>-0.921871</td>\n",
              "      <td>0.000000</td>\n",
              "      <td>...</td>\n",
              "      <td>-0.373566</td>\n",
              "      <td>0.113041</td>\n",
              "      <td>0.000000</td>\n",
              "      <td>0.755856</td>\n",
              "      <td>1.361057</td>\n",
              "      <td>0.986610</td>\n",
              "      <td>0.838085</td>\n",
              "      <td>1.133295</td>\n",
              "      <td>0.872245</td>\n",
              "      <td>0.808487</td>\n",
              "    </tr>\n",
              "    <tr>\n",
              "      <th>4</th>\n",
              "      <td>0.0</td>\n",
              "      <td>1.595839</td>\n",
              "      <td>-0.607811</td>\n",
              "      <td>0.007075</td>\n",
              "      <td>1.818450</td>\n",
              "      <td>-0.111906</td>\n",
              "      <td>0.847550</td>\n",
              "      <td>-0.566437</td>\n",
              "      <td>1.581239</td>\n",
              "      <td>2.173076</td>\n",
              "      <td>...</td>\n",
              "      <td>-0.654227</td>\n",
              "      <td>-1.274345</td>\n",
              "      <td>3.101961</td>\n",
              "      <td>0.823761</td>\n",
              "      <td>0.938191</td>\n",
              "      <td>0.971758</td>\n",
              "      <td>0.789176</td>\n",
              "      <td>0.430553</td>\n",
              "      <td>0.961357</td>\n",
              "      <td>0.957818</td>\n",
              "    </tr>\n",
              "  </tbody>\n",
              "</table>\n",
              "<p>5 rows × 29 columns</p>\n",
              "</div>\n",
              "      <button class=\"colab-df-convert\" onclick=\"convertToInteractive('df-1b126bef-c0d0-4e55-89e8-d7b32a80b5c4')\"\n",
              "              title=\"Convert this dataframe to an interactive table.\"\n",
              "              style=\"display:none;\">\n",
              "        \n",
              "  <svg xmlns=\"http://www.w3.org/2000/svg\" height=\"24px\"viewBox=\"0 0 24 24\"\n",
              "       width=\"24px\">\n",
              "    <path d=\"M0 0h24v24H0V0z\" fill=\"none\"/>\n",
              "    <path d=\"M18.56 5.44l.94 2.06.94-2.06 2.06-.94-2.06-.94-.94-2.06-.94 2.06-2.06.94zm-11 1L8.5 8.5l.94-2.06 2.06-.94-2.06-.94L8.5 2.5l-.94 2.06-2.06.94zm10 10l.94 2.06.94-2.06 2.06-.94-2.06-.94-.94-2.06-.94 2.06-2.06.94z\"/><path d=\"M17.41 7.96l-1.37-1.37c-.4-.4-.92-.59-1.43-.59-.52 0-1.04.2-1.43.59L10.3 9.45l-7.72 7.72c-.78.78-.78 2.05 0 2.83L4 21.41c.39.39.9.59 1.41.59.51 0 1.02-.2 1.41-.59l7.78-7.78 2.81-2.81c.8-.78.8-2.07 0-2.86zM5.41 20L4 18.59l7.72-7.72 1.47 1.35L5.41 20z\"/>\n",
              "  </svg>\n",
              "      </button>\n",
              "      \n",
              "  <style>\n",
              "    .colab-df-container {\n",
              "      display:flex;\n",
              "      flex-wrap:wrap;\n",
              "      gap: 12px;\n",
              "    }\n",
              "\n",
              "    .colab-df-convert {\n",
              "      background-color: #E8F0FE;\n",
              "      border: none;\n",
              "      border-radius: 50%;\n",
              "      cursor: pointer;\n",
              "      display: none;\n",
              "      fill: #1967D2;\n",
              "      height: 32px;\n",
              "      padding: 0 0 0 0;\n",
              "      width: 32px;\n",
              "    }\n",
              "\n",
              "    .colab-df-convert:hover {\n",
              "      background-color: #E2EBFA;\n",
              "      box-shadow: 0px 1px 2px rgba(60, 64, 67, 0.3), 0px 1px 3px 1px rgba(60, 64, 67, 0.15);\n",
              "      fill: #174EA6;\n",
              "    }\n",
              "\n",
              "    [theme=dark] .colab-df-convert {\n",
              "      background-color: #3B4455;\n",
              "      fill: #D2E3FC;\n",
              "    }\n",
              "\n",
              "    [theme=dark] .colab-df-convert:hover {\n",
              "      background-color: #434B5C;\n",
              "      box-shadow: 0px 1px 3px 1px rgba(0, 0, 0, 0.15);\n",
              "      filter: drop-shadow(0px 1px 2px rgba(0, 0, 0, 0.3));\n",
              "      fill: #FFFFFF;\n",
              "    }\n",
              "  </style>\n",
              "\n",
              "      <script>\n",
              "        const buttonEl =\n",
              "          document.querySelector('#df-1b126bef-c0d0-4e55-89e8-d7b32a80b5c4 button.colab-df-convert');\n",
              "        buttonEl.style.display =\n",
              "          google.colab.kernel.accessAllowed ? 'block' : 'none';\n",
              "\n",
              "        async function convertToInteractive(key) {\n",
              "          const element = document.querySelector('#df-1b126bef-c0d0-4e55-89e8-d7b32a80b5c4');\n",
              "          const dataTable =\n",
              "            await google.colab.kernel.invokeFunction('convertToInteractive',\n",
              "                                                     [key], {});\n",
              "          if (!dataTable) return;\n",
              "\n",
              "          const docLinkHtml = 'Like what you see? Visit the ' +\n",
              "            '<a target=\"_blank\" href=https://colab.research.google.com/notebooks/data_table.ipynb>data table notebook</a>'\n",
              "            + ' to learn more about interactive tables.';\n",
              "          element.innerHTML = '';\n",
              "          dataTable['output_type'] = 'display_data';\n",
              "          await google.colab.output.renderOutput(dataTable, element);\n",
              "          const docLink = document.createElement('div');\n",
              "          docLink.innerHTML = docLinkHtml;\n",
              "          element.appendChild(docLink);\n",
              "        }\n",
              "      </script>\n",
              "    </div>\n",
              "  </div>\n",
              "  "
            ]
          },
          "metadata": {},
          "execution_count": 7
        }
      ]
    },
    {
      "cell_type": "code",
      "source": [
        "with pd.option_context('display.max_rows', None,\n",
        "                       'display.max_columns', None,\n",
        "                       'display.precision', 3,\n",
        "                       ):\n",
        "    print(data_n.head(100))"
      ],
      "metadata": {
        "colab": {
          "base_uri": "https://localhost:8080/"
        },
        "id": "QlpOsLtwFLE0",
        "outputId": "4edda9fe-16ef-421a-e852-24dc88e177c8"
      },
      "execution_count": null,
      "outputs": [
        {
          "output_type": "stream",
          "name": "stdout",
          "text": [
            "    label   L_pT  L_eta      L_phi    E_T  E_phi  J1_pt     J1_eta  J1_phi  \\\n",
            "0     1.0  0.908  0.329  3.594e-01  1.498 -0.313  1.096 -5.575e-01  -1.588   \n",
            "1     1.0  0.799  1.471 -1.636e+00  0.454  0.426  1.105  1.282e+00   1.382   \n",
            "2     0.0  1.344 -0.877  9.359e-01  1.992  0.882  1.786 -1.647e+00  -0.942   \n",
            "3     1.0  1.105  0.321  1.522e+00  0.883 -1.205  0.681 -1.070e+00  -0.922   \n",
            "4     0.0  1.596 -0.608  7.075e-03  1.818 -0.112  0.848 -5.664e-01   1.581   \n",
            "5     1.0  0.409 -1.885 -1.027e+00  1.672 -1.605  1.338  5.543e-02   0.013   \n",
            "6     1.0  0.934  0.629  5.275e-01  0.238 -0.967  0.548 -5.944e-02  -1.707   \n",
            "7     1.0  1.405  0.537  6.896e-01  1.180 -0.110  3.202 -1.527e+00  -1.576   \n",
            "8     1.0  1.177  0.104  1.397e+00  0.480  0.266  1.136  1.535e+00  -0.253   \n",
            "9     1.0  0.946  1.111  1.218e+00  0.908  0.822  1.153 -3.654e-01  -1.566   \n",
            "10    0.0  0.739 -0.178  8.299e-01  0.505 -0.130  0.961 -3.555e-01  -1.717   \n",
            "11    1.0  1.384  0.117 -1.180e+00  0.763 -0.080  1.020  8.773e-01   1.277   \n",
            "12    1.0  1.384  0.889  6.185e-01  1.082  0.345  0.956  8.545e-01  -1.129   \n",
            "13    1.0  1.344  0.839 -1.061e+00  2.472 -0.573  1.513  1.144e+00   0.856   \n",
            "14    0.0  0.547 -0.350 -6.467e-01  2.040  0.276  0.545  8.387e-01   1.729   \n",
            "15    1.0  1.484  1.700 -1.059e+00  2.700 -1.056  2.409  4.575e-01   0.345   \n",
            "16    0.0  1.058 -0.161 -1.950e-01  2.705 -0.751  1.910 -1.032e+00   0.865   \n",
            "17    0.0  0.675  1.121 -2.804e-01  1.540  0.735  0.615 -5.070e-01   0.795   \n",
            "18    1.0  0.643 -1.430  1.519e+00  0.941  0.887  1.615 -1.337e+00  -0.267   \n",
            "19    1.0  1.102  0.427  1.717e+00  0.934  0.776  1.279 -2.496e-01  -0.926   \n",
            "20    1.0  1.330  0.202  1.173e+00  0.135 -1.083  0.728  1.109e+00  -0.540   \n",
            "21    0.0  1.290 -1.423 -6.872e-01  0.131 -1.136  0.821  2.961e-01   0.168   \n",
            "22    1.0  1.048 -1.119 -9.568e-01  0.996 -1.550  0.733  2.832e-01   0.919   \n",
            "23    0.0  0.488  1.698  7.911e-01  0.894 -0.709  1.563 -7.627e-02   1.739   \n",
            "24    0.0  1.413 -0.852  3.100e-01  1.128 -1.510  0.820  1.153e+00  -1.670   \n",
            "25    1.0  0.770 -0.449 -9.857e-01  0.966 -1.301  0.739 -1.033e+00   0.875   \n",
            "26    0.0  2.468  0.664  1.024e+00  0.317  1.407  0.996 -4.526e-01  -0.500   \n",
            "27    1.0  1.014  0.013 -4.846e-01  0.695  1.701  0.597  7.622e-02   0.143   \n",
            "28    0.0  1.251 -0.750  1.090e+00  0.462 -0.381  0.677  3.396e-01  -0.711   \n",
            "29    1.0  1.114  1.782  1.450e+00  0.653  1.513  0.825  1.851e+00  -0.480   \n",
            "30    1.0  0.657 -0.901 -8.547e-01  1.176  1.487  0.745 -1.236e+00   1.649   \n",
            "31    0.0  1.009 -0.660 -1.539e+00  1.316 -1.693  1.146  2.025e+00   0.137   \n",
            "32    0.0  2.122  0.792  7.234e-01  2.438  1.064  2.692  3.614e-01  -0.993   \n",
            "33    1.0  0.304 -1.425 -1.646e+00  1.166 -1.469  1.458 -4.724e-01   0.510   \n",
            "34    1.0  1.167  0.556 -9.108e-01  0.908  0.051  1.078  3.872e-01   1.253   \n",
            "35    1.0  0.880  0.617 -6.489e-01  1.724  1.104  1.213 -5.763e-01   1.216   \n",
            "36    0.0  0.313  1.256 -9.036e-01  1.002  1.290  1.383  1.295e+00  -1.528   \n",
            "37    0.0  1.263  0.596  4.604e-01  1.063  1.060  0.709 -6.130e-01  -0.688   \n",
            "38    1.0  1.121 -0.379  1.363e+00  1.451  0.782  1.088 -8.031e-01  -0.793   \n",
            "39    0.0  1.205  0.916 -1.209e+00  0.354 -0.706  1.124  1.045e+00   0.787   \n",
            "40    1.0  0.420 -0.722  7.317e-01  0.885 -0.724  0.741  1.244e+00   1.619   \n",
            "41    0.0  1.380  1.427  1.105e+00  1.788  0.982  1.955 -2.050e-01  -0.852   \n",
            "42    1.0  0.704  0.369 -2.300e-01  1.167 -1.430  0.721  1.186e-02   1.508   \n",
            "43    1.0  0.695  0.420  1.203e+00  0.769 -0.911  0.830  1.168e+00   0.076   \n",
            "44    1.0  0.312  1.722  1.411e+00  1.133  1.163  0.756  1.210e+00  -0.700   \n",
            "45    0.0  0.431  0.572 -6.838e-01  2.262  0.155  1.178  1.782e-01  -1.429   \n",
            "46    0.0  0.309 -1.951 -1.229e+00  1.592  0.770  0.633 -1.971e-01  -1.568   \n",
            "47    1.0  0.458  0.129 -5.190e-01  1.195  0.737  0.534 -1.316e+00  -1.729   \n",
            "48    0.0  0.637 -0.037 -1.732e+00  1.254 -0.425  0.486  9.009e-02   0.024   \n",
            "49    1.0  0.976  0.291 -1.128e+00  0.668 -0.540  0.950  2.026e+00   1.060   \n",
            "50    1.0  0.535 -1.391 -8.253e-01  1.343 -1.449  1.111 -8.516e-01  -0.484   \n",
            "51    0.0  2.638  1.289 -2.804e-01  0.991  0.872  1.152 -7.021e-01   1.551   \n",
            "52    0.0  1.541  0.058  1.227e+00  1.217  0.660  0.524  1.040e+00  -0.640   \n",
            "53    0.0  2.559 -0.021 -1.615e+00  2.095 -1.335  1.720 -6.407e-01   0.033   \n",
            "54    1.0  1.925 -0.859  1.353e+00  1.769 -1.452  0.756 -3.417e-01  -0.809   \n",
            "55    1.0  1.545  0.059 -1.732e+00  1.034  0.807  2.467 -1.237e+00  -0.565   \n",
            "56    0.0  1.200 -1.018 -1.173e+00  0.845 -0.439  0.601 -8.140e-01   1.627   \n",
            "57    0.0  0.609 -0.521  2.873e-01  0.650  0.198  0.511  1.237e+00  -0.670   \n",
            "58    0.0  0.318 -1.381 -2.499e-01  2.482  0.957  1.383  9.648e-04  -0.222   \n",
            "59    1.0  0.947 -0.329 -3.298e-02  0.020 -1.381  1.245  8.654e-01   0.799   \n",
            "60    0.0  1.147  0.502 -1.131e+00  1.237 -1.061  0.869  8.120e-01   0.520   \n",
            "61    1.0  1.028 -0.732  1.243e+00  1.198 -0.032  0.756 -1.491e+00   1.404   \n",
            "62    1.0  0.303  1.225  6.291e-01  1.256 -0.602  0.897  5.288e-01   0.974   \n",
            "63    0.0  0.534 -0.766 -5.335e-01  0.974 -1.501  0.797 -1.574e+00   0.323   \n",
            "64    0.0  0.459 -1.448 -8.581e-01  0.262 -0.304  0.760  1.090e+00  -0.338   \n",
            "65    0.0  1.076  1.912 -6.672e-01  0.618 -0.665  0.496 -1.524e+00   1.127   \n",
            "66    1.0  0.442  1.823 -1.466e+00  0.988 -1.565  1.444 -2.428e+00   0.846   \n",
            "67    1.0  0.575 -0.588  1.555e+00  0.501  0.137  0.407 -1.782e+00   1.262   \n",
            "68    0.0  0.999  1.633  1.532e+00  1.019 -0.793  0.613 -1.713e-01   1.109   \n",
            "69    1.0  1.175 -0.643  9.918e-02  1.273 -0.627  0.584 -1.327e-01  -1.130   \n",
            "70    0.0  0.733 -0.490  1.685e+00  2.278  1.609  1.372 -1.278e+00  -0.212   \n",
            "71    1.0  1.792 -0.344  1.364e-01  0.841 -0.813  1.685  6.248e-01   1.499   \n",
            "72    1.0  0.641  1.633  9.714e-04  1.118  1.010  1.013  7.496e-01   1.516   \n",
            "73    0.0  0.442  0.276  9.293e-01  1.638 -1.072  1.752  4.604e-01  -0.802   \n",
            "74    1.0  1.152  0.873 -1.400e+00  0.290 -0.264  0.831  3.733e-01  -0.288   \n",
            "75    0.0  0.546  0.444 -2.915e-01  1.429 -1.480  1.474  6.595e-01  -1.104   \n",
            "76    1.0  1.274 -0.150 -6.283e-01  1.824 -0.101  2.833  1.929e+00  -1.628   \n",
            "77    1.0  0.625 -0.506  1.263e+00  0.814 -1.314  1.228 -9.249e-01  -0.091   \n",
            "78    0.0  0.667  1.941 -1.878e-01  0.446  0.506  1.049  5.773e-01   1.737   \n",
            "79    1.0  1.864  0.056 -2.904e-01  0.550  0.224  0.604  5.555e-01   0.877   \n",
            "80    0.0  0.732 -0.712 -4.536e-01  0.451 -0.392  1.167  4.476e-01   0.949   \n",
            "81    1.0  1.065 -0.611 -3.753e-01  1.116  0.990  0.582 -1.434e+00  -0.946   \n",
            "82    1.0  0.910 -1.631 -1.251e-01  1.964 -0.646  1.310 -9.269e-01   1.357   \n",
            "83    0.0  0.512  0.589 -1.486e+00  0.552 -0.637  0.439 -9.229e-01  -0.210   \n",
            "84    1.0  1.377 -0.587 -8.686e-01  1.735 -1.399  0.433 -2.773e-01   0.236   \n",
            "85    1.0  1.825  0.661 -8.847e-01  1.030  0.833  1.565  2.020e+00  -0.009   \n",
            "86    1.0  1.477  0.870  3.672e-01  0.643  0.024  0.425  1.406e-01   0.632   \n",
            "87    1.0  1.074 -0.203  9.431e-01  1.242 -1.727  0.952 -8.130e-01  -0.239   \n",
            "88    1.0  0.652  0.084 -2.849e-01  0.344 -0.839  1.105  2.604e-01   1.644   \n",
            "89    1.0  1.748 -1.259 -1.568e+00  1.159 -1.308  2.531 -8.952e-01  -0.116   \n",
            "90    1.0  0.653  0.816  1.491e+00  1.173  0.353  0.999  7.951e-01   0.099   \n",
            "91    1.0  0.603 -1.305 -2.949e-01  1.986 -0.397  1.038  4.585e-01   1.221   \n",
            "92    0.0  0.510 -0.400  1.364e+00  1.352 -0.990  0.630 -4.476e-01   0.685   \n",
            "93    1.0  0.664 -0.216  4.349e-01  1.156  1.437  1.839 -2.034e+00   0.306   \n",
            "94    1.0  1.436  1.090  7.334e-01  0.278 -0.823  2.421  1.483e+00   0.320   \n",
            "95    1.0  0.709  0.850  6.724e-01  0.949 -1.138  1.241  4.169e-01   1.582   \n",
            "96    0.0  1.135  0.285 -1.109e+00  1.089 -0.896  1.103  1.267e-01   0.964   \n",
            "97    1.0  1.124  0.354  3.981e-02  1.132  1.620  0.956  1.375e+00   0.416   \n",
            "98    1.0  0.341 -1.223 -1.373e+00  0.994  0.692  1.086  3.188e-01  -1.186   \n",
            "99    0.0  1.218 -0.308 -1.602e+00  1.532 -1.007  0.556 -5.944e-02   0.820   \n",
            "\n",
            "    J1b-tag  J2_pt  J2_eta  J2_phi  J2b-tag  J3_pt  J3_eta     J3_phi  \\\n",
            "0     2.173  0.813  -0.214   1.271    2.215  0.500  -1.261  7.322e-01   \n",
            "1     0.000  0.852   1.541  -0.820    2.215  0.993   0.356 -2.088e-01   \n",
            "2     0.000  2.423  -0.676   0.736    2.215  1.299  -1.431 -3.647e-01   \n",
            "3     0.000  0.801   1.021   0.971    2.215  0.597  -0.350  6.312e-01   \n",
            "4     2.173  0.755   0.643   1.426    0.000  0.922  -1.190 -1.616e+00   \n",
            "5     2.173  0.510  -1.038   0.708    0.000  0.747  -0.358 -1.647e+00   \n",
            "6     2.173  0.941  -2.654  -0.157    0.000  1.030  -0.176  5.230e-01   \n",
            "7     0.000  2.932   0.567  -0.130    2.215  1.787   0.899  5.852e-01   \n",
            "8     0.000  1.027   0.534   1.180    0.000  2.406   0.088 -9.765e-01   \n",
            "9     0.000  0.745   0.721  -0.376    2.215  0.609   0.308 -1.282e+00   \n",
            "10    2.173  0.621  -0.482  -1.199    0.000  0.983   0.081 -2.903e-01   \n",
            "11    2.173  0.331   1.410  -1.474    0.000  1.283   0.737 -2.254e-01   \n",
            "12    2.173  0.546  -0.308  -0.623    2.215  0.348   1.024  1.841e-01   \n",
            "13    0.000  0.884   1.475  -1.361    1.107  1.587   2.235  7.757e-02   \n",
            "14    0.000  0.653   1.472   1.243    0.000  0.786  -0.044 -1.020e+00   \n",
            "15    0.000  1.415   1.114  -1.449    0.000  1.013  -2.057  1.131e+00   \n",
            "16    0.000  1.301   0.147  -1.119    1.107  0.967  -0.367  1.108e+00   \n",
            "17    2.173  0.219  -1.894  -0.581    0.000  1.246  -0.348 -8.562e-01   \n",
            "18    1.087  1.667   0.656  -1.588    0.000  0.828   1.836  4.082e-01   \n",
            "19    2.173  1.067   0.434   0.681    0.000  1.054   0.004  2.551e-01   \n",
            "20    1.087  0.462   0.133  -0.561    0.000  0.479   1.187  6.578e-01   \n",
            "21    2.173  0.696  -0.469  -1.151    1.107  0.940   0.273  1.641e+00   \n",
            "22    2.173  1.050  -0.041   0.109    2.215  0.943   0.320 -8.578e-01   \n",
            "23    2.173  0.624   2.395   0.523    0.000  1.661   0.266 -2.182e-01   \n",
            "24    2.173  1.170   0.100   0.266    0.000  0.852   0.401 -1.334e+00   \n",
            "25    1.087  1.369  -1.181   0.167    1.107  1.257  -0.122 -1.588e+00   \n",
            "26    0.000  0.348   1.016  -0.161    0.000  0.978  -2.634 -2.853e-01   \n",
            "27    2.173  0.917   0.685   1.713    2.215  0.531  -0.987 -1.654e+00   \n",
            "28    0.000  0.601  -0.461  -1.247    0.000  0.822   0.985 -1.653e+00   \n",
            "29    0.000  0.846   1.158   0.514    2.215  0.520   2.685  1.542e+00   \n",
            "30    2.173  0.661  -2.099   0.137    0.000  1.780  -1.036 -2.127e-01   \n",
            "31    0.000  1.063  -0.539   1.052    2.215  1.124   0.548 -8.872e-01   \n",
            "32    2.173  1.725   1.204   0.488    2.215  0.267  -0.767 -1.134e+00   \n",
            "33    2.173  0.867  -0.309  -1.605    0.000  1.317   0.136 -3.319e-01   \n",
            "34    0.000  1.213   0.155  -0.673    2.215  0.489  -1.384  7.039e-01   \n",
            "35    2.173  0.782  -0.913  -0.102    0.000  1.183  -0.576 -7.835e-01   \n",
            "36    2.173  1.160  -0.765   0.080    1.107  1.060   2.309 -3.397e-01   \n",
            "37    0.000  1.464   1.079   1.174    2.215  1.411   0.369 -5.960e-01   \n",
            "38    1.087  0.515   0.368  -0.665    0.000  0.708  -1.372  1.449e+00   \n",
            "39    0.000  0.489  -0.457  -1.033    2.215  0.388   1.276  4.603e-04   \n",
            "40    0.000  1.248   0.281   0.076    2.215  1.085   0.331  1.242e+00   \n",
            "41    1.087  0.901  -0.193   0.854    0.000  1.172   0.352 -5.122e-01   \n",
            "42    2.173  0.683   0.028   0.688    2.215  1.013  -0.764 -2.221e-01   \n",
            "43    0.000  0.394   0.392   0.510    2.215  0.747   1.559  8.353e-01   \n",
            "44    2.173  0.755  -0.053  -0.139    2.215  0.812  -0.193  1.153e+00   \n",
            "45    2.173  0.463   0.649   0.544    2.215  0.757   0.955  1.552e+00   \n",
            "46    1.087  0.898  -1.885  -0.257    0.000  0.897  -0.933  9.308e-01   \n",
            "47    0.000  0.687   0.351   1.103    2.215  0.911   1.049 -2.188e-01   \n",
            "48    2.173  0.675  -1.119   1.644    0.000  0.494  -2.085  5.441e-01   \n",
            "49    0.000  0.678  -0.571   1.307    2.215  1.199   1.293 -2.726e-01   \n",
            "50    0.000  1.677  -0.700   1.069    2.215  0.623   0.018 -1.653e+00   \n",
            "51    2.173  0.643  -0.767  -1.689    0.000  0.747  -2.603  9.069e-01   \n",
            "52    0.000  0.709  -0.226  -0.727    2.215  0.543   1.360  1.720e+00   \n",
            "53    2.173  0.737  -0.414  -0.379    0.000  1.158  -0.598 -1.608e+00   \n",
            "54    2.173  1.734  -0.850   0.151    0.000  0.944  -0.376  9.319e-01   \n",
            "55    0.000  1.933   2.370  -1.639    0.000  3.921  -0.645  7.266e-01   \n",
            "56    0.000  0.706  -1.103   0.845    0.000  1.111  -0.536  4.237e-01   \n",
            "57    2.173  0.648  -1.193  -1.686    2.215  0.364   1.444  6.370e-02   \n",
            "58    2.173  1.045  -1.565   1.525    2.215  0.904   2.253  1.645e+00   \n",
            "59    2.173  1.130  -0.013  -1.688    0.000  1.371   0.681 -9.310e-01   \n",
            "60    0.000  1.011   0.808   1.346    2.215  0.635   1.284 -1.383e-01   \n",
            "61    0.000  1.343  -1.475  -0.263    2.215  0.483  -2.591  1.686e+00   \n",
            "62    2.173  0.913  -0.667  -0.299    2.215  0.991   0.560  1.376e+00   \n",
            "63    2.173  1.137   0.271  -0.998    2.215  2.434   2.003  1.210e+00   \n",
            "64    2.173  1.076  -1.079   1.151    2.215  0.357  -0.614  1.522e+00   \n",
            "65    0.000  0.944  -0.870   0.103    2.215  0.935   1.243  1.271e+00   \n",
            "66    0.000  2.252   0.525  -0.141    1.107  2.366   0.328 -1.663e+00   \n",
            "67    0.000  0.348  -1.980   0.111    0.000  0.942  -0.695 -1.028e+00   \n",
            "68    1.087  0.817   0.619   0.904    0.000  1.225   0.506 -2.443e-01   \n",
            "69    0.000  0.561   0.226   1.221    0.000  1.565   1.090  1.382e+00   \n",
            "70    0.000  1.102   0.960   1.197    2.215  1.219  -0.308 -1.749e-01   \n",
            "71    0.000  0.548   0.587  -1.315    0.000  0.806   2.248 -1.600e-01   \n",
            "72    0.000  1.438   0.526   0.358    2.215  1.649   0.175 -9.150e-01   \n",
            "73    2.173  1.436  -2.551   0.752    0.000  1.424   0.493  5.874e-01   \n",
            "74    0.000  1.157   0.599   0.723    2.215  1.550   0.878  1.527e+00   \n",
            "75    2.173  2.622   0.481   0.538    0.000  0.685  -0.777  1.058e+00   \n",
            "76    0.000  1.361   0.040   0.111    2.215  2.690   0.230  5.735e-01   \n",
            "77    0.000  1.217   0.430   1.588    2.215  0.976   0.010 -2.909e-01   \n",
            "78    1.087  1.508   0.766  -0.323    2.215  0.930   0.075  1.093e+00   \n",
            "79    0.000  1.060  -0.375   1.727    2.215  0.824  -1.420 -4.850e-01   \n",
            "80    2.173  0.920   0.120   1.609    0.000  0.926   1.528 -6.659e-01   \n",
            "81    0.000  0.986  -0.550  -1.030    0.000  1.145   1.286  1.303e-01   \n",
            "82    2.173  0.445  -0.372   0.368    0.000  1.188  -1.481  5.946e-01   \n",
            "83    2.173  1.266   0.445   1.368    2.215  0.366   0.425 -5.234e-02   \n",
            "84    2.173  0.921   0.321   1.152    1.107  0.330  -0.051  1.366e+00   \n",
            "85    0.000  1.341   0.817   1.398    1.107  1.286   0.089 -1.706e+00   \n",
            "86    0.000  1.340   0.221  -1.515    0.000  0.334   0.049 -1.312e+00   \n",
            "87    2.173  0.629  -1.616   1.494    0.000  0.759  -0.793 -1.276e+00   \n",
            "88    2.173  0.700   0.765  -0.311    1.107  0.762   1.143  7.449e-01   \n",
            "89    2.173  1.097  -0.529   1.515    1.107  1.602   0.505  1.042e+00   \n",
            "90    2.173  1.032   1.716  -0.995    0.000  1.052   0.893 -1.388e+00   \n",
            "91    2.173  0.430   0.015   1.719    2.215  0.470   0.031 -5.433e-01   \n",
            "92    2.173  0.594  -0.795  -0.770    2.215  0.600   0.602  8.009e-01   \n",
            "93    0.000  2.575   0.989  -1.165    2.215  1.506   1.083 -1.623e+00   \n",
            "94    0.000  2.447  -1.403  -1.503    2.215  2.000   2.287 -1.506e+00   \n",
            "95    2.173  0.957   0.470  -0.037    2.215  0.877   0.102  6.611e-01   \n",
            "96    0.000  0.731  -0.489   0.048    2.215  0.754   0.464  3.805e-01   \n",
            "97    0.000  1.543   0.437  -0.805    2.215  1.724   1.678 -1.636e+00   \n",
            "98    0.000  1.213   1.562   0.163    2.215  1.057   0.491  1.657e+00   \n",
            "99    2.173  0.840  -1.431   0.502    0.000  0.463  -0.801 -2.149e-01   \n",
            "\n",
            "    J3b-tag  J4_pt  J4_eta     J4_phi  J4b-tag   m_jj  m_jjj   m_lv  m_jlv  \\\n",
            "0     0.000  0.399  -1.139 -8.191e-04    0.000  0.302  0.833  0.986  0.978   \n",
            "1     2.548  1.257   1.129  9.005e-01    0.000  0.910  1.108  0.986  0.951   \n",
            "2     0.000  0.745  -0.678 -1.360e+00    0.000  0.947  1.029  0.999  0.728   \n",
            "3     0.000  0.480  -0.374  1.130e-01    0.000  0.756  1.361  0.987  0.838   \n",
            "4     0.000  0.651  -0.654 -1.274e+00    3.102  0.824  0.938  0.972  0.789   \n",
            "5     0.000  0.367   0.069  1.377e+00    3.102  0.869  1.222  1.001  0.545   \n",
            "6     2.548  1.374   1.291 -1.467e+00    0.000  0.902  1.084  0.980  0.783   \n",
            "7     2.548  0.402  -0.151  1.163e+00    0.000  1.667  4.039  1.176  1.045   \n",
            "8     2.548  1.250   0.269  5.303e-01    0.000  0.833  0.774  0.986  1.104   \n",
            "9     0.000  1.598  -0.451  6.365e-02    3.102  0.829  0.981  0.994  0.908   \n",
            "10    0.000  1.065   0.774  3.988e-01    3.102  0.945  1.026  0.982  0.542   \n",
            "11    0.000  1.560   0.847  5.048e-01    3.102  0.959  0.807  1.192  1.221   \n",
            "12    0.000  0.781  -1.636  1.144e+00    0.000  0.522  0.738  0.986  1.350   \n",
            "13    0.000  1.609   2.396  7.573e-01    0.000  0.934  0.845  1.078  1.400   \n",
            "14    2.548  0.419  -0.629  1.571e+00    3.102  0.689  0.867  1.082  0.664   \n",
            "15    0.000  0.905   2.182  1.043e+00    0.000  1.654  0.994  0.983  0.741   \n",
            "16    0.000  0.555  -0.714  1.505e+00    3.102  0.954  0.651  1.125  0.894   \n",
            "17    2.548  0.753  -1.146 -1.375e+00    0.000  0.907  0.898  1.120  1.269   \n",
            "18    0.000  1.709  -0.347 -1.183e+00    3.102  0.921  1.373  0.985  1.423   \n",
            "19    0.000  0.743   1.208 -1.151e+00    0.000  0.709  0.522  1.054  1.273   \n",
            "20    0.000  0.670   1.007  5.477e-02    3.102  0.782  0.672  0.990  0.734   \n",
            "21    0.000  0.720   1.106  7.273e-01    0.000  1.007  0.868  0.999  1.110   \n",
            "22    0.000  0.628  -0.325  1.217e+00    0.000  0.873  0.873  0.976  1.373   \n",
            "23    2.548  0.947  -0.077  2.845e-01    0.000  1.675  1.414  0.988  1.333   \n",
            "24    0.000  1.370   0.960 -6.323e-01    0.000  0.890  0.938  1.745  0.974   \n",
            "25    0.000  0.600   0.611  1.158e-01    0.000  1.048  1.106  0.993  1.132   \n",
            "26    0.000  1.245  -0.472  1.464e+00    3.102  1.006  0.795  0.996  0.945   \n",
            "27    0.000  0.963   1.295  2.640e-01    0.000  1.576  1.067  1.072  0.806   \n",
            "28    0.000  0.754  -0.907  2.790e-01    3.102  0.848  0.842  1.021  0.666   \n",
            "29    0.000  1.042   0.549 -4.625e-01    1.551  1.321  1.037  0.997  0.824   \n",
            "30    0.000  1.236  -0.185  7.839e-01    3.102  0.861  1.016  1.045  0.759   \n",
            "31    2.548  1.017  -0.057  1.724e-01    0.000  1.076  0.939  0.974  0.932   \n",
            "32    0.000  1.372   0.601 -5.685e-01    0.000  0.727  0.981  0.989  2.837   \n",
            "33    2.548  0.853   0.744 -1.365e+00    0.000  0.760  0.980  0.986  1.376   \n",
            "34    0.000  1.348   0.692 -1.502e+00    3.102  0.868  0.829  1.087  0.782   \n",
            "35    0.000  0.432   1.286 -2.045e-01    0.000  0.879  0.616  1.706  1.435   \n",
            "36    0.000  0.852   1.129  3.777e-01    0.000  0.911  1.480  0.988  1.000   \n",
            "37    1.274  0.611   0.293 -8.937e-01    0.000  1.175  1.244  0.988  0.905   \n",
            "38    0.000  0.579   0.441  2.379e-01    3.102  1.336  0.869  0.984  1.459   \n",
            "39    0.000  0.443  -0.889  1.403e+00    0.000  0.842  0.653  0.986  0.500   \n",
            "40    0.000  1.025   0.086 -9.553e-01    1.551  0.919  0.927  0.989  0.744   \n",
            "41    1.274  0.445  -0.158  1.421e+00    0.000  0.403  0.882  1.000  2.450   \n",
            "42    0.000  0.930   0.082 -7.533e-01    0.000  0.865  0.748  1.107  0.835   \n",
            "43    0.000  1.090  -0.422 -1.161e+00    3.102  0.973  0.654  0.987  0.688   \n",
            "44    0.000  0.847   1.298  1.682e+00    0.000  1.010  1.000  0.996  1.118   \n",
            "45    0.000  0.658   1.073  1.064e+00    0.000  0.344  0.840  0.986  0.580   \n",
            "46    2.548  1.280  -0.431 -7.993e-01    0.000  0.921  0.862  0.990  0.812   \n",
            "47    2.548  0.808  -1.014 -3.671e-01    0.000  0.888  1.371  0.984  0.871   \n",
            "48    0.000  0.386  -0.239  1.092e+00    0.000  0.913  0.912  1.144  0.698   \n",
            "49    0.000  0.602   1.124  8.250e-01    3.102  1.891  1.026  0.990  0.814   \n",
            "50    0.000  0.925   0.350  1.691e-01    0.000  0.852  1.025  0.986  1.447   \n",
            "51    0.000  1.259   0.986 -7.594e-01    0.000  0.889  0.937  1.931  2.569   \n",
            "52    0.000  0.981   0.326 -4.292e-01    3.102  0.842  0.839  0.988  0.882   \n",
            "53    2.548  0.847   1.549  8.466e-01    0.000  0.980  0.951  1.004  0.748   \n",
            "54    0.000  0.606   0.624 -1.039e+00    0.000  0.964  0.931  1.474  1.062   \n",
            "55    2.548  1.843  -0.219 -5.269e-01    3.102  2.292  2.692  1.319  1.447   \n",
            "56    2.548  1.038  -0.456 -6.295e-01    3.102  0.923  0.890  0.990  0.887   \n",
            "57    0.000  0.451   1.152  6.774e-01    0.000  0.433  0.925  0.983  0.770   \n",
            "58    0.000  1.349  -0.541 -1.383e+00    0.000  0.992  2.146  1.091  0.821   \n",
            "59    0.000  0.982   0.958  1.926e-02    0.000  1.001  0.587  0.525  0.860   \n",
            "60    0.000  0.538   0.612  1.236e-01    3.102  0.848  0.987  0.993  0.677   \n",
            "61    0.000  0.707  -0.687 -1.342e+00    1.551  0.831  0.686  1.402  1.093   \n",
            "62    0.000  0.534  -1.176 -6.717e-01    0.000  0.771  1.006  0.988  0.700   \n",
            "63    0.000  1.956   0.216 -2.722e-01    0.000  3.588  2.573  0.989  1.251   \n",
            "64    0.000  0.506   1.609 -1.293e+00    0.000  0.842  0.866  0.988  0.935   \n",
            "65    2.548  1.235  -0.512 -1.578e+00    0.000  0.961  1.036  0.975  0.872   \n",
            "66    0.000  1.064  -0.091 -7.877e-01    0.000  0.657  0.900  0.991  0.834   \n",
            "67    2.548  0.607   0.406 -6.667e-01    3.102  0.695  0.884  0.987  0.705   \n",
            "68    0.000  1.189   1.033  5.531e-01    0.000  0.992  0.948  1.211  1.278   \n",
            "69    2.548  0.522   0.666  6.236e-01    0.000  0.936  1.043  1.030  0.500   \n",
            "70    2.548  0.483  -0.242 -9.164e-01    0.000  0.982  0.782  0.988  1.978   \n",
            "71    0.000  1.011   1.329 -2.849e-01    3.102  1.160  0.878  1.283  1.102   \n",
            "72    0.000  1.605  -0.493 -8.643e-01    1.551  0.845  0.645  0.987  0.815   \n",
            "73    0.000  1.545   0.634  1.463e+00    3.102  0.521  0.675  1.148  0.917   \n",
            "74    1.274  1.283   0.871 -7.144e-01    0.000  0.798  1.181  0.988  0.758   \n",
            "75    2.548  0.564  -1.013 -1.035e+00    0.000  0.413  1.265  1.073  0.854   \n",
            "76    1.274  0.776   0.382 -1.153e+00    0.000  2.074  3.255  0.990  1.344   \n",
            "77    2.548  0.518  -1.251  1.275e-01    0.000  0.921  0.750  0.986  0.647   \n",
            "78    0.000  0.677  -0.442 -8.859e-01    0.000  0.930  1.235  0.988  0.754   \n",
            "79    0.000  0.817   0.925  1.318e+00    0.000  0.510  0.916  0.990  0.821   \n",
            "80    2.548  0.615   0.689 -6.872e-01    0.000  0.930  0.983  0.987  1.117   \n",
            "81    0.000  1.169   0.648  1.056e+00    3.102  0.936  0.946  1.424  0.845   \n",
            "82    0.000  1.407  -0.139 -1.529e+00    3.102  0.984  0.993  0.996  1.619   \n",
            "83    0.000  0.641  -0.054  6.857e-01    0.000  0.360  0.633  0.983  0.645   \n",
            "84    0.000  1.935  -2.212  2.758e-02    0.000  0.635  0.758  0.988  0.980   \n",
            "85    0.000  1.295   1.032 -1.295e+00    0.000  1.000  0.904  1.900  1.043   \n",
            "86    2.548  1.172   1.080 -1.022e+00    3.102  1.499  1.109  0.984  0.654   \n",
            "87    2.548  0.668  -0.085 -8.321e-01    0.000  0.921  0.765  1.075  0.735   \n",
            "88    0.000  0.977   1.361  1.302e-01    0.000  0.532  1.219  0.991  0.562   \n",
            "89    0.000  0.954  -0.732 -1.359e+00    0.000  1.553  1.095  0.985  2.288   \n",
            "90    0.000  1.044  -0.757 -1.378e+00    0.000  0.849  1.122  1.037  0.773   \n",
            "91    0.000  0.524  -1.371  5.148e-01    0.000  0.682  1.045  0.984  1.363   \n",
            "92    0.000  0.456  -0.936  1.413e+00    0.000  0.659  0.725  0.988  0.901   \n",
            "93    0.000  0.631   0.661  6.735e-01    3.102  0.839  0.945  0.988  0.541   \n",
            "94    0.000  2.205   1.306 -2.211e-01    0.000  1.660  2.246  0.983  2.974   \n",
            "95    0.000  1.705   1.461 -7.588e-01    0.000  0.972  0.856  1.134  0.950   \n",
            "96    0.000  0.715  -1.183 -9.564e-01    1.551  0.883  0.926  0.987  1.058   \n",
            "97    0.000  2.128  -0.175  1.562e+00    0.000  0.852  1.251  1.546  0.743   \n",
            "98    2.548  0.565   1.305  4.260e-01    0.000  1.430  0.975  0.988  1.257   \n",
            "99    2.548  0.407  -1.488  8.111e-01    0.000  0.627  0.812  0.989  0.704   \n",
            "\n",
            "     m_bb  m_wbb  m_wwbb  \n",
            "0   0.780  0.992   0.798  \n",
            "1   0.803  0.866   0.780  \n",
            "2   0.869  1.027   0.958  \n",
            "3   1.133  0.872   0.808  \n",
            "4   0.431  0.961   0.958  \n",
            "5   0.699  0.977   0.829  \n",
            "6   0.849  0.894   0.775  \n",
            "7   1.543  3.535   2.741  \n",
            "8   0.849  0.937   0.812  \n",
            "9   0.776  0.783   0.725  \n",
            "10  1.251  0.830   0.761  \n",
            "11  0.861  0.929   0.838  \n",
            "12  0.813  0.953   0.780  \n",
            "13  0.948  1.008   0.901  \n",
            "14  0.354  0.580   0.817  \n",
            "15  0.163  0.592   0.745  \n",
            "16  0.672  1.182   1.316  \n",
            "17  1.089  1.015   0.915  \n",
            "18  1.547  1.783   1.438  \n",
            "19  0.835  0.935   0.865  \n",
            "20  0.379  0.765   0.643  \n",
            "21  1.125  0.883   0.859  \n",
            "22  0.888  1.207   0.999  \n",
            "23  2.004  1.551   1.217  \n",
            "24  0.677  1.136   0.973  \n",
            "25  0.892  0.974   0.951  \n",
            "26  0.322  0.735   1.470  \n",
            "27  1.130  0.838   0.752  \n",
            "28  0.411  0.607   0.638  \n",
            "29  0.692  0.804   0.831  \n",
            "30  0.898  0.849   0.765  \n",
            "31  1.346  0.854   0.822  \n",
            "32  3.398  2.152   1.568  \n",
            "33  1.309  1.081   0.957  \n",
            "34  0.878  0.642   0.621  \n",
            "35  0.598  0.911   1.007  \n",
            "36  2.976  1.837   1.444  \n",
            "37  1.623  1.442   1.222  \n",
            "38  0.905  0.950   0.863  \n",
            "39  0.532  0.580   0.589  \n",
            "40  0.824  0.923   0.798  \n",
            "41  0.804  1.608   1.272  \n",
            "42  0.696  0.681   0.604  \n",
            "43  0.652  0.784   0.703  \n",
            "44  0.931  0.860   0.794  \n",
            "45  1.096  0.957   0.821  \n",
            "46  0.831  1.026   0.895  \n",
            "47  0.852  1.238   1.006  \n",
            "48  0.525  0.741   0.726  \n",
            "49  0.693  1.131   1.181  \n",
            "50  0.755  1.273   1.138  \n",
            "51  0.709  1.666   1.322  \n",
            "52  0.311  0.754   0.792  \n",
            "53  1.751  1.606   1.295  \n",
            "54  0.530  0.907   0.819  \n",
            "55  1.914  3.176   2.387  \n",
            "56  0.667  0.658   0.694  \n",
            "57  1.497  0.925   0.731  \n",
            "58  2.375  2.313   2.267  \n",
            "59  0.892  0.820   0.697  \n",
            "60  0.595  0.704   0.778  \n",
            "61  0.791  0.829   0.856  \n",
            "62  1.491  0.876   0.757  \n",
            "63  1.990  2.742   2.023  \n",
            "64  2.209  1.120   0.920  \n",
            "65  1.634  1.178   1.285  \n",
            "66  1.460  1.053   0.845  \n",
            "67  0.428  0.634   0.590  \n",
            "68  0.973  1.015   0.924  \n",
            "69  1.077  1.064   0.882  \n",
            "70  1.458  1.476   1.445  \n",
            "71  0.299  0.793   1.010  \n",
            "72  1.472  1.009   0.965  \n",
            "73  1.574  1.078   0.926  \n",
            "74  0.975  0.987   0.872  \n",
            "75  1.565  0.917   0.799  \n",
            "76  0.851  2.496   2.299  \n",
            "77  1.177  1.064   0.929  \n",
            "78  1.785  1.221   1.047  \n",
            "79  0.441  0.842   0.785  \n",
            "80  1.539  0.967   0.852  \n",
            "81  0.724  0.728   0.717  \n",
            "82  0.930  1.159   0.979  \n",
            "83  1.362  0.814   0.639  \n",
            "84  0.740  0.923   0.794  \n",
            "85  0.663  0.883   0.810  \n",
            "86  0.340  0.633   0.750  \n",
            "87  0.852  0.866   0.765  \n",
            "88  1.316  0.871   0.769  \n",
            "89  2.479  1.717   1.644  \n",
            "90  1.037  1.016   0.879  \n",
            "91  0.480  1.875   1.364  \n",
            "92  0.886  0.668   0.599  \n",
            "93  1.154  0.998   0.837  \n",
            "94  1.665  3.841   2.825  \n",
            "95  1.595  1.049   0.923  \n",
            "96  0.600  0.887   0.971  \n",
            "97  0.139  0.718   0.746  \n",
            "98  1.353  1.040   0.963  \n",
            "99  0.573  0.709   0.765  \n"
          ]
        }
      ]
    },
    {
      "cell_type": "code",
      "execution_count": null,
      "metadata": {
        "colab": {
          "base_uri": "https://localhost:8080/"
        },
        "id": "425BJ3rOtQwJ",
        "outputId": "451a85cc-49d6-4691-bf9b-d0533055871f"
      },
      "outputs": [
        {
          "output_type": "execute_result",
          "data": {
            "text/plain": [
              "(10999999, 29)"
            ]
          },
          "metadata": {},
          "execution_count": 9
        }
      ],
      "source": [
        "data_n.shape"
      ]
    },
    {
      "cell_type": "code",
      "execution_count": null,
      "metadata": {
        "colab": {
          "base_uri": "https://localhost:8080/"
        },
        "id": "H9R-88RctSQK",
        "outputId": "cfb1d4c5-3ea0-47ab-9c13-85b1196c9aa9"
      },
      "outputs": [
        {
          "output_type": "stream",
          "name": "stdout",
          "text": [
            "<class 'pandas.core.frame.DataFrame'>\n",
            "RangeIndex: 10999999 entries, 0 to 10999998\n",
            "Data columns (total 29 columns):\n",
            " #   Column   Dtype  \n",
            "---  ------   -----  \n",
            " 0   label    float64\n",
            " 1   L_pT     float64\n",
            " 2   L_eta    float64\n",
            " 3   L_phi    float64\n",
            " 4   E_T      float64\n",
            " 5   E_phi    float64\n",
            " 6   J1_pt    float64\n",
            " 7   J1_eta   float64\n",
            " 8   J1_phi   float64\n",
            " 9   J1b-tag  float64\n",
            " 10  J2_pt    float64\n",
            " 11  J2_eta   float64\n",
            " 12  J2_phi   float64\n",
            " 13  J2b-tag  float64\n",
            " 14  J3_pt    float64\n",
            " 15  J3_eta   float64\n",
            " 16  J3_phi   float64\n",
            " 17  J3b-tag  float64\n",
            " 18  J4_pt    float64\n",
            " 19  J4_eta   float64\n",
            " 20  J4_phi   float64\n",
            " 21  J4b-tag  float64\n",
            " 22  m_jj     float64\n",
            " 23  m_jjj    float64\n",
            " 24  m_lv     float64\n",
            " 25  m_jlv    float64\n",
            " 26  m_bb     float64\n",
            " 27  m_wbb    float64\n",
            " 28  m_wwbb   float64\n",
            "dtypes: float64(29)\n",
            "memory usage: 2.4 GB\n"
          ]
        }
      ],
      "source": [
        "data_n.info()"
      ]
    },
    {
      "cell_type": "code",
      "source": [
        "cor_matr = data_n.corr()"
      ],
      "metadata": {
        "id": "H7cw-6GKsnzd"
      },
      "execution_count": null,
      "outputs": []
    },
    {
      "cell_type": "code",
      "source": [
        "with pd.option_context('display.max_rows', None,\n",
        "                       'display.max_columns', None,\n",
        "                       'display.precision', 5,\n",
        "                       ):\n",
        "    print(cor_matr.head(100))"
      ],
      "metadata": {
        "colab": {
          "base_uri": "https://localhost:8080/"
        },
        "id": "FhUQairKuNE7",
        "outputId": "ad7507c5-8d4b-497f-bfe4-4549b200dbd6"
      },
      "execution_count": null,
      "outputs": [
        {
          "output_type": "stream",
          "name": "stdout",
          "text": [
            "               label     L_pT    L_eta    L_phi      E_T        E_phi  \\\n",
            "label    1.00000e+00 -0.04860 -0.00013  0.00064 -0.10000 -5.38569e-04   \n",
            "L_pT    -4.85989e-02  1.00000 -0.00015 -0.00018 -0.13953  2.31627e-04   \n",
            "L_eta   -1.34044e-04 -0.00015  1.00000  0.00042 -0.00044  1.60602e-04   \n",
            "L_phi    6.42734e-04 -0.00018  0.00042  1.00000 -0.00001 -4.45178e-02   \n",
            "E_T     -9.99993e-02 -0.13953 -0.00044 -0.00001  1.00000 -2.32150e-04   \n",
            "E_phi   -5.38569e-04  0.00023  0.00016 -0.04452 -0.00023  1.00000e+00   \n",
            "J1_pt    5.69077e-02  0.16580 -0.00040 -0.00013  0.19916  1.18457e-04   \n",
            "J1_eta  -2.56925e-06 -0.00013  0.26480  0.00079 -0.00012 -6.42440e-04   \n",
            "J1_phi   4.30695e-04 -0.00033 -0.00019 -0.16788 -0.00004 -1.54905e-01   \n",
            "J1b-tag -9.73110e-03 -0.00626  0.00027 -0.00018 -0.03037  9.72486e-07   \n",
            "J2_pt    2.18906e-02  0.00461  0.00012 -0.00024  0.03950  3.98777e-04   \n",
            "J2_eta  -1.83454e-04  0.00003  0.26461  0.00042  0.00018 -1.18653e-04   \n",
            "J2_phi  -7.34346e-04  0.00007 -0.00042 -0.09368  0.00001 -6.43725e-02   \n",
            "J2b-tag -4.99853e-02 -0.00563 -0.00026  0.00003 -0.00520 -3.12652e-04   \n",
            "J3_pt    1.48653e-02 -0.01119  0.00045 -0.00007  0.01968  6.67929e-05   \n",
            "J3_eta  -2.08267e-04  0.00057  0.22618  0.00067 -0.00053 -4.34860e-04   \n",
            "J3_phi  -2.67626e-04  0.00015 -0.00034 -0.08251  0.00009 -5.27100e-02   \n",
            "J3b-tag -2.39262e-02  0.00583  0.00009 -0.00016  0.01064  3.37123e-04   \n",
            "J4_pt    3.71399e-02 -0.01961  0.00015 -0.00011  0.00458  2.46013e-05   \n",
            "J4_eta  -3.44116e-04  0.00009  0.17770  0.00098 -0.00002 -4.75277e-04   \n",
            "J4_phi   4.32393e-04 -0.00005  0.00030 -0.06501 -0.00016 -3.86333e-02   \n",
            "J4b-tag  1.50572e-02  0.00014 -0.00015 -0.00023  0.00967  2.04485e-04   \n",
            "m_jj     1.28523e-02  0.02651  0.00031  0.00036  0.03413 -2.41218e-05   \n",
            "m_jjj    2.55446e-02  0.01784 -0.00013  0.00018  0.03277  3.55203e-04   \n",
            "m_lv     1.09987e-02  0.27233 -0.00027 -0.00079  0.17190  5.83453e-04   \n",
            "m_jlv   -3.09109e-02  0.13223  0.00006  0.00041  0.28052  6.02775e-05   \n",
            "m_bb    -1.52094e-01  0.00764  0.00014 -0.00025  0.02593  6.62419e-04   \n",
            "m_wbb   -6.55902e-02  0.09584 -0.00001  0.00021  0.21395  4.26596e-04   \n",
            "m_wwbb  -1.23266e-01  0.14117  0.00007  0.00032  0.29866  3.29081e-04   \n",
            "\n",
            "           J1_pt       J1_eta   J1_phi      J1b-tag    J2_pt   J2_eta  \\\n",
            "label    0.05691 -2.56925e-06  0.00043 -9.73110e-03  0.02189 -0.00018   \n",
            "L_pT     0.16580 -1.34820e-04 -0.00033 -6.26473e-03  0.00461  0.00003   \n",
            "L_eta   -0.00040  2.64797e-01 -0.00019  2.74915e-04  0.00012  0.26461   \n",
            "L_phi   -0.00013  7.93064e-04 -0.16788 -1.77995e-04 -0.00024  0.00042   \n",
            "E_T      0.19916 -1.18628e-04 -0.00004 -3.03676e-02  0.03950  0.00018   \n",
            "E_phi    0.00012 -6.42440e-04 -0.15491  9.72486e-07  0.00040 -0.00012   \n",
            "J1_pt    1.00000 -3.28623e-04 -0.00011 -1.56366e-02  0.48761  0.00003   \n",
            "J1_eta  -0.00033  1.00000e+00  0.00011 -9.00209e-06 -0.00042  0.24648   \n",
            "J1_phi  -0.00011  1.05731e-04  1.00000  5.69328e-05 -0.00031 -0.00013   \n",
            "J1b-tag -0.01564 -9.00209e-06  0.00006  1.00000e+00 -0.13635  0.00022   \n",
            "J2_pt    0.48761 -4.16371e-04 -0.00031 -1.36351e-01  1.00000 -0.00050   \n",
            "J2_eta   0.00003  2.46482e-01 -0.00013  2.19661e-04 -0.00050  1.00000   \n",
            "J2_phi  -0.00006  4.34213e-04 -0.19803 -7.56862e-04 -0.00013  0.00006   \n",
            "J2b-tag -0.03211 -1.04977e-04  0.00061 -2.59127e-01  0.14010  0.00028   \n",
            "J3_pt    0.26788  3.30805e-04  0.00006 -1.48107e-01  0.29492 -0.00004   \n",
            "J3_eta  -0.00021  2.30847e-01 -0.00019 -1.31648e-04 -0.00015  0.21435   \n",
            "J3_phi   0.00021 -5.91726e-05 -0.13338  2.77269e-04  0.00053  0.00055   \n",
            "J3b-tag -0.02511  3.55893e-04 -0.00061 -2.56531e-01 -0.04563  0.00043   \n",
            "J4_pt    0.16458  1.85635e-04  0.00018 -1.47732e-01  0.18635 -0.00031   \n",
            "J4_eta   0.00009  1.91889e-01 -0.00005 -1.70045e-04 -0.00004  0.17481   \n",
            "J4_phi  -0.00017 -2.79830e-04 -0.10178 -2.74989e-04 -0.00011 -0.00022   \n",
            "J4b-tag -0.00555 -6.99205e-05  0.00027 -2.34233e-01 -0.02735 -0.00049   \n",
            "m_jj     0.18694  5.07799e-04 -0.00007 -1.15780e-01  0.18387  0.00004   \n",
            "m_jjj    0.26144  5.47079e-04 -0.00013 -7.06046e-02  0.26269 -0.00033   \n",
            "m_lv     0.01828  5.84935e-04 -0.00020  4.28163e-04  0.00176 -0.00024   \n",
            "m_jlv    0.27814  2.33234e-04 -0.00055  1.32221e-01  0.20404  0.00077   \n",
            "m_bb     0.33509  2.70690e-05 -0.00042  2.70451e-01  0.37173 -0.00002   \n",
            "m_wbb    0.48074  5.27616e-04 -0.00017  1.11227e-01  0.43251  0.00015   \n",
            "m_wwbb   0.45024  3.28894e-04 -0.00016  3.05037e-03  0.38374  0.00006   \n",
            "\n",
            "              J2_phi  J2b-tag    J3_pt   J3_eta   J3_phi  J3b-tag    J4_pt  \\\n",
            "label   -7.34346e-04 -0.04999  0.01487 -0.00021 -0.00027 -0.02393  0.03714   \n",
            "L_pT     7.14273e-05 -0.00563 -0.01119  0.00057  0.00015  0.00583 -0.01961   \n",
            "L_eta   -4.17994e-04 -0.00026  0.00045  0.22618 -0.00034  0.00009  0.00015   \n",
            "L_phi   -9.36805e-02  0.00003 -0.00007  0.00067 -0.08251 -0.00016 -0.00011   \n",
            "E_T      1.31108e-05 -0.00520  0.01968 -0.00053  0.00009  0.01064  0.00458   \n",
            "E_phi   -6.43725e-02 -0.00031  0.00007 -0.00043 -0.05271  0.00034  0.00002   \n",
            "J1_pt   -6.34430e-05 -0.03211  0.26788 -0.00021  0.00021 -0.02511  0.16458   \n",
            "J1_eta   4.34213e-04 -0.00010  0.00033  0.23085 -0.00006  0.00036  0.00019   \n",
            "J1_phi  -1.98034e-01  0.00061  0.00006 -0.00019 -0.13338 -0.00061  0.00018   \n",
            "J1b-tag -7.56862e-04 -0.25913 -0.14811 -0.00013  0.00028 -0.25653 -0.14773   \n",
            "J2_pt   -1.34599e-04  0.14010  0.29492 -0.00015  0.00053 -0.04563  0.18635   \n",
            "J2_eta   6.34553e-05  0.00028 -0.00004  0.21435  0.00055  0.00043 -0.00031   \n",
            "J2_phi   1.00000e+00 -0.00016  0.00006  0.00006 -0.08927  0.00082  0.00027   \n",
            "J2b-tag -1.60897e-04  1.00000 -0.08682  0.00022 -0.00035 -0.24384 -0.09801   \n",
            "J3_pt    5.77062e-05 -0.08682  1.00000 -0.00001 -0.00022  0.18793  0.29182   \n",
            "J3_eta   6.05477e-05  0.00022 -0.00001  1.00000 -0.00054 -0.00005 -0.00004   \n",
            "J3_phi  -8.92699e-02 -0.00035 -0.00022 -0.00054  1.00000  0.00089 -0.00025   \n",
            "J3b-tag  8.22627e-04 -0.24384  0.18793 -0.00005  0.00089  1.00000 -0.05931   \n",
            "J4_pt    2.74659e-04 -0.09801  0.29182 -0.00004 -0.00025 -0.05931  1.00000   \n",
            "J4_eta   9.72334e-05  0.00015  0.00010  0.14961  0.00033 -0.00060  0.00015   \n",
            "J4_phi  -7.08361e-02  0.00016  0.00020  0.00007 -0.06449  0.00002  0.00036   \n",
            "J4b-tag  9.45330e-05 -0.24896 -0.03423 -0.00015 -0.00100 -0.25447  0.19583   \n",
            "m_jj    -2.81089e-04 -0.01981  0.15533 -0.00007  0.00007  0.06308  0.10672   \n",
            "m_jjj   -1.65797e-05  0.02367  0.24374 -0.00026 -0.00022  0.06939  0.17538   \n",
            "m_lv     1.21990e-04  0.00353 -0.00218 -0.00023 -0.00002  0.00113 -0.00503   \n",
            "m_jlv   -2.37771e-05  0.04271  0.12504 -0.00006  0.00008 -0.02488  0.06259   \n",
            "m_bb     2.85096e-04  0.14837  0.25769  0.00012  0.00053 -0.05237  0.13693   \n",
            "m_wbb   -5.20440e-05  0.06430  0.29178  0.00003  0.00035 -0.00797  0.16506   \n",
            "m_wwbb  -7.76796e-06  0.03820  0.27785 -0.00014  0.00010  0.02380  0.17039   \n",
            "\n",
            "          J4_eta   J4_phi  J4b-tag     m_jj    m_jjj     m_lv    m_jlv  \\\n",
            "label   -0.00034  0.00043  0.01506  0.01285  0.02554  0.01100 -0.03091   \n",
            "L_pT     0.00009 -0.00005  0.00014  0.02651  0.01784  0.27233  0.13223   \n",
            "L_eta    0.17770  0.00030 -0.00015  0.00031 -0.00013 -0.00027  0.00006   \n",
            "L_phi    0.00098 -0.06501 -0.00023  0.00036  0.00018 -0.00079  0.00041   \n",
            "E_T     -0.00002 -0.00016  0.00967  0.03413  0.03277  0.17190  0.28052   \n",
            "E_phi   -0.00048 -0.03863  0.00020 -0.00002  0.00036  0.00058  0.00006   \n",
            "J1_pt    0.00009 -0.00017 -0.00555  0.18694  0.26144  0.01828  0.27814   \n",
            "J1_eta   0.19189 -0.00028 -0.00007  0.00051  0.00055  0.00058  0.00023   \n",
            "J1_phi  -0.00005 -0.10178  0.00027 -0.00007 -0.00013 -0.00020 -0.00055   \n",
            "J1b-tag -0.00017 -0.00027 -0.23423 -0.11578 -0.07060  0.00043  0.13222   \n",
            "J2_pt   -0.00004 -0.00011 -0.02735  0.18387  0.26269  0.00176  0.20404   \n",
            "J2_eta   0.17481 -0.00022 -0.00049  0.00004 -0.00033 -0.00024  0.00077   \n",
            "J2_phi   0.00010 -0.07084  0.00009 -0.00028 -0.00002  0.00012 -0.00002   \n",
            "J2b-tag  0.00015  0.00016 -0.24896 -0.01981  0.02367  0.00353  0.04271   \n",
            "J3_pt    0.00010  0.00020 -0.03423  0.15533  0.24374 -0.00218  0.12504   \n",
            "J3_eta   0.14961  0.00007 -0.00015 -0.00007 -0.00026 -0.00023 -0.00006   \n",
            "J3_phi   0.00033 -0.06449 -0.00100  0.00007 -0.00022 -0.00002  0.00008   \n",
            "J3b-tag -0.00060  0.00002 -0.25447  0.06308  0.06939  0.00113 -0.02488   \n",
            "J4_pt    0.00015  0.00036  0.19583  0.10672  0.17538 -0.00503  0.06259   \n",
            "J4_eta   1.00000 -0.00060  0.00011 -0.00055 -0.00029 -0.00003  0.00022   \n",
            "J4_phi  -0.00060  1.00000 -0.00024 -0.00005 -0.00018  0.00021  0.00013   \n",
            "J4b-tag  0.00011 -0.00024  1.00000  0.11976  0.05096 -0.00310 -0.07366   \n",
            "m_jj    -0.00055 -0.00005  0.11976  1.00000  0.79584  0.01169  0.10476   \n",
            "m_jjj   -0.00029 -0.00018  0.05096  0.79584  1.00000  0.01025  0.11786   \n",
            "m_lv    -0.00003  0.00021 -0.00310  0.01169  0.01025  1.00000  0.12207   \n",
            "m_jlv    0.00022  0.00013 -0.07366  0.10476  0.11786  0.12207  1.00000   \n",
            "m_bb     0.00006  0.00003 -0.20377  0.01277  0.14287  0.00045  0.28973   \n",
            "m_wbb    0.00018 -0.00006 -0.06038  0.45798  0.61333  0.03558  0.56668   \n",
            "m_wwbb   0.00010 -0.00007 -0.00045  0.46167  0.58918  0.04683  0.54670   \n",
            "\n",
            "            m_bb    m_wbb       m_wwbb  \n",
            "label   -0.15209 -0.06559 -1.23266e-01  \n",
            "L_pT     0.00764  0.09584  1.41168e-01  \n",
            "L_eta    0.00014 -0.00001  7.17100e-05  \n",
            "L_phi   -0.00025  0.00021  3.20936e-04  \n",
            "E_T      0.02593  0.21395  2.98656e-01  \n",
            "E_phi    0.00066  0.00043  3.29081e-04  \n",
            "J1_pt    0.33509  0.48074  4.50244e-01  \n",
            "J1_eta   0.00003  0.00053  3.28894e-04  \n",
            "J1_phi  -0.00042 -0.00017 -1.63657e-04  \n",
            "J1b-tag  0.27045  0.11123  3.05037e-03  \n",
            "J2_pt    0.37173  0.43251  3.83743e-01  \n",
            "J2_eta  -0.00002  0.00015  5.68082e-05  \n",
            "J2_phi   0.00029 -0.00005 -7.76796e-06  \n",
            "J2b-tag  0.14837  0.06430  3.81951e-02  \n",
            "J3_pt    0.25769  0.29178  2.77848e-01  \n",
            "J3_eta   0.00012  0.00003 -1.43698e-04  \n",
            "J3_phi   0.00053  0.00035  1.02345e-04  \n",
            "J3b-tag -0.05237 -0.00797  2.37958e-02  \n",
            "J4_pt    0.13693  0.16506  1.70389e-01  \n",
            "J4_eta   0.00006  0.00018  9.74713e-05  \n",
            "J4_phi   0.00003 -0.00006 -7.21151e-05  \n",
            "J4b-tag -0.20377 -0.06038 -4.48196e-04  \n",
            "m_jj     0.01277  0.45798  4.61672e-01  \n",
            "m_jjj    0.14287  0.61333  5.89181e-01  \n",
            "m_lv     0.00045  0.03558  4.68340e-02  \n",
            "m_jlv    0.28973  0.56668  5.46700e-01  \n",
            "m_bb     1.00000  0.55625  4.13663e-01  \n",
            "m_wbb    0.55625  1.00000  8.95267e-01  \n",
            "m_wwbb   0.41366  0.89527  1.00000e+00  \n"
          ]
        }
      ]
    },
    {
      "cell_type": "code",
      "source": [
        "# Drop the following features # J1b-tag, J3b-tag, J4b-tag\n",
        "data_nn = data_n.drop(columns=['J1b-tag', 'J3b-tag', 'J4b-tag'], axis=1)"
      ],
      "metadata": {
        "id": "suCk7M5UsQ_2"
      },
      "execution_count": null,
      "outputs": []
    },
    {
      "cell_type": "code",
      "source": [
        "with pd.option_context('display.max_rows', None,\n",
        "                       'display.max_columns', None,\n",
        "                       'display.precision', 5,\n",
        "                       ):\n",
        "    print(data_nn.head(100))"
      ],
      "metadata": {
        "colab": {
          "base_uri": "https://localhost:8080/"
        },
        "id": "26URvv2NFKeO",
        "outputId": "0f6e1936-d812-45a5-a4a2-79ee5eccff5e"
      },
      "execution_count": null,
      "outputs": [
        {
          "output_type": "stream",
          "name": "stdout",
          "text": [
            "    label     L_pT    L_eta    L_phi      E_T    E_phi    J1_pt   J1_eta  \\\n",
            "0     1.0  0.90754  0.32915  0.35941  1.49797 -0.31301  1.09553 -0.55752   \n",
            "1     1.0  0.79883  1.47064 -1.63597  0.45377  0.42563  1.10487  1.28232   \n",
            "2     0.0  1.34438 -0.87663  0.93591  1.99205  0.88245  1.78607 -1.64678   \n",
            "3     1.0  1.10501  0.32136  1.52240  0.88281 -1.20535  0.68147 -1.07046   \n",
            "4     0.0  1.59584 -0.60781  0.00707  1.81845 -0.11191  0.84755 -0.56644   \n",
            "5     1.0  0.40939 -1.88468 -1.02729  1.67245 -1.60460  1.33801  0.05543   \n",
            "6     1.0  0.93390  0.62913  0.52753  0.23803 -0.96657  0.54781 -0.05944   \n",
            "7     1.0  1.40514  0.53660  0.68955  1.17957 -0.11006  3.20240 -1.52696   \n",
            "8     1.0  1.17657  0.10416  1.39700  0.47972  0.26551  1.13556  1.53483   \n",
            "9     1.0  0.94597  1.11124  1.21834  0.90764  0.82154  1.15324 -0.36542   \n",
            "10    0.0  0.73936 -0.17829  0.82993  0.50454 -0.13022  0.96105 -0.35552   \n",
            "11    1.0  1.38410  0.11682 -1.17988  0.76291 -0.07978  1.01986  0.87732   \n",
            "12    1.0  1.38355  0.88918  0.61853  1.08155  0.34461  0.95638  0.85454   \n",
            "13    1.0  1.34365  0.83853 -1.06114  2.47202 -0.57263  1.51271  1.14369   \n",
            "14    0.0  0.54701 -0.34971 -0.64666  2.04046  0.27646  0.54470  0.83870   \n",
            "15    1.0  1.48420  1.69952 -1.05947  2.70020 -1.05596  2.40945  0.45746   \n",
            "16    0.0  1.05798 -0.16076 -0.19500  2.70502 -0.75148  1.90992 -1.03184   \n",
            "17    0.0  0.67530  1.12098 -0.28045  1.53955  0.73452  0.61468 -0.50702   \n",
            "18    1.0  0.64273 -1.42984  1.51907  0.94100  0.88723  1.61513 -1.33684   \n",
            "19    1.0  1.10245  0.42654  1.71716  0.93430  0.77574  1.27939 -0.24956   \n",
            "20    1.0  1.33011  0.20156  1.17339  0.13531 -1.08316  0.72846  1.10903   \n",
            "21    0.0  1.28985 -1.42302 -0.68716  0.13110 -1.13593  0.82135  0.29605   \n",
            "22    1.0  1.04791 -1.11914 -0.95682  0.99567 -1.55032  0.73332  0.28318   \n",
            "23    0.0  0.48827  1.69757  0.79109  0.89361 -0.70929  1.56273 -0.07627   \n",
            "24    0.0  1.41320 -0.85228  0.31003  1.12802 -1.50979  0.81952  1.15260   \n",
            "25    1.0  0.76992 -0.44905 -0.98568  0.96572 -1.30096  0.73872 -1.03284   \n",
            "26    0.0  2.46806  0.66419  1.02358  0.31720  1.40724  0.99623 -0.45256   \n",
            "27    1.0  1.01442  0.01261 -0.48463  0.69526  1.70117  0.59710  0.07622   \n",
            "28    0.0  1.25087 -0.75001  1.09016  0.46185 -0.38066  0.67716  0.33962   \n",
            "29    1.0  1.11361  1.78231  1.45027  0.65296  1.51337  0.82483  1.85071   \n",
            "30    1.0  0.65719 -0.90098 -0.85473  1.17568  1.48652  0.74458 -1.23583   \n",
            "31    0.0  1.00893 -0.66040 -1.53887  1.31560 -1.69269  1.14555  2.02499   \n",
            "32    0.0  2.12236  0.79178  0.72340  2.43821  1.06443  2.69179  0.36141   \n",
            "33    1.0  0.30380 -1.42497 -1.64596  1.16557 -1.46878  1.45839 -0.47237   \n",
            "34    1.0  1.16668  0.55608 -0.91077  0.90779  0.05083  1.07776  0.38715   \n",
            "35    1.0  0.87972  0.61744 -0.64888  1.72351  1.10363  1.21279 -0.57634   \n",
            "36    0.0  0.31331  1.25637 -0.90356  1.00231  1.29048  1.38263  1.29520   \n",
            "37    0.0  1.26349  0.59601  0.46040  1.06334  1.05990  0.70922 -0.61298   \n",
            "38    1.0  1.12111 -0.37893  1.36316  1.45057  0.78221  1.08765 -0.80310   \n",
            "39    0.0  1.20511  0.91645 -1.20873  0.35409 -0.70564  1.12439  1.04467   \n",
            "40    1.0  0.42037 -0.72177  0.73172  0.88482 -0.72395  0.74083  1.24370   \n",
            "41    0.0  1.38025  1.42681  1.10459  1.78842  0.98182  1.95545 -0.20500   \n",
            "42    1.0  0.70385  0.36908 -0.22995  1.16676 -1.42976  0.72122  0.01186   \n",
            "43    1.0  0.69452  0.41973  1.20280  0.76944 -0.91061  0.82978  1.16845   \n",
            "44    1.0  0.31203  1.72192  1.41087  1.13305  1.16307  0.75631  1.21004   \n",
            "45    0.0  0.43099  0.57167 -0.68383  2.26218  0.15464  1.17752  0.17822   \n",
            "46    0.0  0.30874 -1.95091 -1.22871  1.59151  0.76954  0.63346 -0.19708   \n",
            "47    1.0  0.45789  0.12851 -0.51904  1.19468  0.73683  0.53370 -1.31604   \n",
            "48    0.0  0.63705 -0.03706 -1.73197  1.25391 -0.42485  0.48570  0.09009   \n",
            "49    1.0  0.97580  0.29116 -1.12828  0.66756 -0.54049  0.94978  2.02599   \n",
            "50    1.0  0.53475 -1.39088 -0.82532  1.34302 -1.44891  1.11055 -0.85162   \n",
            "51    0.0  2.63808  1.28851 -0.28045  0.99117  0.87244  1.15242 -0.70210   \n",
            "52    0.0  1.54057  0.05838  1.22666  1.21669  0.65976  0.52445  1.03972   \n",
            "53    0.0  2.55920 -0.02148 -1.61489  2.09501 -1.33459  1.71983 -0.64070   \n",
            "54    1.0  1.92526 -0.85909  1.35317  1.76853 -1.45224  0.75603 -0.34165   \n",
            "55    1.0  1.54478  0.05936 -1.73197  1.03416  0.80737  2.46680 -1.23682   \n",
            "56    0.0  1.19962 -1.01785 -1.17322  0.84500 -0.43924  0.60058 -0.81399   \n",
            "57    0.0  0.60887 -0.52113  0.28728  0.64967  0.19799  0.51117  1.23677   \n",
            "58    0.0  0.31825 -1.38114 -0.24993  2.48243  0.95748  1.38272  0.00096   \n",
            "59    1.0  0.94689 -0.32926 -0.03298  0.02039 -1.38065  1.24458  0.86544   \n",
            "60    0.0  1.14728  0.50154 -1.13105  1.23692 -1.06145  0.86908  0.81196   \n",
            "61    1.0  1.02778 -0.73248  1.24275  1.19810 -0.03189  0.75649 -1.49131   \n",
            "62    1.0  0.30270  1.22520  0.62907  1.25572 -0.60190  0.89738  0.52876   \n",
            "63    0.0  0.53420 -0.76559 -0.53346  0.97365 -1.50128  0.79652 -1.57350   \n",
            "64    0.0  0.45862 -1.44835 -0.85806  0.26229 -0.30449  0.75961  1.09022   \n",
            "65    0.0  1.07554  1.91185 -0.66719  0.61761 -0.66503  0.49605 -1.52399   \n",
            "66    1.0  0.44215  1.82322 -1.46563  0.98844 -1.56464  1.44382 -2.42807   \n",
            "67    1.0  0.57520 -0.58833  1.55514  0.50131  0.13716  0.40655 -1.78244   \n",
            "68    0.0  0.99886  1.63329  1.53183  1.01900 -0.79304  0.61304 -0.17134   \n",
            "69    1.0  1.17510 -0.64287  0.09918  1.27257 -0.62733  0.58372 -0.13272   \n",
            "70    0.0  0.73259 -0.48996  1.68498  2.27778  1.60940  1.37163 -1.27841   \n",
            "71    1.0  1.79239 -0.34387  0.13636  0.84061 -0.81306  1.68493  0.62481   \n",
            "72    1.0  0.64053  1.63329  0.00097  1.11838  1.00968  1.01272  0.74958   \n",
            "73    0.0  0.44215  0.27558  0.92925  1.63839 -1.07193  1.75226  0.46043   \n",
            "74    1.0  1.15186  0.87262 -1.39960  0.28980 -0.26372  0.83079  0.37329   \n",
            "75    0.0  0.54573  0.44408 -0.29154  1.42852 -1.48027  1.47387  0.65947   \n",
            "76    1.0  1.27448 -0.15005 -0.62835  1.82441 -0.10102  2.83304  1.92894   \n",
            "77    1.0  0.62534 -0.50554  1.26273  0.81390 -1.31351  1.22763 -0.92490   \n",
            "78    0.0  0.66725  1.94107 -0.18778  0.44576  0.50576  1.04854  0.57728   \n",
            "79    1.0  1.86431  0.05644 -0.29043  0.55035  0.22412  0.60442  0.55549   \n",
            "80    0.0  0.73167 -0.71203 -0.45356  0.45093 -0.39235  1.16653  0.44756   \n",
            "81    1.0  1.06456 -0.61073 -0.37533  1.11606  0.98982  0.58226 -1.43388   \n",
            "82    1.0  0.90974 -1.63145 -0.12508  1.96422 -0.64650  1.31007 -0.92688   \n",
            "83    0.0  0.51243  0.58920 -1.48616  0.55181 -0.63713  0.43852 -0.92292   \n",
            "84    1.0  1.37678 -0.58736 -0.86860  1.73466 -1.39865  0.43257 -0.27729   \n",
            "85    1.0  1.82515  0.66127 -0.88469  1.03048  0.83346  1.56548  2.02004   \n",
            "86    1.0  1.47743  0.86970  0.36718  0.64266  0.02353  0.42533  0.14059   \n",
            "87    1.0  1.07371 -0.20264  0.94313  1.24209 -1.72687  0.95217 -0.81300   \n",
            "88    1.0  0.65170  0.08371 -0.28488  0.34387 -0.83875  1.10487  0.26041   \n",
            "89    1.0  1.74810 -1.25940 -1.56773  1.15917 -1.30777  2.53129 -0.89519   \n",
            "90    1.0  0.65334  0.81613  1.49133  1.17312  0.35320  0.99861  0.79513   \n",
            "91    1.0  0.60301 -1.30517 -0.29487  1.98602 -0.39712  1.03791  0.45845   \n",
            "92    0.0  0.50986 -0.40036  1.36427  1.35175 -0.99038  0.63017 -0.44761   \n",
            "93    1.0  0.66432 -0.21628  0.43487  1.15605  1.43654  1.83929 -2.03396   \n",
            "94    1.0  1.43607  1.08982  0.73339  0.27804 -0.82267  2.42118  1.48334   \n",
            "95    1.0  0.70879  0.85022  0.67235  0.94859 -1.13776  1.24091  0.41686   \n",
            "96    0.0  1.13502  0.28532 -1.10941  1.08854 -0.89626  1.10313  0.12672   \n",
            "97    1.0  1.12404  0.35447  0.03981  1.13250  1.62031  0.95592  1.37540   \n",
            "98    1.0  0.34149 -1.22336 -1.37297  0.99367  0.69194  1.08619  0.31883   \n",
            "99    0.0  1.21793 -0.30783 -1.60157  1.53237 -1.00682  0.55578 -0.05944   \n",
            "\n",
            "     J1_phi    J2_pt   J2_eta   J2_phi  J2b-tag    J3_pt   J3_eta   J3_phi  \\\n",
            "0  -1.58823  0.81258 -0.21364  1.27101  2.21487  0.49999 -1.26143  0.73216   \n",
            "1   1.38166  0.85174  1.54066 -0.81969  2.21487  0.99349  0.35608 -0.20878   \n",
            "2  -0.94238  2.42326 -0.67602  0.73616  2.21487  1.29872 -1.43074 -0.36466   \n",
            "3  -0.92187  0.80087  1.02097  0.97141  2.21487  0.59676 -0.35027  0.63119   \n",
            "4   1.58124  0.75542  0.64311  1.42637  0.00000  0.92166 -1.19043 -1.61559   \n",
            "5   0.01347  0.50978 -1.03834  0.70786  0.00000  0.74692 -0.35847 -1.64665   \n",
            "6  -1.70687  0.94100 -2.65373 -0.15722  0.00000  1.03037 -0.17551  0.52302   \n",
            "7  -1.57603  2.93154  0.56734 -0.13003  2.21487  1.78712  0.89950  0.58515   \n",
            "8  -0.25329  1.02725  0.53432  1.18002  0.00000  2.40566  0.08756 -0.97653   \n",
            "9  -1.56605  0.74472  0.72082 -0.37582  2.21487  0.60888  0.30784 -1.28164   \n",
            "10 -1.71740  0.62096 -0.48174 -1.19919  0.00000  0.98260  0.08119 -0.29032   \n",
            "11  1.27689  0.33125  1.40952 -1.47439  0.00000  1.28274  0.73747 -0.22542   \n",
            "12 -1.12921  0.54567 -0.30787 -0.62328  2.21487  0.34826  1.02420  0.18408   \n",
            "13  0.85556  0.88422  1.47461 -1.36065  1.10744  1.58727  2.23483  0.07757   \n",
            "14  1.72870  0.65281  1.47169  1.24327  0.00000  0.78573 -0.04443 -1.01980   \n",
            "15  0.34498  1.41490  1.11423 -1.44887  0.00000  1.01298 -2.05699  1.13101   \n",
            "16  0.86499  1.30083  0.14674 -1.11874  1.10744  0.96697 -0.36666  1.10827   \n",
            "17  0.79458  0.21882 -1.89412 -0.58056  0.00000  1.24568 -0.34754 -0.85616   \n",
            "18 -0.26660  1.66709  0.65574 -1.58813  0.00000  0.82823  1.83614  0.40819   \n",
            "19 -0.92631  1.06665  0.43426  0.68068  0.00000  1.05408  0.00381  0.25508   \n",
            "20 -0.53990  0.46244  0.13314 -0.56058  0.00000  0.47910  1.18714  0.65782   \n",
            "21  0.16758  0.69650 -0.46911 -1.15148  1.10744  0.93957  0.27325  1.64081   \n",
            "22  0.91876  1.05041 -0.04074  0.10865  2.21487  0.94344  0.31967 -0.85782   \n",
            "23  1.73868  0.62436  2.39547  0.52255  0.00000  1.66120  0.26597 -0.21821   \n",
            "24 -1.67028  1.17027  0.10011  0.26622  0.00000  0.85229  0.40068 -1.33434   \n",
            "25  0.87497  1.36945 -1.18113  0.16690  1.10744  1.25657 -0.12180 -1.58785   \n",
            "26 -0.49999  0.34812  1.01612 -0.16110  0.00000  0.97786 -2.63409 -0.28533   \n",
            "27  0.14264  0.91683  0.68488  1.71321  2.21487  0.53090 -0.98745 -1.65387   \n",
            "28 -0.71121  0.60094 -0.46134 -1.24691  0.00000  0.82243  0.98506 -1.65276   \n",
            "29 -0.48003  0.84607  1.15794  0.51367  2.21487  0.51984  2.68541  1.54207   \n",
            "30  1.64887  0.66099 -2.09908  0.13694  0.00000  1.78010 -1.03569 -0.21266   \n",
            "31  0.13654  1.06338 -0.53905  1.05186  2.21487  1.12433  0.54814 -0.88722   \n",
            "32 -0.99339  1.72463  1.20359  0.48815  2.21487  0.26747 -0.76717 -1.13352   \n",
            "33  0.50963  0.86710 -0.30884 -1.60533  0.00000  1.31663  0.13580 -0.33193   \n",
            "34  1.25305  1.21333  0.15451 -0.67266  2.21487  0.48928 -1.38432  0.70386   \n",
            "35  1.21646  0.78161 -0.91303 -0.10229  0.00000  1.18281 -0.57601 -0.78349   \n",
            "36 -1.52836  1.16020 -0.76538  0.08035  1.10744  1.06005  2.30856 -0.33970   \n",
            "37 -0.68792  1.46413  1.07926  1.17447  2.21487  1.41059  0.36882 -0.59599   \n",
            "38 -0.79270  0.51532  0.36821 -0.66545  0.00000  0.70775 -1.37248  1.44887   \n",
            "39  0.78737  0.48851 -0.45746 -1.03274  2.21487  0.38830  1.27634  0.00046   \n",
            "40  1.61894  1.24821  0.28079  0.07647  2.21487  1.08516  0.33059  1.24196   \n",
            "41 -0.85202  0.90134 -0.19324  0.85434  0.00000  1.17192  0.35244 -0.51222   \n",
            "42  1.50751  0.68328  0.02823  0.68844  2.21487  1.01281 -0.76353 -0.22209   \n",
            "43  0.07556  0.39357  0.39152  0.50979  2.21487  0.74709  1.55943  0.83534   \n",
            "44 -0.69957  0.75542 -0.05337 -0.13891  2.21487  0.81155 -0.19280  1.15320   \n",
            "45 -1.42912  0.46270  0.64894  0.54419  2.21487  0.75658  0.95502  1.55150   \n",
            "46 -1.56772  0.89807 -1.88538 -0.25709  0.00000  0.89672 -0.93283  0.93075   \n",
            "47 -1.72904  0.68655  0.35073  1.10346  2.21487  0.91147  1.04878 -0.21876   \n",
            "48  0.02400  0.67547 -1.11896  1.64386  0.00000  0.49420 -2.08521  0.54410   \n",
            "49  1.05957  0.67774 -0.57111  1.30652  2.21487  1.19914  1.29273 -0.27257   \n",
            "50 -0.48391  1.67691 -0.70030  1.06906  2.21487  0.62293  0.01838 -1.65331   \n",
            "51  1.55130  0.64286 -0.76732 -1.68911  0.00000  0.74657 -2.60314  0.90690   \n",
            "52 -0.63969  0.70921 -0.22627 -0.72703  2.21487  0.54267  1.36008  1.72014   \n",
            "53  0.03287  0.73691 -0.41374 -0.37915  0.00000  1.15822 -0.59786 -1.60782   \n",
            "54 -0.80933  1.73394 -0.84989  0.15081  0.00000  0.94414 -0.37576  0.93186   \n",
            "55 -0.56541  1.93262  2.37021 -1.63862  0.00000  3.92127 -0.64519  0.72661   \n",
            "56  1.62725  0.70607 -1.10342  0.84546  0.00000  1.11116 -0.53596  0.42372   \n",
            "57 -0.67018  0.64803 -1.19279 -1.68578  2.21487  0.36354  1.44383  0.06370   \n",
            "58 -0.22169  1.04475 -1.56482  1.52457  2.21487  0.90357  2.25304  1.64470   \n",
            "59  0.79902  1.13011 -0.01257 -1.68800  0.00000  1.37108  0.68104 -0.93105   \n",
            "60  0.52016  1.01075  0.80824  1.34592  2.21487  0.63470  1.28362 -0.13833   \n",
            "61  1.40384  1.34301 -1.47546 -0.26264  2.21487  0.48349 -2.59131  1.68575   \n",
            "62  0.97420  0.91330 -0.66727 -0.29926  2.21487  0.99103  0.55998  1.37620   \n",
            "63  0.32336  1.13729  0.27107 -0.99779  2.21487  2.43376  2.00272  1.21034   \n",
            "64 -0.33811  1.07559 -1.07914  1.15062  2.21487  0.35669 -0.61424  1.52210   \n",
            "65  1.12721  0.94390 -0.87029  0.10310  2.21487  0.93536  1.24266  1.27136   \n",
            "66  0.84614  2.25241  0.52460 -0.14113  1.10744  2.36597  0.32786 -1.66330   \n",
            "67  1.26247  0.34812 -1.97960  0.11142  0.00000  0.94221 -0.69526 -1.02812   \n",
            "68  1.10947  0.81724  0.61883  0.90427  0.00000  1.22461  0.50627 -0.24428   \n",
            "69 -1.13032  0.56128  0.22639  1.22052  0.00000  1.56514  1.08974  1.38231   \n",
            "70 -0.21227  1.10166  0.95978  1.19667  2.21487  1.21916 -0.30840 -0.17494   \n",
            "71  1.49864  0.54755  0.58677 -1.31515  0.00000  0.80558  2.24758 -0.15996   \n",
            "72  1.51638  1.43794  0.52557  0.35776  2.21487  1.64856  0.17494 -0.91496   \n",
            "73 -0.80157  1.43643 -2.55077  0.75225  0.00000  1.42359  0.49262  0.58737   \n",
            "74 -0.28766  1.15668  0.59940  0.72284  2.21487  1.55021  0.87765  1.52654   \n",
            "75 -1.10371  2.62207  0.48089  0.53753  0.00000  0.68545 -0.77718  1.05779   \n",
            "76 -1.62759  1.36114  0.03989  0.11087  2.21487  2.68964  0.23047  0.57350   \n",
            "77 -0.09141  1.21661  0.43038  1.58782  2.21487  0.97610  0.01019 -0.29088   \n",
            "78  1.73702  1.50845  0.76550 -0.32256  2.21487  0.92956  0.07481  1.09273   \n",
            "79  0.87718  1.05998 -0.37489  1.72708  2.21487  0.82402 -1.41982 -0.48504   \n",
            "80  0.94870  0.92023  0.11954  1.60891  0.00000  0.92605  1.52848 -0.66588   \n",
            "81 -0.94626  0.98633 -0.54974 -1.02997  0.00000  1.14488  1.28635  0.13027   \n",
            "82  1.35727  0.44482 -0.37198  0.36831  0.00000  1.18773 -1.48080  0.59458   \n",
            "83 -0.21005  1.26571  0.44495  1.36755  2.21487  0.36582  0.42526 -0.05234   \n",
            "84  0.23632  0.92073  0.32061  1.15173  1.10744  0.33017 -0.05080  1.36566   \n",
            "85 -0.00881  1.34125  0.81699  1.39807  1.10744  1.28608  0.08938 -1.70601   \n",
            "86  0.63215  1.33986  0.22056 -1.51545  0.00000  0.33438  0.04933 -1.31215   \n",
            "87 -0.23943  0.62864 -1.61631  1.49406  0.00000  0.75921 -0.79265 -1.27609   \n",
            "88  1.64388  0.70015  0.76453 -0.31146  1.10744  0.76185  1.14253  0.74492   \n",
            "89 -0.11581  1.09662 -0.52934  1.51514  1.10744  1.60202  0.50536  1.04225   \n",
            "90  0.09884  1.03178  1.71551 -0.99502  0.00000  1.05232  0.89313 -1.38759   \n",
            "91  1.22090  0.42971  0.01463  1.71932  2.21487  0.46979  0.03112 -0.54328   \n",
            "92  0.68537  0.59439 -0.79452 -0.76975  2.21487  0.59975  0.60185  0.80094   \n",
            "93  0.30562  2.57460  0.98892 -1.16535  2.21487  1.50648  1.08337 -1.62280   \n",
            "94  0.32004  2.44693 -1.40260 -1.50269  2.21487  2.00033  2.28672 -1.50631   \n",
            "95  1.58179  0.95750  0.47021 -0.03682  2.21487  0.87688  0.10212  0.66115   \n",
            "96  0.96422  0.73125 -0.48854  0.04817  2.21487  0.75447  0.46440  0.38045   \n",
            "97  0.41594  1.54257  0.43718 -0.80471  2.21487  1.72355  1.67776 -1.63611   \n",
            "98 -1.18575  1.21295  1.56203  0.16302  2.21487  1.05724  0.49080  1.65690   \n",
            "99  0.81953  0.84003 -1.43077  0.50202  0.00000  0.46311 -0.80085 -0.21488   \n",
            "\n",
            "      J4_pt   J4_eta   J4_phi     m_jj    m_jjj     m_lv    m_jlv     m_bb  \\\n",
            "0   0.39870 -1.13893 -0.00082  0.30222  0.83305  0.98570  0.97810  0.77973   \n",
            "1   1.25695  1.12885  0.90046  0.90975  1.10833  0.98569  0.95133  0.80325   \n",
            "2   0.74531 -0.67838 -1.36036  0.94665  1.02870  0.99866  0.72828  0.86920   \n",
            "3   0.48000 -0.37357  0.11304  0.75586  1.36106  0.98661  0.83808  1.13330   \n",
            "4   0.65111 -0.65423 -1.27434  0.82376  0.93819  0.97176  0.78918  0.43055   \n",
            "5   0.36706  0.06950  1.37713  0.86942  1.22208  1.00063  0.54504  0.69865   \n",
            "6   1.37355  1.29125 -1.46745  0.90184  1.08367  0.97970  0.78330  0.84920   \n",
            "7   0.40187 -0.15120  1.16349  1.66707  4.03927  1.17583  1.04535  1.54297   \n",
            "8   1.25038  0.26854  0.53033  0.83317  0.77397  0.98575  1.10370  0.84914   \n",
            "9   1.59797 -0.45102  0.06365  0.82902  0.98065  0.99436  0.90825  0.77588   \n",
            "10  1.06466  0.77406  0.39882  0.94454  1.02626  0.98220  0.54211  1.25098   \n",
            "11  1.55975  0.84652  0.50481  0.95932  0.80738  1.19181  1.22121  0.86114   \n",
            "12  0.78134 -1.63613  1.14407  0.52224  0.73764  0.98620  1.34962  0.81279   \n",
            "13  1.60941  2.39640  0.75729  0.93402  0.84471  1.07784  1.40018  0.94777   \n",
            "14  0.41915 -0.62924  1.57079  0.68943  0.86723  1.08249  0.66414  0.35411   \n",
            "15  0.90547  2.18237  1.04307  1.65363  0.99358  0.98332  0.74138  0.16338   \n",
            "16  0.55472 -0.71419  1.50531  0.95449  0.65104  1.12495  0.89400  0.67217   \n",
            "17  0.75310 -1.14559 -1.37478  0.90694  0.89834  1.11965  1.26907  1.08877   \n",
            "18  1.70872 -0.34692 -1.18278  0.92109  1.37336  0.98492  1.42288  1.54655   \n",
            "19  0.74337  1.20797 -1.15060  0.70864  0.52191  1.05431  1.27265  0.83463   \n",
            "20  0.67010  1.00726  0.05477  0.78207  0.67210  0.99000  0.73428  0.37907   \n",
            "21  0.72049  1.10553  0.72733  1.00664  0.86791  0.99909  1.10961  1.12509   \n",
            "22  0.62823 -0.32526  1.21732  0.87313  0.87337  0.97622  1.37309  0.88799   \n",
            "23  0.94661 -0.07708  0.28451  1.67451  1.41368  0.98792  1.33324  2.00441   \n",
            "24  1.37038  0.95978 -0.63231  0.88959  0.93804  1.74521  0.97392  0.67713   \n",
            "25  0.59951  0.61083  0.11582  1.04822  1.10551  0.99332  1.13182  0.89187   \n",
            "26  1.24454 -0.47184  1.46370  1.00592  0.79529  0.99626  0.94520  0.32173   \n",
            "27  0.96268  1.29458  0.26398  1.57577  1.06726  1.07199  0.80577  1.13021   \n",
            "28  0.75359 -0.90741  0.27896  0.84827  0.84234  1.02128  0.66590  0.41099   \n",
            "29  1.04203  0.54920 -0.46251  1.32142  1.03685  0.99677  0.82436  0.69186   \n",
            "30  1.23578 -0.18451  0.78393  0.86107  1.01624  1.04500  0.75873  0.89804   \n",
            "31  1.01671 -0.05709  0.17242  1.07598  0.93919  0.97358  0.93250  1.34645   \n",
            "32  1.37160  0.60084 -0.56850  0.72709  0.98147  0.98862  2.83728  3.39840   \n",
            "33  0.85266  0.74408 -1.36535  0.75960  0.98040  0.98595  1.37584  1.30896   \n",
            "34  1.34775  0.69162 -1.50241  0.86805  0.82896  1.08723  0.78225  0.87831   \n",
            "35  0.43229  1.28625 -0.20447  0.87949  0.61596  1.70583  1.43493  0.59819   \n",
            "36  0.85241  1.12885  0.37773  0.91055  1.48004  0.98825  1.00042  2.97570   \n",
            "37  0.61120  0.29269 -0.89368  1.17543  1.24422  0.98796  0.90514  1.62287   \n",
            "38  0.57931  0.44094  0.23790  1.33579  0.86906  0.98437  1.45881  0.90546   \n",
            "39  0.44349 -0.88908  1.40266  0.84220  0.65340  0.98604  0.49979  0.53232   \n",
            "40  1.02474  0.08615 -0.95527  0.91880  0.92730  0.98929  0.74353  0.82361   \n",
            "41  0.44544 -0.15786  1.42097  0.40335  0.88157  1.00006  2.45009  0.80428   \n",
            "42  0.93030  0.08199 -0.75328  0.86480  0.74823  1.10741  0.83487  0.69614   \n",
            "43  1.08998 -0.42187 -1.16059  0.97313  0.65372  0.98672  0.68773  0.65232   \n",
            "44  0.84657  1.29791  1.68178  1.00998  1.00007  0.99631  1.11838  0.93095   \n",
            "45  0.65769  1.07305  1.06360  0.34428  0.84033  0.98579  0.58013  1.09577   \n",
            "46  1.27983 -0.43103 -0.79934  0.92135  0.86175  0.99015  0.81222  0.83104   \n",
            "47  0.80836 -1.01401 -0.36706  0.88752  1.37077  0.98433  0.87068  0.85221   \n",
            "48  0.38604 -0.23865  1.09191  0.91267  0.91221  1.14421  0.69791  0.52500   \n",
            "49  0.60170  1.12385  0.82499  1.89082  1.02571  0.99018  0.81368  0.69347   \n",
            "50  0.92495  0.35016  0.16909  0.85197  1.02455  0.98586  1.44721  0.75530   \n",
            "51  1.25866  0.98560 -0.75939  0.88911  0.93740  1.93139  2.56871  0.70858   \n",
            "52  0.98093  0.32601 -0.42921  0.84241  0.83933  0.98798  0.88201  0.31126   \n",
            "53  0.84657  1.54859  0.84663  0.97967  0.95063  1.00384  0.74813  1.75093   \n",
            "54  0.60608  0.62416 -1.03906  0.96436  0.93091  1.47419  1.06243  0.52972   \n",
            "55  1.84284 -0.21866 -0.52688  2.29164  2.69223  1.31879  1.44744  1.91434   \n",
            "56  1.03813 -0.45601 -0.62954  0.92329  0.89007  0.98994  0.88693  0.66747   \n",
            "57  0.45055  1.15217  0.67739  0.43254  0.92506  0.98325  0.77011  1.49714   \n",
            "58  1.34945 -0.54096 -1.38311  0.99216  2.14575  1.09095  0.82129  2.37466   \n",
            "59  0.98239  0.95812  0.01926  1.00141  0.58743  0.52456  0.85962  0.89218   \n",
            "60  0.53793  0.61250  0.12358  0.84764  0.98719  0.99320  0.67674  0.59451   \n",
            "61  0.70734 -0.68671 -1.34204  0.83083  0.68598  1.40188  1.09281  0.79087   \n",
            "62  0.53379 -1.17557 -0.67171  0.77100  1.00591  0.98775  0.70026  1.49133   \n",
            "63  1.95553  0.21607 -0.27217  3.58806  2.57324  0.98913  1.25063  1.99039   \n",
            "64  0.50556  1.60939 -1.29321  0.84197  0.86567  0.98800  0.93475  2.20920   \n",
            "65  1.23505 -0.51181 -1.57844  0.96123  1.03601  0.97500  0.87159  1.63439   \n",
            "66  1.06393 -0.09124 -0.78769  0.65674  0.90045  0.99128  0.83351  1.46013   \n",
            "67  0.60657  0.40596 -0.66672  0.69493  0.88401  0.98718  0.70473  0.42755   \n",
            "68  1.18904  1.03307  0.55309  0.99160  0.94776  1.21070  1.27841  0.97308   \n",
            "69  0.52162  0.66580  0.62356  0.93609  1.04334  1.03046  0.50041  1.07750   \n",
            "70  0.48341 -0.24198 -0.91643  0.98155  0.78168  0.98768  1.97751  1.45763   \n",
            "71  1.01111  1.32873 -0.28493  1.15961  0.87837  1.28277  1.10191  0.29858   \n",
            "72  1.60527 -0.49349 -0.86426  0.84499  0.64521  0.98682  0.81521  1.47232   \n",
            "73  1.54539  0.63415  1.46314  0.52064  0.67504  1.14768  0.91736  1.57373   \n",
            "74  1.28251  0.87067 -0.71444  0.79838  1.18062  0.98791  0.75801  0.97519   \n",
            "75  0.56373 -1.01317 -1.03462  0.41318  1.26525  1.07308  0.85368  1.56482   \n",
            "76  0.77647  0.38181 -1.15337  2.07395  3.25460  0.98975  1.34424  0.85136   \n",
            "77  0.51821 -1.25136  0.12747  0.92057  0.74971  0.98598  0.64656  1.17670   \n",
            "78  0.67692 -0.44186 -0.88591  0.92988  1.23460  0.98837  0.75385  1.78502   \n",
            "79  0.81687  0.92481  1.31775  0.51024  0.91595  0.98971  0.82072  0.44059   \n",
            "80  0.61485  0.68912 -0.68725  0.93000  0.98286  0.98667  1.11693  1.53914   \n",
            "81  1.16860  0.64831  1.05584  0.93577  0.94634  1.42362  0.84485  0.72403   \n",
            "82  1.40738 -0.13871 -1.52905  0.98445  0.99311  0.99602  1.61869  0.93030   \n",
            "83  0.64089 -0.05376  0.68571  0.35959  0.63307  0.98335  0.64504  1.36205   \n",
            "84  1.93509 -2.21161  0.02758  0.63505  0.75787  0.98771  0.97998  0.73996   \n",
            "85  1.29517  1.03224 -1.29543  1.00003  0.90412  1.89953  1.04296  0.66330   \n",
            "86  1.17225  1.07971 -1.02241  1.49888  1.10909  0.98378  0.65390  0.33993   \n",
            "87  0.66791 -0.08541 -0.83208  0.92117  0.76530  1.07485  0.73532  0.85235   \n",
            "88  0.97679  1.36121  0.13024  0.53246  1.21859  0.99064  0.56196  1.31562   \n",
            "89  0.95440 -0.73168 -1.35925  1.55265  1.09515  0.98495  2.28778  2.47870   \n",
            "90  1.04373 -0.75666 -1.37811  0.84912  1.12166  1.03665  0.77263  1.03720   \n",
            "91  0.52406 -1.37129  0.51480  0.68235  1.04500  0.98398  1.36341  0.48003   \n",
            "92  0.45614 -0.93572  1.41264  0.65931  0.72459  0.98792  0.90070  0.88617   \n",
            "93  0.63115  0.66080  0.67350  0.83852  0.94505  0.98756  0.54066  1.15369   \n",
            "94  2.20527  1.30624 -0.22112  1.65954  2.24606  0.98328  2.97430  1.66467   \n",
            "95  1.70531  1.46114 -0.75883  0.97166  0.85635  1.13402  0.94997  1.59483   \n",
            "96  0.71464 -1.18307 -0.95638  0.88316  0.92571  0.98658  1.05778  0.59963   \n",
            "97  2.12787 -0.17535  1.56192  0.85155  1.25106  1.54640  0.74348  0.13855   \n",
            "98  0.56543  1.30541  0.42601  1.42951  0.97510  0.98809  1.25734  1.35321   \n",
            "99  0.40698 -1.48788  0.81112  0.62730  0.81211  0.98937  0.70444  0.57349   \n",
            "\n",
            "      m_wbb   m_wwbb  \n",
            "0   0.99236  0.79834  \n",
            "1   0.86592  0.78012  \n",
            "2   1.02674  0.95790  \n",
            "3   0.87224  0.80849  \n",
            "4   0.96136  0.95782  \n",
            "5   0.97731  0.82879  \n",
            "6   0.89436  0.77488  \n",
            "7   3.53483  2.74075  \n",
            "8   0.93710  0.81236  \n",
            "9   0.78331  0.72512  \n",
            "10  0.83004  0.76131  \n",
            "11  0.92934  0.83830  \n",
            "12  0.95341  0.77972  \n",
            "13  1.00761  0.90102  \n",
            "14  0.57995  0.81727  \n",
            "15  0.59232  0.74514  \n",
            "16  1.18236  1.31630  \n",
            "17  1.01541  0.91464  \n",
            "18  1.78259  1.43817  \n",
            "19  0.93498  0.86530  \n",
            "20  0.76476  0.64292  \n",
            "21  0.88290  0.85940  \n",
            "22  1.20653  0.99906  \n",
            "23  1.55075  1.21671  \n",
            "24  1.13570  0.97284  \n",
            "25  0.97395  0.95123  \n",
            "26  0.73517  1.47030  \n",
            "27  0.83825  0.75205  \n",
            "28  0.60653  0.63835  \n",
            "29  0.80363  0.83054  \n",
            "30  0.84868  0.76508  \n",
            "31  0.85413  0.82241  \n",
            "32  2.15229  1.56827  \n",
            "33  1.08086  0.95660  \n",
            "34  0.64221  0.62091  \n",
            "35  0.91129  1.00715  \n",
            "36  1.83714  1.44383  \n",
            "37  1.44160  1.22207  \n",
            "38  0.94950  0.86341  \n",
            "39  0.58038  0.58899  \n",
            "40  0.92283  0.79842  \n",
            "41  1.60765  1.27226  \n",
            "42  0.68136  0.60439  \n",
            "43  0.78360  0.70294  \n",
            "44  0.85987  0.79396  \n",
            "45  0.95748  0.82112  \n",
            "46  1.02581  0.89535  \n",
            "47  1.23783  1.00592  \n",
            "48  0.74082  0.72626  \n",
            "49  1.13117  1.18149  \n",
            "50  1.27267  1.13777  \n",
            "51  1.66612  1.32234  \n",
            "52  0.75415  0.79224  \n",
            "53  1.60566  1.29500  \n",
            "54  0.90651  0.81852  \n",
            "55  3.17561  2.38714  \n",
            "56  0.65822  0.69369  \n",
            "57  0.92530  0.73088  \n",
            "58  2.31288  2.26742  \n",
            "59  0.82042  0.69721  \n",
            "60  0.70417  0.77795  \n",
            "61  0.82869  0.85621  \n",
            "62  0.87623  0.75652  \n",
            "63  2.74176  2.02331  \n",
            "64  1.12016  0.92028  \n",
            "65  1.17789  1.28518  \n",
            "66  1.05303  0.84542  \n",
            "67  0.63394  0.59006  \n",
            "68  1.01540  0.92385  \n",
            "69  1.06428  0.88162  \n",
            "70  1.47556  1.44543  \n",
            "71  0.79300  1.00974  \n",
            "72  1.00888  0.96474  \n",
            "73  1.07823  0.92584  \n",
            "74  0.98692  0.87231  \n",
            "75  0.91653  0.79898  \n",
            "76  2.49585  2.29857  \n",
            "77  1.06423  0.92856  \n",
            "78  1.22055  1.04721  \n",
            "79  0.84216  0.78544  \n",
            "80  0.96710  0.85201  \n",
            "81  0.72825  0.71688  \n",
            "82  1.15854  0.97907  \n",
            "83  0.81398  0.63948  \n",
            "84  0.92268  0.79422  \n",
            "85  0.88320  0.81036  \n",
            "86  0.63322  0.74967  \n",
            "87  0.86591  0.76547  \n",
            "88  0.87051  0.76903  \n",
            "89  1.71662  1.64423  \n",
            "90  1.01573  0.87852  \n",
            "91  1.87491  1.36385  \n",
            "92  0.66765  0.59886  \n",
            "93  0.99755  0.83708  \n",
            "94  3.84116  2.82491  \n",
            "95  1.04865  0.92279  \n",
            "96  0.88720  0.97068  \n",
            "97  0.71763  0.74605  \n",
            "98  1.04041  0.96299  \n",
            "99  0.70887  0.76500  \n"
          ]
        }
      ]
    },
    {
      "cell_type": "markdown",
      "source": [
        "# Prepare Data for training testing and evaluation"
      ],
      "metadata": {
        "id": "R56M-2vpG22d"
      }
    },
    {
      "cell_type": "code",
      "execution_count": null,
      "metadata": {
        "id": "0xiqj3rwt0iG"
      },
      "outputs": [],
      "source": [
        "X = data.iloc[:10000,1:] # data.iloc[:,1:]\n",
        "y = data.iloc[:10000,0] #data.iloc[:,0]"
      ]
    },
    {
      "cell_type": "code",
      "execution_count": null,
      "metadata": {
        "id": "L6uuuAbrt4nu"
      },
      "outputs": [],
      "source": [
        "X_train1, X_val, y_train1, y_val = train_test_split(X, y, test_size=0.05, random_state=42)\n",
        "X_train, X_test, y_train, y_test = train_test_split(X_train1, y_train1, test_size=0.05, random_state=42)"
      ]
    },
    {
      "cell_type": "code",
      "source": [
        "X_train.count()"
      ],
      "metadata": {
        "colab": {
          "base_uri": "https://localhost:8080/"
        },
        "id": "aFmult_LYqmi",
        "outputId": "1dc8c680-dfb6-451e-adc6-bd5dc0206725"
      },
      "execution_count": null,
      "outputs": [
        {
          "output_type": "execute_result",
          "data": {
            "text/plain": [
              "8.692932128906250000e-01      9025\n",
              "-6.350818276405334473e-01     9025\n",
              "2.256902605295181274e-01      9025\n",
              "3.274700641632080078e-01      9025\n",
              "-6.899932026863098145e-01     9025\n",
              "7.542022466659545898e-01      9025\n",
              "-2.485731393098831177e-01     9025\n",
              "-1.092063903808593750e+00     9025\n",
              "0.000000000000000000e+00      9025\n",
              "1.374992132186889648e+00      9025\n",
              "-6.536741852760314941e-01     9025\n",
              "9.303491115570068359e-01      9025\n",
              "1.107436060905456543e+00      9025\n",
              "1.138904333114624023e+00      9025\n",
              "-1.578198313713073730e+00     9025\n",
              "-1.046985387802124023e+00     9025\n",
              "0.000000000000000000e+00.1    9025\n",
              "6.579295396804809570e-01      9025\n",
              "-1.045456994324922562e-02     9025\n",
              "-4.576716944575309753e-02     9025\n",
              "3.101961374282836914e+00      9025\n",
              "1.353760004043579102e+00      9025\n",
              "9.795631170272827148e-01      9025\n",
              "9.780761599540710449e-01      9025\n",
              "9.200048446655273438e-01      9025\n",
              "7.216574549674987793e-01      9025\n",
              "9.887509346008300781e-01      9025\n",
              "8.766783475875854492e-01      9025\n",
              "dtype: int64"
            ]
          },
          "metadata": {},
          "execution_count": 23
        }
      ]
    },
    {
      "cell_type": "code",
      "source": [
        "X_test.count()"
      ],
      "metadata": {
        "colab": {
          "base_uri": "https://localhost:8080/"
        },
        "id": "ydw6e7s1thlI",
        "outputId": "2fdcf79c-9a8b-4938-bd8c-780574446a5b"
      },
      "execution_count": null,
      "outputs": [
        {
          "output_type": "execute_result",
          "data": {
            "text/plain": [
              "8.692932128906250000e-01      475\n",
              "-6.350818276405334473e-01     475\n",
              "2.256902605295181274e-01      475\n",
              "3.274700641632080078e-01      475\n",
              "-6.899932026863098145e-01     475\n",
              "7.542022466659545898e-01      475\n",
              "-2.485731393098831177e-01     475\n",
              "-1.092063903808593750e+00     475\n",
              "0.000000000000000000e+00      475\n",
              "1.374992132186889648e+00      475\n",
              "-6.536741852760314941e-01     475\n",
              "9.303491115570068359e-01      475\n",
              "1.107436060905456543e+00      475\n",
              "1.138904333114624023e+00      475\n",
              "-1.578198313713073730e+00     475\n",
              "-1.046985387802124023e+00     475\n",
              "0.000000000000000000e+00.1    475\n",
              "6.579295396804809570e-01      475\n",
              "-1.045456994324922562e-02     475\n",
              "-4.576716944575309753e-02     475\n",
              "3.101961374282836914e+00      475\n",
              "1.353760004043579102e+00      475\n",
              "9.795631170272827148e-01      475\n",
              "9.780761599540710449e-01      475\n",
              "9.200048446655273438e-01      475\n",
              "7.216574549674987793e-01      475\n",
              "9.887509346008300781e-01      475\n",
              "8.766783475875854492e-01      475\n",
              "dtype: int64"
            ]
          },
          "metadata": {},
          "execution_count": 24
        }
      ]
    },
    {
      "cell_type": "code",
      "source": [
        "X_val.count()"
      ],
      "metadata": {
        "colab": {
          "base_uri": "https://localhost:8080/"
        },
        "id": "7tdTFNXztpAn",
        "outputId": "2817d8c1-dc4c-47b8-8d8f-9fb8c1986b5a"
      },
      "execution_count": null,
      "outputs": [
        {
          "output_type": "execute_result",
          "data": {
            "text/plain": [
              "8.692932128906250000e-01      500\n",
              "-6.350818276405334473e-01     500\n",
              "2.256902605295181274e-01      500\n",
              "3.274700641632080078e-01      500\n",
              "-6.899932026863098145e-01     500\n",
              "7.542022466659545898e-01      500\n",
              "-2.485731393098831177e-01     500\n",
              "-1.092063903808593750e+00     500\n",
              "0.000000000000000000e+00      500\n",
              "1.374992132186889648e+00      500\n",
              "-6.536741852760314941e-01     500\n",
              "9.303491115570068359e-01      500\n",
              "1.107436060905456543e+00      500\n",
              "1.138904333114624023e+00      500\n",
              "-1.578198313713073730e+00     500\n",
              "-1.046985387802124023e+00     500\n",
              "0.000000000000000000e+00.1    500\n",
              "6.579295396804809570e-01      500\n",
              "-1.045456994324922562e-02     500\n",
              "-4.576716944575309753e-02     500\n",
              "3.101961374282836914e+00      500\n",
              "1.353760004043579102e+00      500\n",
              "9.795631170272827148e-01      500\n",
              "9.780761599540710449e-01      500\n",
              "9.200048446655273438e-01      500\n",
              "7.216574549674987793e-01      500\n",
              "9.887509346008300781e-01      500\n",
              "8.766783475875854492e-01      500\n",
              "dtype: int64"
            ]
          },
          "metadata": {},
          "execution_count": 25
        }
      ]
    },
    {
      "cell_type": "code",
      "execution_count": null,
      "metadata": {
        "id": "rZdakNsuuTHJ"
      },
      "outputs": [],
      "source": [
        "from itertools import combinations\n",
        "import matplotlib.pyplot as plt\n",
        "\n",
        "fig, axes = plt.subplots(len(X_train)//3, 3, figsize=(12, 48))\n",
        "\n",
        "i = 0\n",
        "for triaxis in axes:\n",
        "    for axis in triaxis:\n",
        "        X_train.hist(column = X_train.columns[i], bins = 100, ax=axis)\n",
        "        i = i+1"
      ]
    },
    {
      "cell_type": "markdown",
      "source": [
        "# Proposed method by authors"
      ],
      "metadata": {
        "id": "Cs_qsy49EvKk"
      }
    },
    {
      "cell_type": "code",
      "execution_count": null,
      "metadata": {
        "id": "85qVsSOAuVuB"
      },
      "outputs": [],
      "source": [
        "classifier = AdaBoostClassifier(\n",
        "    DecisionTreeClassifier(max_depth=1),\n",
        "    n_estimators=200\n",
        ")"
      ]
    },
    {
      "cell_type": "code",
      "execution_count": null,
      "metadata": {
        "id": "VCYdE5mduhbR"
      },
      "outputs": [],
      "source": [
        "from sklearn.ensemble import AdaBoostClassifier\n",
        "from sklearn.tree import DecisionTreeClassifier\n",
        "from sklearn.datasets import load_breast_cancer\n",
        "import pandas as pd\n",
        "import numpy as np\n",
        "from sklearn.model_selection import train_test_split\n",
        "from sklearn.metrics import confusion_matrix\n",
        "from sklearn.preprocessing import LabelEncoder"
      ]
    },
    {
      "cell_type": "code",
      "execution_count": null,
      "metadata": {
        "colab": {
          "base_uri": "https://localhost:8080/"
        },
        "id": "1px3eS3fujnh",
        "outputId": "5bcd3eeb-0f9e-413b-e2df-b1f5c17845e7"
      },
      "outputs": [
        {
          "output_type": "execute_result",
          "data": {
            "text/plain": [
              "AdaBoostClassifier(base_estimator=DecisionTreeClassifier(max_depth=1),\n",
              "                   n_estimators=200)"
            ]
          },
          "metadata": {},
          "execution_count": 18
        }
      ],
      "source": [
        "classifier.fit(X_train, y_train)"
      ]
    },
    {
      "cell_type": "code",
      "execution_count": null,
      "metadata": {
        "id": "-HRDRr6bul6B"
      },
      "outputs": [],
      "source": [
        "predictions = classifier.predict(X_test)"
      ]
    },
    {
      "cell_type": "code",
      "execution_count": null,
      "metadata": {
        "colab": {
          "base_uri": "https://localhost:8080/"
        },
        "id": "CoTB86KouoNx",
        "outputId": "daf2462e-3e68-49fb-9ad0-9b8cbc4af5ec"
      },
      "outputs": [
        {
          "output_type": "execute_result",
          "data": {
            "text/plain": [
              "array([[155,  68],\n",
              "       [ 79, 173]])"
            ]
          },
          "metadata": {},
          "execution_count": 20
        }
      ],
      "source": [
        "confusion_matrix(y_test, predictions)"
      ]
    },
    {
      "cell_type": "code",
      "execution_count": null,
      "metadata": {
        "id": "0WMgl7eRuqIB"
      },
      "outputs": [],
      "source": [
        "model = Sequential()\n",
        "model.add(Dense(28, input_dim=28, activation='relu'))\n",
        "model.add(Dense(8, activation='relu'))\n",
        "model.add(Dense(1, activation='sigmoid'))"
      ]
    },
    {
      "cell_type": "code",
      "execution_count": null,
      "metadata": {
        "colab": {
          "base_uri": "https://localhost:8080/"
        },
        "id": "xOv9zkNTut1N",
        "outputId": "74beffb9-1de7-4424-d1e0-aa6ec0d8d6d5"
      },
      "outputs": [
        {
          "output_type": "stream",
          "name": "stdout",
          "text": [
            "Epoch 1/100\n",
            "1000/1000 [==============================] - 5s 2ms/step - loss: 0.6902 - accuracy: 0.5444 - val_loss: 0.6668 - val_accuracy: 0.5800\n",
            "Epoch 2/100\n",
            "1000/1000 [==============================] - 2s 2ms/step - loss: 0.6617 - accuracy: 0.5987 - val_loss: 0.6569 - val_accuracy: 0.5760\n",
            "Epoch 3/100\n",
            "1000/1000 [==============================] - 2s 2ms/step - loss: 0.6477 - accuracy: 0.6195 - val_loss: 0.6495 - val_accuracy: 0.5900\n",
            "Epoch 4/100\n",
            "1000/1000 [==============================] - 2s 2ms/step - loss: 0.6409 - accuracy: 0.6260 - val_loss: 0.6421 - val_accuracy: 0.6180\n",
            "Epoch 5/100\n",
            "1000/1000 [==============================] - 2s 2ms/step - loss: 0.6380 - accuracy: 0.6283 - val_loss: 0.6379 - val_accuracy: 0.6120\n",
            "Epoch 6/100\n",
            "1000/1000 [==============================] - 2s 2ms/step - loss: 0.6334 - accuracy: 0.6335 - val_loss: 0.6373 - val_accuracy: 0.6100\n",
            "Epoch 7/100\n",
            "1000/1000 [==============================] - 2s 2ms/step - loss: 0.6297 - accuracy: 0.6398 - val_loss: 0.6349 - val_accuracy: 0.6160\n",
            "Epoch 8/100\n",
            "1000/1000 [==============================] - 2s 2ms/step - loss: 0.6257 - accuracy: 0.6461 - val_loss: 0.6366 - val_accuracy: 0.6260\n",
            "Epoch 9/100\n",
            "1000/1000 [==============================] - 2s 2ms/step - loss: 0.6228 - accuracy: 0.6508 - val_loss: 0.6175 - val_accuracy: 0.6520\n",
            "Epoch 10/100\n",
            "1000/1000 [==============================] - 2s 2ms/step - loss: 0.6196 - accuracy: 0.6526 - val_loss: 0.6259 - val_accuracy: 0.6340\n",
            "Epoch 11/100\n",
            "1000/1000 [==============================] - 2s 2ms/step - loss: 0.6165 - accuracy: 0.6587 - val_loss: 0.6269 - val_accuracy: 0.6400\n",
            "Epoch 12/100\n",
            "1000/1000 [==============================] - 2s 2ms/step - loss: 0.6158 - accuracy: 0.6593 - val_loss: 0.6209 - val_accuracy: 0.6520\n",
            "Epoch 13/100\n",
            "1000/1000 [==============================] - 2s 2ms/step - loss: 0.6105 - accuracy: 0.6631 - val_loss: 0.6216 - val_accuracy: 0.6360\n",
            "Epoch 14/100\n",
            "1000/1000 [==============================] - 2s 2ms/step - loss: 0.6079 - accuracy: 0.6681 - val_loss: 0.6108 - val_accuracy: 0.6540\n",
            "Epoch 15/100\n",
            "1000/1000 [==============================] - 2s 2ms/step - loss: 0.6058 - accuracy: 0.6686 - val_loss: 0.6076 - val_accuracy: 0.6660\n",
            "Epoch 16/100\n",
            "1000/1000 [==============================] - 2s 2ms/step - loss: 0.6030 - accuracy: 0.6713 - val_loss: 0.6052 - val_accuracy: 0.6400\n",
            "Epoch 17/100\n",
            "1000/1000 [==============================] - 2s 2ms/step - loss: 0.6025 - accuracy: 0.6731 - val_loss: 0.5963 - val_accuracy: 0.6800\n",
            "Epoch 18/100\n",
            "1000/1000 [==============================] - 2s 2ms/step - loss: 0.5994 - accuracy: 0.6730 - val_loss: 0.6019 - val_accuracy: 0.6620\n",
            "Epoch 19/100\n",
            "1000/1000 [==============================] - 2s 2ms/step - loss: 0.5985 - accuracy: 0.6762 - val_loss: 0.5924 - val_accuracy: 0.6780\n",
            "Epoch 20/100\n",
            "1000/1000 [==============================] - 2s 2ms/step - loss: 0.5966 - accuracy: 0.6775 - val_loss: 0.5877 - val_accuracy: 0.6900\n",
            "Epoch 21/100\n",
            "1000/1000 [==============================] - 2s 2ms/step - loss: 0.5941 - accuracy: 0.6801 - val_loss: 0.5949 - val_accuracy: 0.6640\n",
            "Epoch 22/100\n",
            "1000/1000 [==============================] - 2s 2ms/step - loss: 0.5917 - accuracy: 0.6831 - val_loss: 0.5907 - val_accuracy: 0.6940\n",
            "Epoch 23/100\n",
            "1000/1000 [==============================] - 2s 2ms/step - loss: 0.5896 - accuracy: 0.6881 - val_loss: 0.5926 - val_accuracy: 0.6720\n",
            "Epoch 24/100\n",
            "1000/1000 [==============================] - 2s 2ms/step - loss: 0.5889 - accuracy: 0.6822 - val_loss: 0.5880 - val_accuracy: 0.6440\n",
            "Epoch 25/100\n",
            "1000/1000 [==============================] - 2s 2ms/step - loss: 0.5866 - accuracy: 0.6880 - val_loss: 0.5848 - val_accuracy: 0.6820\n",
            "Epoch 26/100\n",
            "1000/1000 [==============================] - 2s 2ms/step - loss: 0.5862 - accuracy: 0.6838 - val_loss: 0.5810 - val_accuracy: 0.6940\n",
            "Epoch 27/100\n",
            "1000/1000 [==============================] - 2s 2ms/step - loss: 0.5836 - accuracy: 0.6863 - val_loss: 0.5992 - val_accuracy: 0.6760\n",
            "Epoch 28/100\n",
            "1000/1000 [==============================] - 2s 2ms/step - loss: 0.5833 - accuracy: 0.6893 - val_loss: 0.5764 - val_accuracy: 0.6840\n",
            "Epoch 29/100\n",
            "1000/1000 [==============================] - 2s 2ms/step - loss: 0.5807 - accuracy: 0.6880 - val_loss: 0.5756 - val_accuracy: 0.6880\n",
            "Epoch 30/100\n",
            "1000/1000 [==============================] - 2s 2ms/step - loss: 0.5791 - accuracy: 0.6929 - val_loss: 0.5672 - val_accuracy: 0.6980\n",
            "Epoch 31/100\n",
            "1000/1000 [==============================] - 2s 2ms/step - loss: 0.5776 - accuracy: 0.6937 - val_loss: 0.5701 - val_accuracy: 0.6800\n",
            "Epoch 32/100\n",
            "1000/1000 [==============================] - 2s 2ms/step - loss: 0.5763 - accuracy: 0.6942 - val_loss: 0.5695 - val_accuracy: 0.6880\n",
            "Epoch 33/100\n",
            "1000/1000 [==============================] - 2s 2ms/step - loss: 0.5761 - accuracy: 0.6965 - val_loss: 0.5623 - val_accuracy: 0.6940\n",
            "Epoch 34/100\n",
            "1000/1000 [==============================] - 2s 2ms/step - loss: 0.5735 - accuracy: 0.6993 - val_loss: 0.5702 - val_accuracy: 0.6900\n",
            "Epoch 35/100\n",
            "1000/1000 [==============================] - 2s 2ms/step - loss: 0.5713 - accuracy: 0.6994 - val_loss: 0.5790 - val_accuracy: 0.7040\n",
            "Epoch 36/100\n",
            "1000/1000 [==============================] - 2s 2ms/step - loss: 0.5705 - accuracy: 0.6978 - val_loss: 0.5593 - val_accuracy: 0.6940\n",
            "Epoch 37/100\n",
            "1000/1000 [==============================] - 2s 2ms/step - loss: 0.5678 - accuracy: 0.7073 - val_loss: 0.5604 - val_accuracy: 0.6960\n",
            "Epoch 38/100\n",
            "1000/1000 [==============================] - 2s 2ms/step - loss: 0.5654 - accuracy: 0.7083 - val_loss: 0.5534 - val_accuracy: 0.6960\n",
            "Epoch 39/100\n",
            "1000/1000 [==============================] - 2s 2ms/step - loss: 0.5659 - accuracy: 0.7004 - val_loss: 0.5482 - val_accuracy: 0.7040\n",
            "Epoch 40/100\n",
            "1000/1000 [==============================] - 2s 2ms/step - loss: 0.5637 - accuracy: 0.7087 - val_loss: 0.5594 - val_accuracy: 0.7140\n",
            "Epoch 41/100\n",
            "1000/1000 [==============================] - 3s 3ms/step - loss: 0.5639 - accuracy: 0.7061 - val_loss: 0.5423 - val_accuracy: 0.7060\n",
            "Epoch 42/100\n",
            "1000/1000 [==============================] - 2s 2ms/step - loss: 0.5611 - accuracy: 0.7083 - val_loss: 0.5557 - val_accuracy: 0.7000\n",
            "Epoch 43/100\n",
            "1000/1000 [==============================] - 2s 2ms/step - loss: 0.5603 - accuracy: 0.7062 - val_loss: 0.5510 - val_accuracy: 0.7160\n",
            "Epoch 44/100\n",
            "1000/1000 [==============================] - 2s 2ms/step - loss: 0.5573 - accuracy: 0.7161 - val_loss: 0.5672 - val_accuracy: 0.6840\n",
            "Epoch 45/100\n",
            "1000/1000 [==============================] - 2s 2ms/step - loss: 0.5588 - accuracy: 0.7123 - val_loss: 0.5628 - val_accuracy: 0.7060\n",
            "Epoch 46/100\n",
            "1000/1000 [==============================] - 2s 2ms/step - loss: 0.5579 - accuracy: 0.7113 - val_loss: 0.5401 - val_accuracy: 0.7100\n",
            "Epoch 47/100\n",
            "1000/1000 [==============================] - 2s 2ms/step - loss: 0.5554 - accuracy: 0.7155 - val_loss: 0.5557 - val_accuracy: 0.6940\n",
            "Epoch 48/100\n",
            "1000/1000 [==============================] - 2s 2ms/step - loss: 0.5562 - accuracy: 0.7179 - val_loss: 0.5466 - val_accuracy: 0.7040\n",
            "Epoch 49/100\n",
            "1000/1000 [==============================] - 2s 2ms/step - loss: 0.5538 - accuracy: 0.7166 - val_loss: 0.5453 - val_accuracy: 0.7080\n",
            "Epoch 50/100\n",
            "1000/1000 [==============================] - 2s 2ms/step - loss: 0.5526 - accuracy: 0.7158 - val_loss: 0.5368 - val_accuracy: 0.7120\n",
            "Epoch 51/100\n",
            "1000/1000 [==============================] - 2s 2ms/step - loss: 0.5527 - accuracy: 0.7144 - val_loss: 0.5384 - val_accuracy: 0.6980\n",
            "Epoch 52/100\n",
            "1000/1000 [==============================] - 2s 2ms/step - loss: 0.5510 - accuracy: 0.7189 - val_loss: 0.5402 - val_accuracy: 0.7120\n",
            "Epoch 53/100\n",
            "1000/1000 [==============================] - 2s 2ms/step - loss: 0.5511 - accuracy: 0.7177 - val_loss: 0.5345 - val_accuracy: 0.7220\n",
            "Epoch 54/100\n",
            "1000/1000 [==============================] - 2s 2ms/step - loss: 0.5499 - accuracy: 0.7187 - val_loss: 0.5354 - val_accuracy: 0.7180\n",
            "Epoch 55/100\n",
            "1000/1000 [==============================] - 2s 2ms/step - loss: 0.5483 - accuracy: 0.7196 - val_loss: 0.5267 - val_accuracy: 0.7260\n",
            "Epoch 56/100\n",
            "1000/1000 [==============================] - 2s 2ms/step - loss: 0.5504 - accuracy: 0.7166 - val_loss: 0.5343 - val_accuracy: 0.7200\n",
            "Epoch 57/100\n",
            "1000/1000 [==============================] - 2s 2ms/step - loss: 0.5467 - accuracy: 0.7208 - val_loss: 0.5411 - val_accuracy: 0.7060\n",
            "Epoch 58/100\n",
            "1000/1000 [==============================] - 2s 2ms/step - loss: 0.5468 - accuracy: 0.7187 - val_loss: 0.5413 - val_accuracy: 0.7140\n",
            "Epoch 59/100\n",
            "1000/1000 [==============================] - 2s 2ms/step - loss: 0.5459 - accuracy: 0.7210 - val_loss: 0.5373 - val_accuracy: 0.7300\n",
            "Epoch 60/100\n",
            "1000/1000 [==============================] - 2s 2ms/step - loss: 0.5455 - accuracy: 0.7256 - val_loss: 0.5518 - val_accuracy: 0.7160\n",
            "Epoch 61/100\n",
            "1000/1000 [==============================] - 2s 2ms/step - loss: 0.5446 - accuracy: 0.7223 - val_loss: 0.5416 - val_accuracy: 0.6960\n",
            "Epoch 62/100\n",
            "1000/1000 [==============================] - 2s 2ms/step - loss: 0.5433 - accuracy: 0.7242 - val_loss: 0.5217 - val_accuracy: 0.7160\n",
            "Epoch 63/100\n",
            "1000/1000 [==============================] - 2s 2ms/step - loss: 0.5449 - accuracy: 0.7203 - val_loss: 0.5316 - val_accuracy: 0.7320\n",
            "Epoch 64/100\n",
            "1000/1000 [==============================] - 2s 2ms/step - loss: 0.5437 - accuracy: 0.7243 - val_loss: 0.5266 - val_accuracy: 0.7160\n",
            "Epoch 65/100\n",
            "1000/1000 [==============================] - 2s 2ms/step - loss: 0.5423 - accuracy: 0.7216 - val_loss: 0.5332 - val_accuracy: 0.7020\n",
            "Epoch 66/100\n",
            "1000/1000 [==============================] - 2s 2ms/step - loss: 0.5424 - accuracy: 0.7235 - val_loss: 0.5242 - val_accuracy: 0.7280\n",
            "Epoch 67/100\n",
            "1000/1000 [==============================] - 2s 2ms/step - loss: 0.5417 - accuracy: 0.7250 - val_loss: 0.5292 - val_accuracy: 0.7300\n",
            "Epoch 68/100\n",
            "1000/1000 [==============================] - 2s 2ms/step - loss: 0.5419 - accuracy: 0.7214 - val_loss: 0.5308 - val_accuracy: 0.7300\n",
            "Epoch 69/100\n",
            "1000/1000 [==============================] - 2s 2ms/step - loss: 0.5412 - accuracy: 0.7248 - val_loss: 0.5298 - val_accuracy: 0.7080\n",
            "Epoch 70/100\n",
            "1000/1000 [==============================] - 2s 2ms/step - loss: 0.5363 - accuracy: 0.7274 - val_loss: 0.5253 - val_accuracy: 0.7280\n",
            "Epoch 71/100\n",
            "1000/1000 [==============================] - 2s 2ms/step - loss: 0.5411 - accuracy: 0.7228 - val_loss: 0.5376 - val_accuracy: 0.7120\n",
            "Epoch 72/100\n",
            "1000/1000 [==============================] - 2s 2ms/step - loss: 0.5390 - accuracy: 0.7256 - val_loss: 0.5435 - val_accuracy: 0.7200\n",
            "Epoch 73/100\n",
            "1000/1000 [==============================] - 2s 2ms/step - loss: 0.5387 - accuracy: 0.7288 - val_loss: 0.5159 - val_accuracy: 0.7300\n",
            "Epoch 74/100\n",
            "1000/1000 [==============================] - 2s 2ms/step - loss: 0.5379 - accuracy: 0.7227 - val_loss: 0.5217 - val_accuracy: 0.7340\n",
            "Epoch 75/100\n",
            "1000/1000 [==============================] - 2s 2ms/step - loss: 0.5372 - accuracy: 0.7233 - val_loss: 0.5183 - val_accuracy: 0.7380\n",
            "Epoch 76/100\n",
            "1000/1000 [==============================] - 2s 2ms/step - loss: 0.5359 - accuracy: 0.7273 - val_loss: 0.5150 - val_accuracy: 0.7240\n",
            "Epoch 77/100\n",
            "1000/1000 [==============================] - 2s 2ms/step - loss: 0.5376 - accuracy: 0.7273 - val_loss: 0.5055 - val_accuracy: 0.7440\n",
            "Epoch 78/100\n",
            "1000/1000 [==============================] - 2s 2ms/step - loss: 0.5342 - accuracy: 0.7283 - val_loss: 0.5217 - val_accuracy: 0.7460\n",
            "Epoch 79/100\n",
            "1000/1000 [==============================] - 2s 2ms/step - loss: 0.5348 - accuracy: 0.7212 - val_loss: 0.5234 - val_accuracy: 0.7200\n",
            "Epoch 80/100\n",
            "1000/1000 [==============================] - 2s 2ms/step - loss: 0.5334 - accuracy: 0.7296 - val_loss: 0.5281 - val_accuracy: 0.7220\n",
            "Epoch 81/100\n",
            "1000/1000 [==============================] - 2s 2ms/step - loss: 0.5345 - accuracy: 0.7272 - val_loss: 0.5212 - val_accuracy: 0.7240\n",
            "Epoch 82/100\n",
            "1000/1000 [==============================] - 2s 2ms/step - loss: 0.5321 - accuracy: 0.7327 - val_loss: 0.5297 - val_accuracy: 0.7260\n",
            "Epoch 83/100\n",
            "1000/1000 [==============================] - 2s 2ms/step - loss: 0.5313 - accuracy: 0.7305 - val_loss: 0.5083 - val_accuracy: 0.7420\n",
            "Epoch 84/100\n",
            "1000/1000 [==============================] - 2s 2ms/step - loss: 0.5309 - accuracy: 0.7318 - val_loss: 0.5083 - val_accuracy: 0.7300\n",
            "Epoch 85/100\n",
            "1000/1000 [==============================] - 2s 2ms/step - loss: 0.5298 - accuracy: 0.7313 - val_loss: 0.5172 - val_accuracy: 0.7460\n",
            "Epoch 86/100\n",
            "1000/1000 [==============================] - 2s 2ms/step - loss: 0.5315 - accuracy: 0.7327 - val_loss: 0.5148 - val_accuracy: 0.7440\n",
            "Epoch 87/100\n",
            "1000/1000 [==============================] - 2s 2ms/step - loss: 0.5318 - accuracy: 0.7265 - val_loss: 0.5147 - val_accuracy: 0.7400\n",
            "Epoch 88/100\n",
            "1000/1000 [==============================] - 2s 2ms/step - loss: 0.5298 - accuracy: 0.7318 - val_loss: 0.5032 - val_accuracy: 0.7440\n",
            "Epoch 89/100\n",
            "1000/1000 [==============================] - 2s 2ms/step - loss: 0.5299 - accuracy: 0.7333 - val_loss: 0.5093 - val_accuracy: 0.7600\n",
            "Epoch 90/100\n",
            "1000/1000 [==============================] - 2s 2ms/step - loss: 0.5296 - accuracy: 0.7327 - val_loss: 0.5093 - val_accuracy: 0.7480\n",
            "Epoch 91/100\n",
            "1000/1000 [==============================] - 2s 2ms/step - loss: 0.5292 - accuracy: 0.7351 - val_loss: 0.5160 - val_accuracy: 0.7360\n",
            "Epoch 92/100\n",
            "1000/1000 [==============================] - 2s 2ms/step - loss: 0.5280 - accuracy: 0.7280 - val_loss: 0.5279 - val_accuracy: 0.7280\n",
            "Epoch 93/100\n",
            "1000/1000 [==============================] - 2s 2ms/step - loss: 0.5300 - accuracy: 0.7325 - val_loss: 0.5109 - val_accuracy: 0.7540\n",
            "Epoch 94/100\n",
            "1000/1000 [==============================] - 2s 2ms/step - loss: 0.5271 - accuracy: 0.7371 - val_loss: 0.5173 - val_accuracy: 0.7340\n",
            "Epoch 95/100\n",
            "1000/1000 [==============================] - 2s 2ms/step - loss: 0.5268 - accuracy: 0.7374 - val_loss: 0.5191 - val_accuracy: 0.7440\n",
            "Epoch 96/100\n",
            "1000/1000 [==============================] - 2s 2ms/step - loss: 0.5258 - accuracy: 0.7351 - val_loss: 0.5038 - val_accuracy: 0.7400\n",
            "Epoch 97/100\n",
            "1000/1000 [==============================] - 2s 2ms/step - loss: 0.5248 - accuracy: 0.7365 - val_loss: 0.5095 - val_accuracy: 0.7380\n",
            "Epoch 98/100\n",
            "1000/1000 [==============================] - 2s 2ms/step - loss: 0.5250 - accuracy: 0.7354 - val_loss: 0.5021 - val_accuracy: 0.7540\n",
            "Epoch 99/100\n",
            "1000/1000 [==============================] - 2s 2ms/step - loss: 0.5256 - accuracy: 0.7356 - val_loss: 0.5079 - val_accuracy: 0.7360\n",
            "Epoch 100/100\n",
            "1000/1000 [==============================] - 2s 2ms/step - loss: 0.5258 - accuracy: 0.7379 - val_loss: 0.5116 - val_accuracy: 0.7440\n",
            "313/313 [==============================] - 1s 2ms/step - loss: 0.5159 - accuracy: 0.7441\n",
            "Accuracy: 74.41\n"
          ]
        }
      ],
      "source": [
        "model.compile(loss='binary_crossentropy', optimizer='adam', metrics=['accuracy'])\n",
        "# fit the keras model on the dataset\n",
        "history=model.fit(X, y,validation_data=(X_val,y_val),epochs=100, batch_size=10)\n",
        "# evaluate the keras model\n",
        "_, accuracy = model.evaluate(X, y)\n",
        "model.save('my_model.h5') ##Saving model weights\n",
        "print('Accuracy: %.2f' % (accuracy*100))"
      ]
    },
    {
      "cell_type": "code",
      "execution_count": null,
      "metadata": {
        "colab": {
          "base_uri": "https://localhost:8080/"
        },
        "id": "9tOVJpVvuvz9",
        "outputId": "4a18729e-154f-4c79-a4c7-aeaafc5ba551"
      },
      "outputs": [
        {
          "output_type": "stream",
          "name": "stdout",
          "text": [
            "dict_keys(['loss', 'accuracy', 'val_loss', 'val_accuracy'])\n"
          ]
        }
      ],
      "source": [
        "print(history.history.keys())"
      ]
    },
    {
      "cell_type": "code",
      "execution_count": null,
      "metadata": {
        "colab": {
          "base_uri": "https://localhost:8080/",
          "height": 295
        },
        "id": "WbYxHAZtu_p_",
        "outputId": "07b59758-43dd-4d18-b37f-ee0296596315"
      },
      "outputs": [
        {
          "output_type": "display_data",
          "data": {
            "text/plain": [
              "<Figure size 432x288 with 1 Axes>"
            ],
            "image/png": "[encoded data removed]"
          },
          "metadata": {
            "needs_background": "light"
          }
        }
      ],
      "source": [
        "plt.plot(history.history['accuracy'])\n",
        "plt.plot(history.history['val_accuracy'])\n",
        "plt.title('model accuracy')\n",
        "plt.ylabel('accuracy')\n",
        "plt.xlabel('epoch')\n",
        "plt.legend(['train', 'test'], loc='upper left')\n",
        "plt.show()\n"
      ]
    },
    {
      "cell_type": "code",
      "execution_count": null,
      "metadata": {
        "colab": {
          "base_uri": "https://localhost:8080/",
          "height": 295
        },
        "id": "M6P4JWLavCWP",
        "outputId": "042c7b3b-1aa8-4a38-b0d9-10b94f6b5850"
      },
      "outputs": [
        {
          "output_type": "display_data",
          "data": {
            "text/plain": [
              "<Figure size 432x288 with 1 Axes>"
            ],
            "image/png": "[encoded data removed]"
          },
          "metadata": {
            "needs_background": "light"
          }
        }
      ],
      "source": [
        "plt.plot(history.history['loss'])\n",
        "plt.plot(history.history['val_loss'])\n",
        "plt.title('model loss')\n",
        "plt.ylabel('loss')\n",
        "plt.xlabel('epoch')\n",
        "plt.legend(['train', 'test'], loc='upper left')\n",
        "plt.show()"
      ]
    },
    {
      "cell_type": "code",
      "execution_count": null,
      "metadata": {
        "colab": {
          "base_uri": "https://localhost:8080/"
        },
        "id": "UaLSIpRTvF4f",
        "outputId": "af995445-0263-4a42-951d-0a467cc7f938"
      },
      "outputs": [
        {
          "output_type": "stream",
          "name": "stdout",
          "text": [
            "15/15 [==============================] - 0s 2ms/step\n"
          ]
        }
      ],
      "source": [
        "y_pred=model.predict(X_test)"
      ]
    },
    {
      "cell_type": "code",
      "execution_count": null,
      "metadata": {
        "colab": {
          "base_uri": "https://localhost:8080/"
        },
        "id": "61L0f76GvIJf",
        "outputId": "98b7c841-f7c5-418f-d000-06f7c1df5bed"
      },
      "outputs": [
        {
          "output_type": "execute_result",
          "data": {
            "text/plain": [
              "array([[154,  69],\n",
              "       [ 45, 207]])"
            ]
          },
          "metadata": {},
          "execution_count": 27
        }
      ],
      "source": [
        "confusion_matrix(y_test, y_pred.round())"
      ]
    },
    {
      "cell_type": "code",
      "execution_count": null,
      "metadata": {
        "colab": {
          "base_uri": "https://localhost:8080/",
          "height": 350
        },
        "id": "6fui2tftvNZB",
        "outputId": "5359d022-39f9-43a0-be50-0ffc92a22a43"
      },
      "outputs": [
        {
          "output_type": "display_data",
          "data": {
            "text/plain": [
              "<Figure size 360x360 with 1 Axes>"
            ],
            "image/png": "[encoded data removed]"
          },
          "metadata": {}
        }
      ],
      "source": [
        "from plot_metric.functions import BinaryClassification\n",
        "# Visualisation with plot_metric\n",
        "bc = BinaryClassification(y_pred.round(), y_test, labels=[\"Class 1\", \"Class 2\"])\n",
        "\n",
        "# Figures\n",
        "plt.figure(figsize=(5,5))\n",
        "bc.plot_roc_curve()\n",
        "plt.show()"
      ]
    },
    {
      "cell_type": "markdown",
      "source": [
        "# Machine Learning Classifiers"
      ],
      "metadata": {
        "id": "jy6EBy1ICi6E"
      }
    },
    {
      "cell_type": "code",
      "execution_count": null,
      "metadata": {
        "colab": {
          "base_uri": "https://localhost:8080/"
        },
        "id": "9-3aTwf4vQDx",
        "outputId": "e2b37c5d-b1f5-4acf-c87a-900deaf6be26"
      },
      "outputs": [
        {
          "output_type": "stream",
          "name": "stdout",
          "text": [
            "Random Forest Classifier\n",
            "              precision    recall  f1-score   support\n",
            "\n",
            "         0.0       0.69      0.71      0.70       223\n",
            "         1.0       0.74      0.71      0.73       252\n",
            "\n",
            "    accuracy                           0.71       475\n",
            "   macro avg       0.71      0.71      0.71       475\n",
            "weighted avg       0.71      0.71      0.71       475\n",
            "\n",
            "[[159  64]\n",
            " [ 72 180]]\n",
            "71.36842105263158\n"
          ]
        }
      ],
      "source": [
        "print(\"Random Forest Classifier\")\n",
        "model_1 = RandomForestClassifier(n_estimators=2000)\n",
        "model_1.fit(X_train,y_train)\n",
        "m1_prediction = model_1.predict(X_test)\n",
        "print(classification_report(y_test,m1_prediction))\n",
        "print(confusion_matrix(y_test,m1_prediction))\n",
        "print(accuracy_score(y_test,m1_prediction)*100)"
      ]
    },
    {
      "cell_type": "code",
      "execution_count": null,
      "metadata": {
        "colab": {
          "base_uri": "https://localhost:8080/"
        },
        "id": "LCvIzh1Bv9t6",
        "outputId": "7af72292-4fb1-4dd1-c93a-e1eedf394c0a"
      },
      "outputs": [
        {
          "output_type": "stream",
          "name": "stdout",
          "text": [
            "Linear kernel Support Vector Classifier\n",
            "              precision    recall  f1-score   support\n",
            "\n",
            "         0.0       0.71      0.53      0.61       223\n",
            "         1.0       0.66      0.81      0.73       252\n",
            "\n",
            "    accuracy                           0.68       475\n",
            "   macro avg       0.68      0.67      0.67       475\n",
            "weighted avg       0.68      0.68      0.67       475\n",
            "\n",
            "[[119 104]\n",
            " [ 49 203]]\n",
            "67.78947368421052\n"
          ]
        }
      ],
      "source": [
        "print(\"Linear kernel Support Vector Classifier\")\n",
        "model_2 = svm.SVC(kernel='linear')\n",
        "model_2.fit(X_train,y_train)\n",
        "m2_prediction = model_2.predict(X_test)\n",
        "\n",
        "# performance\n",
        "print(classification_report(y_test,m2_prediction))\n",
        "print(confusion_matrix(y_test,m2_prediction))\n",
        "print(accuracy_score(y_test,m2_prediction)*100)"
      ]
    },
    {
      "cell_type": "code",
      "execution_count": null,
      "metadata": {
        "colab": {
          "base_uri": "https://localhost:8080/"
        },
        "id": "9TLR2vjEwJyS",
        "outputId": "17eef074-3869-4a0e-a9d8-1d72bfa9c55a"
      },
      "outputs": [
        {
          "output_type": "stream",
          "name": "stdout",
          "text": [
            "Poly kernel Support Vector Classifier\n",
            "              precision    recall  f1-score   support\n",
            "\n",
            "         0.0       0.64      0.54      0.59       223\n",
            "         1.0       0.64      0.73      0.68       252\n",
            "\n",
            "    accuracy                           0.64       475\n",
            "   macro avg       0.64      0.63      0.63       475\n",
            "weighted avg       0.64      0.64      0.64       475\n",
            "\n",
            "[[121 102]\n",
            " [ 69 183]]\n",
            "64.0\n"
          ]
        }
      ],
      "source": [
        "print(\"Poly kernel Support Vector Classifier\")\n",
        "model_3 = svm.SVC(kernel='poly',degree=4)\n",
        "model_3.fit(X_train,y_train)\n",
        "m3_prediction = model_3.predict(X_test)\n",
        "\n",
        "# performance\n",
        "print(classification_report(y_test,m3_prediction))\n",
        "print(confusion_matrix(y_test,m3_prediction))\n",
        "print(accuracy_score(y_test,m3_prediction)*100)"
      ]
    },
    {
      "cell_type": "code",
      "execution_count": null,
      "metadata": {
        "colab": {
          "base_uri": "https://localhost:8080/"
        },
        "id": "EZB8ikolvhvZ",
        "outputId": "0e8c4d1e-9336-4176-f6b6-b521279d672e"
      },
      "outputs": [
        {
          "output_type": "stream",
          "name": "stdout",
          "text": [
            "Sigmoid kernel Support Vector Classifier\n",
            "              precision    recall  f1-score   support\n",
            "\n",
            "         0.0       0.46      0.48      0.47       223\n",
            "         1.0       0.52      0.51      0.52       252\n",
            "\n",
            "    accuracy                           0.49       475\n",
            "   macro avg       0.49      0.49      0.49       475\n",
            "weighted avg       0.49      0.49      0.49       475\n",
            "\n",
            "[[106 117]\n",
            " [124 128]]\n",
            "49.26315789473684\n"
          ]
        }
      ],
      "source": [
        "print(\"Sigmoid kernel Support Vector Classifier\")\n",
        "model_4 = svm.SVC(kernel='sigmoid')\n",
        "model_4.fit(X_train,y_train)\n",
        "m4_prediction = model_4.predict(X_test)\n",
        "\n",
        "# performance\n",
        "print(classification_report(y_test,m4_prediction))\n",
        "print(confusion_matrix(y_test,m4_prediction))\n",
        "print(accuracy_score(y_test,m4_prediction)*100)"
      ]
    },
    {
      "cell_type": "code",
      "execution_count": null,
      "metadata": {
        "colab": {
          "base_uri": "https://localhost:8080/"
        },
        "id": "rcwqnmDGwSAh",
        "outputId": "715e1d65-ef04-4e74-d16e-774df30b55dc"
      },
      "outputs": [
        {
          "output_type": "stream",
          "name": "stdout",
          "text": [
            "Naive Bayes Classifier\n",
            "              precision    recall  f1-score   support\n",
            "\n",
            "         0.0       0.58      0.32      0.41       223\n",
            "         1.0       0.57      0.79      0.66       252\n",
            "\n",
            "    accuracy                           0.57       475\n",
            "   macro avg       0.57      0.56      0.54       475\n",
            "weighted avg       0.57      0.57      0.55       475\n",
            "\n",
            "[[ 72 151]\n",
            " [ 53 199]]\n",
            "57.05263157894736\n"
          ]
        }
      ],
      "source": [
        "print(\"Naive Bayes Classifier\")\n",
        "\n",
        "model_5 = GaussianNB()\n",
        "model_5.fit(X_train,y_train)\n",
        "m5_prediction = model_5.predict(X_test)\n",
        "\n",
        "\n",
        "print(classification_report(y_test,m5_prediction))\n",
        "print(confusion_matrix(y_test,m5_prediction))\n",
        "print(accuracy_score(y_test,m5_prediction)*100)"
      ]
    },
    {
      "cell_type": "code",
      "execution_count": null,
      "metadata": {
        "colab": {
          "base_uri": "https://localhost:8080/"
        },
        "id": "bEUqa6jiwWN5",
        "outputId": "3d5c1c4e-efd4-4114-bb3e-d6a67c2713c9"
      },
      "outputs": [
        {
          "output_type": "stream",
          "name": "stdout",
          "text": [
            "Logistic Regression Classifier\n",
            "              precision    recall  f1-score   support\n",
            "\n",
            "         0.0       0.67      0.60      0.63       223\n",
            "         1.0       0.67      0.74      0.70       252\n",
            "\n",
            "    accuracy                           0.67       475\n",
            "   macro avg       0.67      0.67      0.67       475\n",
            "weighted avg       0.67      0.67      0.67       475\n",
            "\n",
            "[[133  90]\n",
            " [ 66 186]]\n",
            "67.15789473684211\n"
          ]
        }
      ],
      "source": [
        "print(\"Logistic Regression Classifier\")\n",
        "model_6 = LogisticRegression(random_state=0).fit(X_train,y_train)\n",
        "m6_prediction = model_6.predict(X_test)\n",
        "\n",
        "print(classification_report(y_test,m6_prediction))\n",
        "print(confusion_matrix(y_test,m6_prediction))\n",
        "print(accuracy_score(y_test,m6_prediction)*100)"
      ]
    },
    {
      "cell_type": "code",
      "execution_count": null,
      "metadata": {
        "colab": {
          "base_uri": "https://localhost:8080/"
        },
        "id": "NV-K-2_HwZjh",
        "outputId": "424db2b1-cf33-4331-c6ba-543c444cc041"
      },
      "outputs": [
        {
          "output_type": "stream",
          "name": "stdout",
          "text": [
            "Stochastic Gradient Descent Classifier\n",
            "              precision    recall  f1-score   support\n",
            "\n",
            "         0.0       0.53      0.86      0.66       223\n",
            "         1.0       0.73      0.33      0.45       252\n",
            "\n",
            "    accuracy                           0.58       475\n",
            "   macro avg       0.63      0.59      0.55       475\n",
            "weighted avg       0.63      0.58      0.55       475\n",
            "\n",
            "[[192  31]\n",
            " [170  82]]\n",
            "57.684210526315795\n"
          ]
        }
      ],
      "source": [
        "print(\"Stochastic Gradient Descent Classifier\")\n",
        "model_7 = SGDClassifier(loss='perceptron',shuffle=True,penalty='l1').fit(X_train,y_train)\n",
        "m7_prediction = model_7.predict(X_test)\n",
        "\n",
        "print(classification_report(y_test,m7_prediction))\n",
        "print(confusion_matrix(y_test,m7_prediction))\n",
        "print(accuracy_score(y_test,m7_prediction)*100)"
      ]
    },
    {
      "cell_type": "code",
      "execution_count": null,
      "metadata": {
        "colab": {
          "base_uri": "https://localhost:8080/"
        },
        "id": "9Msg0xiLwcux",
        "outputId": "28c9367e-a9ab-4f54-b084-10e56b948145"
      },
      "outputs": [
        {
          "output_type": "stream",
          "name": "stdout",
          "text": [
            "2-NN Classifier\n",
            "              precision    recall  f1-score   support\n",
            "\n",
            "         0.0       0.51      0.75      0.61       223\n",
            "         1.0       0.63      0.37      0.46       252\n",
            "\n",
            "    accuracy                           0.55       475\n",
            "   macro avg       0.57      0.56      0.54       475\n",
            "weighted avg       0.57      0.55      0.53       475\n",
            "\n",
            "[[168  55]\n",
            " [160  92]]\n",
            "54.736842105263165\n",
            "3-NN Classifier\n",
            "              precision    recall  f1-score   support\n",
            "\n",
            "         0.0       0.54      0.50      0.52       223\n",
            "         1.0       0.59      0.63      0.61       252\n",
            "\n",
            "    accuracy                           0.57       475\n",
            "   macro avg       0.57      0.56      0.56       475\n",
            "weighted avg       0.57      0.57      0.57       475\n",
            "\n",
            "[[111 112]\n",
            " [ 93 159]]\n",
            "56.84210526315789\n",
            "4-NN Classifier\n",
            "              precision    recall  f1-score   support\n",
            "\n",
            "         0.0       0.54      0.70      0.61       223\n",
            "         1.0       0.64      0.48      0.55       252\n",
            "\n",
            "    accuracy                           0.58       475\n",
            "   macro avg       0.59      0.59      0.58       475\n",
            "weighted avg       0.59      0.58      0.58       475\n",
            "\n",
            "[[156  67]\n",
            " [132 120]]\n",
            "58.10526315789474\n",
            "5-NN Classifier\n",
            "              precision    recall  f1-score   support\n",
            "\n",
            "         0.0       0.57      0.51      0.54       223\n",
            "         1.0       0.60      0.66      0.63       252\n",
            "\n",
            "    accuracy                           0.59       475\n",
            "   macro avg       0.59      0.58      0.58       475\n",
            "weighted avg       0.59      0.59      0.59       475\n",
            "\n",
            "[[113 110]\n",
            " [ 85 167]]\n",
            "58.94736842105262\n",
            "6-NN Classifier\n",
            "              precision    recall  f1-score   support\n",
            "\n",
            "         0.0       0.55      0.63      0.58       223\n",
            "         1.0       0.62      0.54      0.58       252\n",
            "\n",
            "    accuracy                           0.58       475\n",
            "   macro avg       0.58      0.58      0.58       475\n",
            "weighted avg       0.59      0.58      0.58       475\n",
            "\n",
            "[[140  83]\n",
            " [116 136]]\n",
            "58.10526315789474\n",
            "7-NN Classifier\n",
            "              precision    recall  f1-score   support\n",
            "\n",
            "         0.0       0.59      0.49      0.54       223\n",
            "         1.0       0.61      0.70      0.65       252\n",
            "\n",
            "    accuracy                           0.60       475\n",
            "   macro avg       0.60      0.60      0.59       475\n",
            "weighted avg       0.60      0.60      0.60       475\n",
            "\n",
            "[[109 114]\n",
            " [ 75 177]]\n",
            "60.21052631578947\n",
            "8-NN Classifier\n",
            "              precision    recall  f1-score   support\n",
            "\n",
            "         0.0       0.58      0.63      0.60       223\n",
            "         1.0       0.64      0.59      0.61       252\n",
            "\n",
            "    accuracy                           0.61       475\n",
            "   macro avg       0.61      0.61      0.61       475\n",
            "weighted avg       0.61      0.61      0.61       475\n",
            "\n",
            "[[141  82]\n",
            " [104 148]]\n",
            "60.8421052631579\n",
            "9-NN Classifier\n",
            "              precision    recall  f1-score   support\n",
            "\n",
            "         0.0       0.61      0.50      0.55       223\n",
            "         1.0       0.62      0.71      0.66       252\n",
            "\n",
            "    accuracy                           0.61       475\n",
            "   macro avg       0.61      0.61      0.60       475\n",
            "weighted avg       0.61      0.61      0.61       475\n",
            "\n",
            "[[112 111]\n",
            " [ 73 179]]\n",
            "61.26315789473684\n"
          ]
        }
      ],
      "source": [
        "for i in range(2,10):\n",
        "  print(f\"{i}-NN Classifier\")\n",
        "  model_8 = KNeighborsClassifier(n_neighbors=i).fit(X_train,y_train)\n",
        "  m8_prediction = model_8.predict(X_test)\n",
        "\n",
        "  print(classification_report(y_test,m8_prediction))\n",
        "  print(confusion_matrix(y_test,m8_prediction))\n",
        "  print(accuracy_score(y_test,m8_prediction)*100)"
      ]
    },
    {
      "cell_type": "markdown",
      "source": [
        "# My own NN architecture"
      ],
      "metadata": {
        "id": "RStoyRNfCpQL"
      }
    },
    {
      "cell_type": "code",
      "execution_count": null,
      "metadata": {
        "id": "EIjdsT-5wfnh",
        "colab": {
          "base_uri": "https://localhost:8080/",
          "height": 1000
        },
        "outputId": "c75983bd-d3a1-406f-9e0b-9fbb3e1f0a97"
      },
      "outputs": [
        {
          "output_type": "stream",
          "name": "stdout",
          "text": [
            "Epoch 1/200\n",
            "1000/1000 [==============================] - 4s 3ms/step - loss: 0.6935 - accuracy: 0.5270 - val_loss: 0.6865 - val_accuracy: 0.5480\n",
            "Epoch 2/200\n",
            "1000/1000 [==============================] - 3s 3ms/step - loss: 0.6891 - accuracy: 0.5294 - val_loss: 0.6835 - val_accuracy: 0.5480\n",
            "Epoch 3/200\n",
            "1000/1000 [==============================] - 3s 3ms/step - loss: 0.6783 - accuracy: 0.5547 - val_loss: 0.6738 - val_accuracy: 0.5520\n",
            "Epoch 4/200\n",
            "1000/1000 [==============================] - 3s 3ms/step - loss: 0.6610 - accuracy: 0.5974 - val_loss: 0.6567 - val_accuracy: 0.6120\n",
            "Epoch 5/200\n",
            "1000/1000 [==============================] - 3s 3ms/step - loss: 0.6500 - accuracy: 0.6142 - val_loss: 0.6563 - val_accuracy: 0.5940\n",
            "Epoch 6/200\n",
            "1000/1000 [==============================] - 3s 3ms/step - loss: 0.6450 - accuracy: 0.6153 - val_loss: 0.6629 - val_accuracy: 0.5840\n",
            "Epoch 7/200\n",
            "1000/1000 [==============================] - 3s 3ms/step - loss: 0.6408 - accuracy: 0.6210 - val_loss: 0.6445 - val_accuracy: 0.6020\n",
            "Epoch 8/200\n",
            "1000/1000 [==============================] - 3s 3ms/step - loss: 0.6375 - accuracy: 0.6276 - val_loss: 0.6473 - val_accuracy: 0.5860\n",
            "Epoch 9/200\n",
            "1000/1000 [==============================] - 3s 3ms/step - loss: 0.6327 - accuracy: 0.6347 - val_loss: 0.6370 - val_accuracy: 0.6320\n",
            "Epoch 10/200\n",
            "1000/1000 [==============================] - 3s 3ms/step - loss: 0.6261 - accuracy: 0.6393 - val_loss: 0.6448 - val_accuracy: 0.6260\n",
            "Epoch 11/200\n",
            "1000/1000 [==============================] - 3s 3ms/step - loss: 0.6244 - accuracy: 0.6475 - val_loss: 0.6351 - val_accuracy: 0.6400\n",
            "Epoch 12/200\n",
            "1000/1000 [==============================] - 3s 3ms/step - loss: 0.6197 - accuracy: 0.6470 - val_loss: 0.6313 - val_accuracy: 0.6360\n",
            "Epoch 13/200\n",
            "1000/1000 [==============================] - 3s 3ms/step - loss: 0.6123 - accuracy: 0.6615 - val_loss: 0.6269 - val_accuracy: 0.6420\n",
            "Epoch 14/200\n",
            "1000/1000 [==============================] - 3s 3ms/step - loss: 0.6119 - accuracy: 0.6606 - val_loss: 0.6282 - val_accuracy: 0.6340\n",
            "Epoch 15/200\n",
            "1000/1000 [==============================] - 3s 3ms/step - loss: 0.6072 - accuracy: 0.6686 - val_loss: 0.6177 - val_accuracy: 0.6480\n",
            "Epoch 16/200\n",
            "1000/1000 [==============================] - 3s 3ms/step - loss: 0.6044 - accuracy: 0.6697 - val_loss: 0.6018 - val_accuracy: 0.6740\n",
            "Epoch 17/200\n",
            "1000/1000 [==============================] - 3s 3ms/step - loss: 0.6031 - accuracy: 0.6734 - val_loss: 0.5964 - val_accuracy: 0.6960\n",
            "Epoch 18/200\n",
            "1000/1000 [==============================] - 3s 3ms/step - loss: 0.5982 - accuracy: 0.6769 - val_loss: 0.5933 - val_accuracy: 0.6640\n",
            "Epoch 19/200\n",
            "1000/1000 [==============================] - 3s 3ms/step - loss: 0.5951 - accuracy: 0.6820 - val_loss: 0.6076 - val_accuracy: 0.6800\n",
            "Epoch 20/200\n",
            "1000/1000 [==============================] - 3s 3ms/step - loss: 0.5935 - accuracy: 0.6810 - val_loss: 0.5966 - val_accuracy: 0.6760\n",
            "Epoch 21/200\n",
            "1000/1000 [==============================] - 3s 3ms/step - loss: 0.5885 - accuracy: 0.6827 - val_loss: 0.6018 - val_accuracy: 0.6860\n",
            "Epoch 22/200\n",
            "1000/1000 [==============================] - 3s 3ms/step - loss: 0.5894 - accuracy: 0.6881 - val_loss: 0.5775 - val_accuracy: 0.6900\n",
            "Epoch 23/200\n",
            "1000/1000 [==============================] - 3s 3ms/step - loss: 0.5858 - accuracy: 0.6875 - val_loss: 0.5784 - val_accuracy: 0.7020\n",
            "Epoch 24/200\n",
            "1000/1000 [==============================] - 4s 4ms/step - loss: 0.5843 - accuracy: 0.6897 - val_loss: 0.5824 - val_accuracy: 0.6840\n",
            "Epoch 25/200\n",
            "1000/1000 [==============================] - 3s 3ms/step - loss: 0.5794 - accuracy: 0.6943 - val_loss: 0.5723 - val_accuracy: 0.6880\n",
            "Epoch 26/200\n",
            "1000/1000 [==============================] - 3s 3ms/step - loss: 0.5761 - accuracy: 0.6989 - val_loss: 0.5742 - val_accuracy: 0.6980\n",
            "Epoch 27/200\n",
            "1000/1000 [==============================] - 3s 3ms/step - loss: 0.5767 - accuracy: 0.6979 - val_loss: 0.5785 - val_accuracy: 0.6740\n",
            "Epoch 28/200\n",
            "1000/1000 [==============================] - 3s 3ms/step - loss: 0.5750 - accuracy: 0.6966 - val_loss: 0.5646 - val_accuracy: 0.6840\n",
            "Epoch 29/200\n",
            "1000/1000 [==============================] - 3s 3ms/step - loss: 0.5733 - accuracy: 0.6997 - val_loss: 0.5641 - val_accuracy: 0.7040\n",
            "Epoch 30/200\n",
            "1000/1000 [==============================] - 3s 3ms/step - loss: 0.5702 - accuracy: 0.7036 - val_loss: 0.5620 - val_accuracy: 0.7100\n",
            "Epoch 31/200\n",
            "1000/1000 [==============================] - 3s 3ms/step - loss: 0.5700 - accuracy: 0.7005 - val_loss: 0.5598 - val_accuracy: 0.7100\n",
            "Epoch 32/200\n",
            "1000/1000 [==============================] - 3s 3ms/step - loss: 0.5728 - accuracy: 0.6972 - val_loss: 0.5530 - val_accuracy: 0.7100\n",
            "Epoch 33/200\n",
            "1000/1000 [==============================] - 3s 3ms/step - loss: 0.5685 - accuracy: 0.7033 - val_loss: 0.5607 - val_accuracy: 0.6980\n",
            "Epoch 34/200\n",
            "1000/1000 [==============================] - 3s 3ms/step - loss: 0.5700 - accuracy: 0.7012 - val_loss: 0.5629 - val_accuracy: 0.6920\n",
            "Epoch 35/200\n",
            "1000/1000 [==============================] - 3s 3ms/step - loss: 0.5639 - accuracy: 0.7085 - val_loss: 0.5699 - val_accuracy: 0.7160\n",
            "Epoch 36/200\n",
            "1000/1000 [==============================] - 3s 3ms/step - loss: 0.5678 - accuracy: 0.7036 - val_loss: 0.5651 - val_accuracy: 0.6940\n",
            "Epoch 37/200\n",
            "1000/1000 [==============================] - 3s 3ms/step - loss: 0.5644 - accuracy: 0.7084 - val_loss: 0.5613 - val_accuracy: 0.7040\n",
            "Epoch 38/200\n",
            "1000/1000 [==============================] - 3s 3ms/step - loss: 0.5647 - accuracy: 0.7054 - val_loss: 0.5527 - val_accuracy: 0.7220\n",
            "Epoch 39/200\n",
            "1000/1000 [==============================] - 3s 3ms/step - loss: 0.5636 - accuracy: 0.7121 - val_loss: 0.5451 - val_accuracy: 0.7180\n",
            "Epoch 40/200\n",
            "1000/1000 [==============================] - 3s 3ms/step - loss: 0.5601 - accuracy: 0.7121 - val_loss: 0.5537 - val_accuracy: 0.7180\n",
            "Epoch 41/200\n",
            "1000/1000 [==============================] - 3s 3ms/step - loss: 0.5622 - accuracy: 0.7065 - val_loss: 0.5603 - val_accuracy: 0.7080\n",
            "Epoch 42/200\n",
            "1000/1000 [==============================] - 3s 3ms/step - loss: 0.5605 - accuracy: 0.7081 - val_loss: 0.5469 - val_accuracy: 0.7320\n",
            "Epoch 43/200\n",
            "1000/1000 [==============================] - 3s 3ms/step - loss: 0.5546 - accuracy: 0.7127 - val_loss: 0.5443 - val_accuracy: 0.7120\n",
            "Epoch 44/200\n",
            "1000/1000 [==============================] - 4s 4ms/step - loss: 0.5563 - accuracy: 0.7156 - val_loss: 0.5365 - val_accuracy: 0.7280\n",
            "Epoch 45/200\n",
            "1000/1000 [==============================] - 3s 3ms/step - loss: 0.5568 - accuracy: 0.7160 - val_loss: 0.5381 - val_accuracy: 0.7220\n",
            "Epoch 46/200\n",
            "1000/1000 [==============================] - 3s 3ms/step - loss: 0.5536 - accuracy: 0.7129 - val_loss: 0.5351 - val_accuracy: 0.7260\n",
            "Epoch 47/200\n",
            "1000/1000 [==============================] - 3s 3ms/step - loss: 0.5554 - accuracy: 0.7124 - val_loss: 0.5349 - val_accuracy: 0.7200\n",
            "Epoch 48/200\n",
            "1000/1000 [==============================] - 3s 3ms/step - loss: 0.5520 - accuracy: 0.7192 - val_loss: 0.5459 - val_accuracy: 0.7340\n",
            "Epoch 49/200\n",
            "1000/1000 [==============================] - 3s 3ms/step - loss: 0.5527 - accuracy: 0.7127 - val_loss: 0.5341 - val_accuracy: 0.7320\n",
            "Epoch 50/200\n",
            "1000/1000 [==============================] - 3s 3ms/step - loss: 0.5524 - accuracy: 0.7180 - val_loss: 0.5384 - val_accuracy: 0.7160\n",
            "Epoch 51/200\n",
            "1000/1000 [==============================] - 3s 3ms/step - loss: 0.5537 - accuracy: 0.7144 - val_loss: 0.5290 - val_accuracy: 0.7380\n",
            "Epoch 52/200\n",
            "1000/1000 [==============================] - 3s 3ms/step - loss: 0.5460 - accuracy: 0.7225 - val_loss: 0.5305 - val_accuracy: 0.7300\n",
            "Epoch 53/200\n",
            "1000/1000 [==============================] - 3s 3ms/step - loss: 0.5453 - accuracy: 0.7201 - val_loss: 0.5282 - val_accuracy: 0.7500\n",
            "Epoch 54/200\n",
            "1000/1000 [==============================] - 3s 3ms/step - loss: 0.5449 - accuracy: 0.7192 - val_loss: 0.5334 - val_accuracy: 0.7160\n",
            "Epoch 55/200\n",
            "1000/1000 [==============================] - 3s 3ms/step - loss: 0.5454 - accuracy: 0.7248 - val_loss: 0.5269 - val_accuracy: 0.7260\n",
            "Epoch 56/200\n",
            "1000/1000 [==============================] - 3s 3ms/step - loss: 0.5469 - accuracy: 0.7226 - val_loss: 0.5241 - val_accuracy: 0.7420\n",
            "Epoch 57/200\n",
            "1000/1000 [==============================] - 3s 3ms/step - loss: 0.5451 - accuracy: 0.7265 - val_loss: 0.5311 - val_accuracy: 0.7160\n",
            "Epoch 58/200\n",
            "1000/1000 [==============================] - 3s 3ms/step - loss: 0.5470 - accuracy: 0.7177 - val_loss: 0.5342 - val_accuracy: 0.7240\n",
            "Epoch 59/200\n",
            "1000/1000 [==============================] - 3s 3ms/step - loss: 0.5439 - accuracy: 0.7262 - val_loss: 0.5267 - val_accuracy: 0.7400\n",
            "Epoch 60/200\n",
            "1000/1000 [==============================] - 3s 3ms/step - loss: 0.5424 - accuracy: 0.7261 - val_loss: 0.5069 - val_accuracy: 0.7420\n",
            "Epoch 61/200\n",
            "1000/1000 [==============================] - 3s 3ms/step - loss: 0.5416 - accuracy: 0.7226 - val_loss: 0.5110 - val_accuracy: 0.7520\n",
            "Epoch 62/200\n",
            "1000/1000 [==============================] - 3s 3ms/step - loss: 0.5409 - accuracy: 0.7230 - val_loss: 0.5143 - val_accuracy: 0.7300\n",
            "Epoch 63/200\n",
            "1000/1000 [==============================] - 3s 3ms/step - loss: 0.5404 - accuracy: 0.7276 - val_loss: 0.5147 - val_accuracy: 0.7440\n",
            "Epoch 64/200\n",
            "1000/1000 [==============================] - 3s 3ms/step - loss: 0.5413 - accuracy: 0.7264 - val_loss: 0.5058 - val_accuracy: 0.7380\n",
            "Epoch 65/200\n",
            "1000/1000 [==============================] - 3s 3ms/step - loss: 0.5390 - accuracy: 0.7267 - val_loss: 0.5214 - val_accuracy: 0.7420\n",
            "Epoch 66/200\n",
            "1000/1000 [==============================] - 3s 3ms/step - loss: 0.5418 - accuracy: 0.7256 - val_loss: 0.5121 - val_accuracy: 0.7500\n",
            "Epoch 67/200\n",
            "1000/1000 [==============================] - 3s 3ms/step - loss: 0.5415 - accuracy: 0.7256 - val_loss: 0.5143 - val_accuracy: 0.7480\n",
            "Epoch 68/200\n",
            "1000/1000 [==============================] - 3s 3ms/step - loss: 0.5379 - accuracy: 0.7294 - val_loss: 0.5120 - val_accuracy: 0.7520\n",
            "Epoch 69/200\n",
            "1000/1000 [==============================] - 3s 3ms/step - loss: 0.5336 - accuracy: 0.7289 - val_loss: 0.5170 - val_accuracy: 0.7300\n",
            "Epoch 70/200\n",
            "1000/1000 [==============================] - 3s 3ms/step - loss: 0.5352 - accuracy: 0.7320 - val_loss: 0.5125 - val_accuracy: 0.7380\n",
            "Epoch 71/200\n",
            "1000/1000 [==============================] - 3s 3ms/step - loss: 0.5395 - accuracy: 0.7268 - val_loss: 0.5132 - val_accuracy: 0.7540\n",
            "Epoch 72/200\n",
            "1000/1000 [==============================] - 3s 3ms/step - loss: 0.5362 - accuracy: 0.7264 - val_loss: 0.5125 - val_accuracy: 0.7440\n",
            "Epoch 73/200\n",
            "1000/1000 [==============================] - 3s 3ms/step - loss: 0.5371 - accuracy: 0.7279 - val_loss: 0.4945 - val_accuracy: 0.7540\n",
            "Epoch 74/200\n",
            "1000/1000 [==============================] - 4s 4ms/step - loss: 0.5339 - accuracy: 0.7324 - val_loss: 0.4870 - val_accuracy: 0.7660\n",
            "Epoch 75/200\n",
            "1000/1000 [==============================] - 6s 6ms/step - loss: 0.5325 - accuracy: 0.7346 - val_loss: 0.5197 - val_accuracy: 0.7580\n",
            "Epoch 76/200\n",
            "1000/1000 [==============================] - 5s 5ms/step - loss: 0.5310 - accuracy: 0.7327 - val_loss: 0.4931 - val_accuracy: 0.7520\n",
            "Epoch 77/200\n",
            "1000/1000 [==============================] - 3s 3ms/step - loss: 0.5329 - accuracy: 0.7349 - val_loss: 0.4992 - val_accuracy: 0.7540\n",
            "Epoch 78/200\n",
            "1000/1000 [==============================] - 3s 3ms/step - loss: 0.5341 - accuracy: 0.7341 - val_loss: 0.4887 - val_accuracy: 0.7720\n",
            "Epoch 79/200\n",
            "1000/1000 [==============================] - 3s 3ms/step - loss: 0.5324 - accuracy: 0.7297 - val_loss: 0.5084 - val_accuracy: 0.7420\n",
            "Epoch 80/200\n",
            "1000/1000 [==============================] - 3s 3ms/step - loss: 0.5266 - accuracy: 0.7356 - val_loss: 0.5071 - val_accuracy: 0.7580\n",
            "Epoch 81/200\n",
            "1000/1000 [==============================] - 3s 3ms/step - loss: 0.5295 - accuracy: 0.7313 - val_loss: 0.4887 - val_accuracy: 0.7680\n",
            "Epoch 82/200\n",
            "1000/1000 [==============================] - 3s 3ms/step - loss: 0.5271 - accuracy: 0.7379 - val_loss: 0.4933 - val_accuracy: 0.7620\n",
            "Epoch 83/200\n",
            "1000/1000 [==============================] - 3s 3ms/step - loss: 0.5298 - accuracy: 0.7314 - val_loss: 0.4895 - val_accuracy: 0.7620\n",
            "Epoch 84/200\n",
            "1000/1000 [==============================] - 3s 3ms/step - loss: 0.5256 - accuracy: 0.7365 - val_loss: 0.4929 - val_accuracy: 0.7660\n",
            "Epoch 85/200\n",
            "1000/1000 [==============================] - 3s 3ms/step - loss: 0.5295 - accuracy: 0.7353 - val_loss: 0.5008 - val_accuracy: 0.7560\n",
            "Epoch 86/200\n",
            "1000/1000 [==============================] - 3s 3ms/step - loss: 0.5221 - accuracy: 0.7384 - val_loss: 0.4871 - val_accuracy: 0.7720\n",
            "Epoch 87/200\n",
            "1000/1000 [==============================] - 3s 3ms/step - loss: 0.5260 - accuracy: 0.7386 - val_loss: 0.4867 - val_accuracy: 0.7800\n",
            "Epoch 88/200\n",
            "1000/1000 [==============================] - 3s 3ms/step - loss: 0.5268 - accuracy: 0.7350 - val_loss: 0.4958 - val_accuracy: 0.7660\n",
            "Epoch 89/200\n",
            "1000/1000 [==============================] - 3s 3ms/step - loss: 0.5234 - accuracy: 0.7365 - val_loss: 0.4905 - val_accuracy: 0.7680\n",
            "Epoch 90/200\n",
            "1000/1000 [==============================] - 3s 3ms/step - loss: 0.5246 - accuracy: 0.7359 - val_loss: 0.4829 - val_accuracy: 0.7680\n",
            "Epoch 91/200\n",
            "1000/1000 [==============================] - 3s 3ms/step - loss: 0.5225 - accuracy: 0.7365 - val_loss: 0.4880 - val_accuracy: 0.7700\n",
            "Epoch 92/200\n",
            "1000/1000 [==============================] - 3s 3ms/step - loss: 0.5214 - accuracy: 0.7374 - val_loss: 0.4963 - val_accuracy: 0.7440\n",
            "Epoch 93/200\n",
            "1000/1000 [==============================] - 3s 3ms/step - loss: 0.5241 - accuracy: 0.7368 - val_loss: 0.4890 - val_accuracy: 0.7660\n",
            "Epoch 94/200\n",
            "1000/1000 [==============================] - 3s 3ms/step - loss: 0.5190 - accuracy: 0.7427 - val_loss: 0.4883 - val_accuracy: 0.7420\n",
            "Epoch 95/200\n",
            "1000/1000 [==============================] - 3s 3ms/step - loss: 0.5225 - accuracy: 0.7360 - val_loss: 0.4911 - val_accuracy: 0.7640\n",
            "Epoch 96/200\n",
            "1000/1000 [==============================] - 3s 3ms/step - loss: 0.5149 - accuracy: 0.7437 - val_loss: 0.4868 - val_accuracy: 0.7460\n",
            "Epoch 97/200\n",
            "1000/1000 [==============================] - 3s 3ms/step - loss: 0.5217 - accuracy: 0.7373 - val_loss: 0.4750 - val_accuracy: 0.7720\n",
            "Epoch 98/200\n",
            "1000/1000 [==============================] - 3s 3ms/step - loss: 0.5191 - accuracy: 0.7380 - val_loss: 0.4876 - val_accuracy: 0.7620\n",
            "Epoch 99/200\n",
            "1000/1000 [==============================] - 3s 3ms/step - loss: 0.5170 - accuracy: 0.7416 - val_loss: 0.4863 - val_accuracy: 0.7540\n",
            "Epoch 100/200\n",
            "1000/1000 [==============================] - 3s 3ms/step - loss: 0.5181 - accuracy: 0.7402 - val_loss: 0.4769 - val_accuracy: 0.7660\n",
            "Epoch 101/200\n",
            "1000/1000 [==============================] - 3s 3ms/step - loss: 0.5162 - accuracy: 0.7440 - val_loss: 0.4975 - val_accuracy: 0.7620\n",
            "Epoch 102/200\n",
            "1000/1000 [==============================] - 3s 3ms/step - loss: 0.5166 - accuracy: 0.7433 - val_loss: 0.4887 - val_accuracy: 0.7700\n",
            "Epoch 102: early stopping\n",
            "313/313 [==============================] - 1s 2ms/step - loss: 0.4893 - accuracy: 0.7631\n",
            "Accuracy: 76.31\n",
            "dict_keys(['loss', 'accuracy', 'val_loss', 'val_accuracy'])\n"
          ]
        },
        {
          "output_type": "display_data",
          "data": {
            "text/plain": [
              "<Figure size 360x360 with 1 Axes>"
            ],
            "image/png": "[encoded data removed]"
          },
          "metadata": {}
        }
      ],
      "source": [
        "model_nn = Sequential()\n",
        "model_nn.add(Dense(28, input_dim=28, activation='relu'))\n",
        "model_nn.add(Dense(64, activation='tanh'))\n",
        "model_nn.add(Dropout(0.4))\n",
        "model_nn.add(Dense(32, activation='relu'))\n",
        "model_nn.add(Dense(16, activation='tanh'))\n",
        "model_nn.add(Dense(8, activation='relu'))\n",
        "model_nn.add(Dense(4, activation='tanh'))\n",
        "model_nn.add(Dense(1, activation='sigmoid'))\n",
        "\n",
        "model_nn.compile(loss='binary_crossentropy', optimizer='adam', metrics=['accuracy'])\n",
        "es = EarlyStopping(monitor='val_accuracy', mode='max', verbose=1, patience=15)\n",
        "# fit the keras model on the dataset\n",
        "history=model_nn.fit(X, y,validation_data=(X_val,y_val),epochs=200,batch_size=10, callbacks=[es])\n",
        "# evaluate the keras model\n",
        "_, accuracy = model_nn.evaluate(X, y)\n",
        "model_nn.save('my_model.h5') ##Saving model weights\n",
        "print('Accuracy: %.2f' % (accuracy*100))\n",
        "\n",
        "print(history.history.keys())\n",
        "\n",
        "# confusion_matrix(y_test, y_pred.round())\n",
        "\n",
        "from plot_metric.functions import BinaryClassification\n",
        "# Visualisation with plot_metric\n",
        "bc = BinaryClassification(y_pred.round(), y_test, labels=[\"Class 1\", \"Class 2\"])\n",
        "\n",
        "# Figures\n",
        "plt.figure(figsize=(5,5))\n",
        "bc.plot_roc_curve()\n",
        "plt.show()"
      ]
    },
    {
      "cell_type": "code",
      "source": [
        "plt.plot(history.history['accuracy'])\n",
        "plt.plot(history.history['val_accuracy'])\n",
        "plt.title('model accuracy')\n",
        "plt.ylabel('accuracy')\n",
        "plt.xlabel('epoch')\n",
        "plt.legend(['train', 'test'], loc='upper left')\n",
        "plt.show()\n"
      ],
      "metadata": {
        "colab": {
          "base_uri": "https://localhost:8080/",
          "height": 295
        },
        "id": "CgQX4SUp1xgV",
        "outputId": "f06ab6e6-7c44-4865-f6e9-1a602a05d7d3"
      },
      "execution_count": null,
      "outputs": [
        {
          "output_type": "display_data",
          "data": {
            "text/plain": [
              "<Figure size 432x288 with 1 Axes>"
            ],
            "image/png": "[encoded data removed]"
          },
          "metadata": {}
        }
      ]
    },
    {
      "cell_type": "code",
      "source": [
        "plt.plot(history.history['loss'])\n",
        "plt.plot(history.history['val_loss'])\n",
        "plt.title('model loss')\n",
        "plt.ylabel('loss')\n",
        "plt.xlabel('epoch')\n",
        "plt.legend(['train', 'test'], loc='upper left')\n",
        "plt.show()"
      ],
      "metadata": {
        "colab": {
          "base_uri": "https://localhost:8080/",
          "height": 295
        },
        "id": "zPjqm8cu1xzk",
        "outputId": "c4626363-6b88-44f1-c768-b39c34527ebc"
      },
      "execution_count": null,
      "outputs": [
        {
          "output_type": "display_data",
          "data": {
            "text/plain": [
              "<Figure size 432x288 with 1 Axes>"
            ],
            "image/png": "[encoded data removed]"
          },
          "metadata": {}
        }
      ]
    },
    {
      "cell_type": "code",
      "source": [
        "y_pred=model_nn.predict(X_test)"
      ],
      "metadata": {
        "colab": {
          "base_uri": "https://localhost:8080/"
        },
        "id": "HeGtxvrA-YpJ",
        "outputId": "6987a10a-a2e8-47bf-88a2-03f71c9387c6"
      },
      "execution_count": null,
      "outputs": [
        {
          "output_type": "stream",
          "name": "stdout",
          "text": [
            "15/15 [==============================] - 0s 2ms/step\n"
          ]
        }
      ]
    },
    {
      "cell_type": "code",
      "source": [
        "tn, fp, fn, tp = confusion_matrix(y_test, y_pred.round()).ravel()"
      ],
      "metadata": {
        "id": "S68n-D50107M"
      },
      "execution_count": null,
      "outputs": []
    },
    {
      "cell_type": "code",
      "source": [
        "print(classification_report(y_test,y_pred.round()))\n",
        "# print(confusion_matrix(y_test,y_pred.round()))\n",
        "print(accuracy_score(y_test,y_pred.round())*100)"
      ],
      "metadata": {
        "colab": {
          "base_uri": "https://localhost:8080/"
        },
        "id": "p9g7MktG0656",
        "outputId": "6394fb52-b352-4c07-a5b2-1ef5860044ca"
      },
      "execution_count": null,
      "outputs": [
        {
          "output_type": "stream",
          "name": "stdout",
          "text": [
            "              precision    recall  f1-score   support\n",
            "\n",
            "         0.0       0.68      0.76      0.72       223\n",
            "         1.0       0.76      0.68      0.72       252\n",
            "\n",
            "    accuracy                           0.72       475\n",
            "   macro avg       0.72      0.72      0.72       475\n",
            "weighted avg       0.72      0.72      0.72       475\n",
            "\n",
            "71.78947368421052\n"
          ]
        }
      ]
    },
    {
      "cell_type": "code",
      "source": [
        "labels=[\"Class 1\", \"Class 2\"]\n",
        "sns.heatmap(confusion_matrix(y_test, y_pred.round()), square=True, annot=True, fmt='d', cbar=False, cmap='Blues',\n",
        "            xticklabels=labels, yticklabels=labels)\n",
        "plt.xlabel('Predicted label')\n",
        "plt.ylabel('Actual label')"
      ],
      "metadata": {
        "colab": {
          "base_uri": "https://localhost:8080/",
          "height": 296
        },
        "id": "w0Wq_8GH_N0l",
        "outputId": "67f97449-750c-4cd5-ea0f-f1327b03fba4"
      },
      "execution_count": null,
      "outputs": [
        {
          "output_type": "execute_result",
          "data": {
            "text/plain": [
              "Text(91.68, 0.5, 'Actual label')"
            ]
          },
          "metadata": {},
          "execution_count": 70
        },
        {
          "output_type": "display_data",
          "data": {
            "text/plain": [
              "<Figure size 432x288 with 1 Axes>"
            ],
            "image/png": "[encoded data removed]"
          },
          "metadata": {}
        }
      ]
    },
    {
      "cell_type": "markdown",
      "source": [
        "# Different approach"
      ],
      "metadata": {
        "id": "um8IJbmTxkEx"
      }
    },
    {
      "cell_type": "code",
      "source": [
        "initial_learning_rate = 0.1\n",
        "lr_schedule = ExponentialDecay(\n",
        "    initial_learning_rate,\n",
        "    decay_steps=100000,\n",
        "    decay_rate=0.96,\n",
        "    staircase=True)"
      ],
      "metadata": {
        "id": "KT87coS1zYZ0"
      },
      "execution_count": null,
      "outputs": []
    },
    {
      "cell_type": "code",
      "source": [
        "model_nn = Sequential()\n",
        "model_nn.add(Dense(28, input_dim=28, kernel_initializer='lecun_normal', activation='selu'))\n",
        "model_nn.add(Dense(64, kernel_initializer='lecun_normal', activation='selu'))\n",
        "model_nn.add(Dense(32, kernel_initializer='lecun_normal', activation='selu'))\n",
        "model_nn.add(Dense(16, kernel_initializer='lecun_normal', activation='selu'))\n",
        "model_nn.add(Dense(8, kernel_initializer='lecun_normal', activation='selu'))\n",
        "model_nn.add(Dropout(0.4))\n",
        "model_nn.add(Dense(4, kernel_initializer='lecun_normal', activation='selu'))\n",
        "model_nn.add(Dense(1, activation='sigmoid'))\n",
        "\n",
        "# kernel_initializer='lecun_normal',activation='selu'))\n",
        "\n",
        "model_nn.compile(loss='binary_crossentropy', optimizer='adam', metrics=['accuracy'])\n",
        "es = EarlyStopping(monitor='val_accuracy', mode='max', verbose=1, patience=15)\n",
        "# fit the keras model on the dataset\n",
        "history=model_nn.fit(X, y,validation_data=(X_val,y_val),epochs=200,batch_size=10, callbacks=[es])\n",
        "# evaluate the keras model\n",
        "_, accuracy = model_nn.evaluate(X, y)\n",
        "model_nn.save('my_model.h5') ##Saving model weights\n",
        "print('Accuracy: %.2f' % (accuracy*100))\n",
        "\n",
        "print(history.history.keys())\n"
      ],
      "metadata": {
        "colab": {
          "base_uri": "https://localhost:8080/",
          "height": 1000
        },
        "id": "I6W20DyYuwgy",
        "outputId": "b4b06e5a-9253-48fe-a0d1-ebf300802f24"
      },
      "execution_count": null,
      "outputs": [
        {
          "output_type": "stream",
          "name": "stdout",
          "text": [
            "Epoch 1/200\n",
            "1000/1000 [==============================] - 6s 3ms/step - loss: 0.7465 - accuracy: 0.5167 - val_loss: 0.6820 - val_accuracy: 0.5600\n",
            "Epoch 2/200\n",
            "1000/1000 [==============================] - 3s 3ms/step - loss: 0.6913 - accuracy: 0.5374 - val_loss: 0.6766 - val_accuracy: 0.5860\n",
            "Epoch 3/200\n",
            "1000/1000 [==============================] - 3s 3ms/step - loss: 0.6783 - accuracy: 0.5721 - val_loss: 0.6808 - val_accuracy: 0.5800\n",
            "Epoch 4/200\n",
            "1000/1000 [==============================] - 3s 3ms/step - loss: 0.6679 - accuracy: 0.5956 - val_loss: 0.6626 - val_accuracy: 0.6060\n",
            "Epoch 5/200\n",
            "1000/1000 [==============================] - 3s 3ms/step - loss: 0.6629 - accuracy: 0.6033 - val_loss: 0.6619 - val_accuracy: 0.5960\n",
            "Epoch 6/200\n",
            "1000/1000 [==============================] - 3s 3ms/step - loss: 0.6560 - accuracy: 0.6090 - val_loss: 0.6537 - val_accuracy: 0.6100\n",
            "Epoch 7/200\n",
            "1000/1000 [==============================] - 3s 3ms/step - loss: 0.6536 - accuracy: 0.6087 - val_loss: 0.6507 - val_accuracy: 0.6200\n",
            "Epoch 8/200\n",
            "1000/1000 [==============================] - 3s 3ms/step - loss: 0.6484 - accuracy: 0.6198 - val_loss: 0.6511 - val_accuracy: 0.6140\n",
            "Epoch 9/200\n",
            "1000/1000 [==============================] - 3s 3ms/step - loss: 0.6491 - accuracy: 0.6150 - val_loss: 0.6609 - val_accuracy: 0.6060\n",
            "Epoch 10/200\n",
            "1000/1000 [==============================] - 3s 3ms/step - loss: 0.6467 - accuracy: 0.6207 - val_loss: 0.6610 - val_accuracy: 0.6160\n",
            "Epoch 11/200\n",
            "1000/1000 [==============================] - 3s 3ms/step - loss: 0.6373 - accuracy: 0.6340 - val_loss: 0.6292 - val_accuracy: 0.6300\n",
            "Epoch 12/200\n",
            "1000/1000 [==============================] - 3s 3ms/step - loss: 0.6343 - accuracy: 0.6368 - val_loss: 0.6294 - val_accuracy: 0.6460\n",
            "Epoch 13/200\n",
            "1000/1000 [==============================] - 3s 3ms/step - loss: 0.6355 - accuracy: 0.6422 - val_loss: 0.6322 - val_accuracy: 0.6300\n",
            "Epoch 14/200\n",
            "1000/1000 [==============================] - 3s 3ms/step - loss: 0.6299 - accuracy: 0.6495 - val_loss: 0.6393 - val_accuracy: 0.6440\n",
            "Epoch 15/200\n",
            "1000/1000 [==============================] - 3s 3ms/step - loss: 0.6295 - accuracy: 0.6420 - val_loss: 0.6266 - val_accuracy: 0.6440\n",
            "Epoch 16/200\n",
            "1000/1000 [==============================] - 3s 3ms/step - loss: 0.6253 - accuracy: 0.6526 - val_loss: 0.6125 - val_accuracy: 0.6700\n",
            "Epoch 17/200\n",
            "1000/1000 [==============================] - 3s 3ms/step - loss: 0.6248 - accuracy: 0.6538 - val_loss: 0.6172 - val_accuracy: 0.6660\n",
            "Epoch 18/200\n",
            "1000/1000 [==============================] - 3s 3ms/step - loss: 0.6196 - accuracy: 0.6646 - val_loss: 0.6180 - val_accuracy: 0.6700\n",
            "Epoch 19/200\n",
            "1000/1000 [==============================] - 3s 3ms/step - loss: 0.6221 - accuracy: 0.6559 - val_loss: 0.6296 - val_accuracy: 0.6440\n",
            "Epoch 20/200\n",
            "1000/1000 [==============================] - 3s 3ms/step - loss: 0.6196 - accuracy: 0.6620 - val_loss: 0.6040 - val_accuracy: 0.6940\n",
            "Epoch 21/200\n",
            "1000/1000 [==============================] - 3s 3ms/step - loss: 0.6181 - accuracy: 0.6587 - val_loss: 0.6167 - val_accuracy: 0.6460\n",
            "Epoch 22/200\n",
            "1000/1000 [==============================] - 3s 3ms/step - loss: 0.6169 - accuracy: 0.6621 - val_loss: 0.6147 - val_accuracy: 0.6560\n",
            "Epoch 23/200\n",
            "1000/1000 [==============================] - 4s 4ms/step - loss: 0.6158 - accuracy: 0.6618 - val_loss: 0.6153 - val_accuracy: 0.6740\n",
            "Epoch 24/200\n",
            "1000/1000 [==============================] - 4s 4ms/step - loss: 0.6125 - accuracy: 0.6694 - val_loss: 0.6182 - val_accuracy: 0.6480\n",
            "Epoch 25/200\n",
            "1000/1000 [==============================] - 3s 3ms/step - loss: 0.6123 - accuracy: 0.6696 - val_loss: 0.6153 - val_accuracy: 0.6540\n",
            "Epoch 26/200\n",
            "1000/1000 [==============================] - 3s 3ms/step - loss: 0.6102 - accuracy: 0.6701 - val_loss: 0.6062 - val_accuracy: 0.6420\n",
            "Epoch 27/200\n",
            "1000/1000 [==============================] - 3s 3ms/step - loss: 0.6087 - accuracy: 0.6710 - val_loss: 0.6020 - val_accuracy: 0.6800\n",
            "Epoch 28/200\n",
            "1000/1000 [==============================] - 3s 3ms/step - loss: 0.6087 - accuracy: 0.6715 - val_loss: 0.6107 - val_accuracy: 0.6720\n",
            "Epoch 29/200\n",
            "1000/1000 [==============================] - 3s 3ms/step - loss: 0.6079 - accuracy: 0.6748 - val_loss: 0.6069 - val_accuracy: 0.6820\n",
            "Epoch 30/200\n",
            "1000/1000 [==============================] - 3s 3ms/step - loss: 0.6073 - accuracy: 0.6768 - val_loss: 0.6025 - val_accuracy: 0.6800\n",
            "Epoch 31/200\n",
            "1000/1000 [==============================] - 3s 3ms/step - loss: 0.6055 - accuracy: 0.6775 - val_loss: 0.6012 - val_accuracy: 0.6780\n",
            "Epoch 32/200\n",
            "1000/1000 [==============================] - 3s 3ms/step - loss: 0.6025 - accuracy: 0.6784 - val_loss: 0.6165 - val_accuracy: 0.6480\n",
            "Epoch 33/200\n",
            "1000/1000 [==============================] - 3s 3ms/step - loss: 0.6020 - accuracy: 0.6800 - val_loss: 0.6035 - val_accuracy: 0.6740\n",
            "Epoch 34/200\n",
            "1000/1000 [==============================] - 3s 3ms/step - loss: 0.6016 - accuracy: 0.6801 - val_loss: 0.5924 - val_accuracy: 0.6920\n",
            "Epoch 35/200\n",
            "1000/1000 [==============================] - 3s 3ms/step - loss: 0.6014 - accuracy: 0.6795 - val_loss: 0.5969 - val_accuracy: 0.6680\n",
            "Epoch 35: early stopping\n",
            "313/313 [==============================] - 1s 2ms/step - loss: 0.5925 - accuracy: 0.6876\n",
            "Accuracy: 68.76\n",
            "dict_keys(['loss', 'accuracy', 'val_loss', 'val_accuracy'])\n"
          ]
        },
        {
          "output_type": "error",
          "ename": "NameError",
          "evalue": "ignored",
          "traceback": [
            "\u001b[0;31m---------------------------------------------------------------------------\u001b[0m",
            "\u001b[0;31mNameError\u001b[0m                                 Traceback (most recent call last)",
            "\u001b[0;32m<ipython-input-12-39fbd3b16652>\u001b[0m in \u001b[0;36m<module>\u001b[0;34m\u001b[0m\n\u001b[1;32m     24\u001b[0m \u001b[0;34m\u001b[0m\u001b[0m\n\u001b[1;32m     25\u001b[0m \u001b[0;31m# Visualisation with plot_metric\u001b[0m\u001b[0;34m\u001b[0m\u001b[0;34m\u001b[0m\u001b[0;34m\u001b[0m\u001b[0m\n\u001b[0;32m---> 26\u001b[0;31m \u001b[0mbc\u001b[0m \u001b[0;34m=\u001b[0m \u001b[0mBinaryClassification\u001b[0m\u001b[0;34m(\u001b[0m\u001b[0my_pred\u001b[0m\u001b[0;34m.\u001b[0m\u001b[0mround\u001b[0m\u001b[0;34m(\u001b[0m\u001b[0;34m)\u001b[0m\u001b[0;34m,\u001b[0m \u001b[0my_test\u001b[0m\u001b[0;34m,\u001b[0m \u001b[0mlabels\u001b[0m\u001b[0;34m=\u001b[0m\u001b[0;34m[\u001b[0m\u001b[0;34m\"Class 1\"\u001b[0m\u001b[0;34m,\u001b[0m \u001b[0;34m\"Class 2\"\u001b[0m\u001b[0;34m]\u001b[0m\u001b[0;34m)\u001b[0m\u001b[0;34m\u001b[0m\u001b[0;34m\u001b[0m\u001b[0m\n\u001b[0m\u001b[1;32m     27\u001b[0m \u001b[0;34m\u001b[0m\u001b[0m\n\u001b[1;32m     28\u001b[0m \u001b[0;31m# Figures\u001b[0m\u001b[0;34m\u001b[0m\u001b[0;34m\u001b[0m\u001b[0;34m\u001b[0m\u001b[0m\n",
            "\u001b[0;31mNameError\u001b[0m: name 'y_pred' is not defined"
          ]
        }
      ]
    },
    {
      "cell_type": "code",
      "source": [
        "bc = BinaryClassification(y_pred.round(), y_test, labels=[\"Class 1\", \"Class 2\"])\n",
        "\n",
        "# Figures\n",
        "plt.figure(figsize=(5,5))\n",
        "bc.plot_roc_curve()\n",
        "plt.show()"
      ],
      "metadata": {
        "id": "lSvIwgvV2_jC"
      },
      "execution_count": null,
      "outputs": []
    },
    {
      "cell_type": "code",
      "source": [
        "plt.plot(history.history['accuracy'])\n",
        "plt.plot(history.history['val_accuracy'])\n",
        "plt.title('model accuracy')\n",
        "plt.ylabel('accuracy')\n",
        "plt.xlabel('epoch')\n",
        "plt.legend(['train', 'test'], loc='upper left')\n",
        "plt.show()\n"
      ],
      "metadata": {
        "colab": {
          "base_uri": "https://localhost:8080/",
          "height": 295
        },
        "id": "Itb0hbaJxFCJ",
        "outputId": "539d1d32-33f3-4cdc-ac23-06f3f3258c1c"
      },
      "execution_count": null,
      "outputs": [
        {
          "output_type": "display_data",
          "data": {
            "text/plain": [
              "<Figure size 432x288 with 1 Axes>"
            ],
            "image/png": "[encoded data removed]"
          },
          "metadata": {}
        }
      ]
    },
    {
      "cell_type": "code",
      "source": [
        "plt.plot(history.history['loss'])\n",
        "plt.plot(history.history['val_loss'])\n",
        "plt.title('model loss')\n",
        "plt.ylabel('loss')\n",
        "plt.xlabel('epoch')\n",
        "plt.legend(['train', 'test'], loc='upper left')\n",
        "plt.show()"
      ],
      "metadata": {
        "colab": {
          "base_uri": "https://localhost:8080/",
          "height": 295
        },
        "id": "KvgK3mGGxFdZ",
        "outputId": "ff9068dd-4e15-4606-fa56-34bdc48d7f22"
      },
      "execution_count": null,
      "outputs": [
        {
          "output_type": "display_data",
          "data": {
            "text/plain": [
              "<Figure size 432x288 with 1 Axes>"
            ],
            "image/png": "[encoded data removed]"
          },
          "metadata": {}
        }
      ]
    },
    {
      "cell_type": "code",
      "source": [
        "y_pred=model_nn.predict(X_test)"
      ],
      "metadata": {
        "colab": {
          "base_uri": "https://localhost:8080/"
        },
        "id": "dyOj_Gm1xIGo",
        "outputId": "e81e0b09-0677-4d32-d733-8ea6d1d214cd"
      },
      "execution_count": null,
      "outputs": [
        {
          "output_type": "stream",
          "name": "stdout",
          "text": [
            "15/15 [==============================] - 0s 2ms/step\n"
          ]
        }
      ]
    },
    {
      "cell_type": "code",
      "source": [
        "print(classification_report(y_test,y_pred.round()))\n",
        "# print(confusion_matrix(y_test,y_pred.round()))\n",
        "print(accuracy_score(y_test,y_pred.round())*100)"
      ],
      "metadata": {
        "colab": {
          "base_uri": "https://localhost:8080/"
        },
        "id": "gifmk9taxMN4",
        "outputId": "ac621c46-b0f7-48cd-9a24-a2a31f3039a3"
      },
      "execution_count": null,
      "outputs": [
        {
          "output_type": "stream",
          "name": "stdout",
          "text": [
            "              precision    recall  f1-score   support\n",
            "\n",
            "         0.0       0.85      0.91      0.88       223\n",
            "         1.0       0.91      0.85      0.88       252\n",
            "\n",
            "    accuracy                           0.88       475\n",
            "   macro avg       0.88      0.88      0.88       475\n",
            "weighted avg       0.88      0.88      0.88       475\n",
            "\n",
            "88.0\n"
          ]
        }
      ]
    },
    {
      "cell_type": "code",
      "source": [
        "labels=[\"Class 1\", \"Class 2\"]\n",
        "sns.heatmap(confusion_matrix(y_test, y_pred.round()), square=True, annot=True, fmt='d', cbar=False, cmap='Blues',\n",
        "            xticklabels=labels, yticklabels=labels)\n",
        "plt.xlabel('Predicted label')\n",
        "plt.ylabel('Actual label')"
      ],
      "metadata": {
        "colab": {
          "base_uri": "https://localhost:8080/",
          "height": 296
        },
        "id": "KCbgLNMFxSlJ",
        "outputId": "af4cd988-38e3-4088-cf86-ed1d8fbb3584"
      },
      "execution_count": null,
      "outputs": [
        {
          "output_type": "execute_result",
          "data": {
            "text/plain": [
              "Text(91.68, 0.5, 'Actual label')"
            ]
          },
          "metadata": {},
          "execution_count": 77
        },
        {
          "output_type": "display_data",
          "data": {
            "text/plain": [
              "<Figure size 432x288 with 1 Axes>"
            ],
            "image/png": "[encoded data removed]"
          },
          "metadata": {}
        }
      ]
    },
    {
      "cell_type": "code",
      "source": [],
      "metadata": {
        "id": "YnBt_MLlxZqp"
      },
      "execution_count": null,
      "outputs": []
    },
    {
      "cell_type": "markdown",
      "source": [
        "# Best model (0.9 accuracy) and saved weights"
      ],
      "metadata": {
        "id": "g_ku-tD68sKe"
      }
    },
    {
      "cell_type": "code",
      "source": [
        "# Definition of the model\n",
        "model_nn = Sequential()\n",
        "model_nn.add(Dense(28, input_dim=28, kernel_initializer='lecun_normal', activation='selu'))\n",
        "model_nn.add(Dense(64, kernel_initializer='lecun_normal', activation='selu'))\n",
        "model_nn.add(Dense(32, kernel_initializer='lecun_normal', activation='selu'))\n",
        "model_nn.add(Dense(16, kernel_initializer='lecun_normal', activation='selu'))\n",
        "model_nn.add(Dense(8, kernel_initializer='lecun_normal', activation='selu'))\n",
        "model_nn.add(Dropout(0.4))\n",
        "model_nn.add(Dense(4, kernel_initializer='lecun_normal', activation='selu'))\n",
        "model_nn.add(Dense(1, activation='sigmoid'))\n",
        "\n",
        "# kernel_initializer='lecun_normal',activation='selu'))\n",
        "\n",
        "model_nn.compile(loss='binary_crossentropy', optimizer='adam', metrics=['accuracy'])\n",
        "\n",
        "es = EarlyStopping(monitor='val_accuracy', mode='max', verbose=1, patience=15)\n",
        "\n",
        "# fit the keras model on the dataset\n",
        "history=model_nn.fit(X, y,validation_data=(X_val,y_val),epochs=200,batch_size=10, callbacks=[es])\n",
        "\n",
        "# evaluate the keras model\n",
        "_, accuracy = model_nn.evaluate(X, y)\n",
        "model_nn.save('my_model.h5') ##Saving model weights\n",
        "\n",
        "print('Accuracy: %.2f' % (accuracy*100))\n",
        "print(history.history.keys())"
      ],
      "metadata": {
        "colab": {
          "base_uri": "https://localhost:8080/"
        },
        "id": "f9y37UeDyZcL",
        "outputId": "a36c5aae-570a-490d-de5a-a2208f50568b"
      },
      "execution_count": null,
      "outputs": [
        {
          "output_type": "stream",
          "name": "stdout",
          "text": [
            "Epoch 1/200\n",
            "1000/1000 [==============================] - 6s 3ms/step - loss: 0.7051 - accuracy: 0.5286 - val_loss: 0.6848 - val_accuracy: 0.5560\n",
            "Epoch 2/200\n",
            "1000/1000 [==============================] - 3s 3ms/step - loss: 0.6758 - accuracy: 0.5760 - val_loss: 0.6674 - val_accuracy: 0.5900\n",
            "Epoch 3/200\n",
            "1000/1000 [==============================] - 3s 3ms/step - loss: 0.6650 - accuracy: 0.5926 - val_loss: 0.6665 - val_accuracy: 0.5900\n",
            "Epoch 4/200\n",
            "1000/1000 [==============================] - 3s 3ms/step - loss: 0.6595 - accuracy: 0.6069 - val_loss: 0.6578 - val_accuracy: 0.6020\n",
            "Epoch 5/200\n",
            "1000/1000 [==============================] - 3s 3ms/step - loss: 0.6513 - accuracy: 0.6155 - val_loss: 0.6572 - val_accuracy: 0.6100\n",
            "Epoch 6/200\n",
            "1000/1000 [==============================] - 3s 3ms/step - loss: 0.6455 - accuracy: 0.6277 - val_loss: 0.6531 - val_accuracy: 0.6140\n",
            "Epoch 7/200\n",
            "1000/1000 [==============================] - 3s 3ms/step - loss: 0.6372 - accuracy: 0.6429 - val_loss: 0.6548 - val_accuracy: 0.6240\n",
            "Epoch 8/200\n",
            "1000/1000 [==============================] - 3s 3ms/step - loss: 0.6323 - accuracy: 0.6440 - val_loss: 0.6390 - val_accuracy: 0.6480\n",
            "Epoch 9/200\n",
            "1000/1000 [==============================] - 3s 3ms/step - loss: 0.6245 - accuracy: 0.6438 - val_loss: 0.6366 - val_accuracy: 0.6480\n",
            "Epoch 10/200\n",
            "1000/1000 [==============================] - 3s 3ms/step - loss: 0.6206 - accuracy: 0.6588 - val_loss: 0.6400 - val_accuracy: 0.6240\n",
            "Epoch 11/200\n",
            "1000/1000 [==============================] - 3s 3ms/step - loss: 0.6178 - accuracy: 0.6594 - val_loss: 0.6186 - val_accuracy: 0.6400\n",
            "Epoch 12/200\n",
            "1000/1000 [==============================] - 3s 3ms/step - loss: 0.6126 - accuracy: 0.6615 - val_loss: 0.6309 - val_accuracy: 0.6520\n",
            "Epoch 13/200\n",
            "1000/1000 [==============================] - 3s 3ms/step - loss: 0.6106 - accuracy: 0.6703 - val_loss: 0.6147 - val_accuracy: 0.6520\n",
            "Epoch 14/200\n",
            "1000/1000 [==============================] - 3s 3ms/step - loss: 0.6095 - accuracy: 0.6683 - val_loss: 0.6190 - val_accuracy: 0.6480\n",
            "Epoch 15/200\n",
            "1000/1000 [==============================] - 3s 3ms/step - loss: 0.6052 - accuracy: 0.6731 - val_loss: 0.6137 - val_accuracy: 0.6620\n",
            "Epoch 16/200\n",
            "1000/1000 [==============================] - 3s 3ms/step - loss: 0.6007 - accuracy: 0.6794 - val_loss: 0.6144 - val_accuracy: 0.6540\n",
            "Epoch 17/200\n",
            "1000/1000 [==============================] - 3s 3ms/step - loss: 0.5976 - accuracy: 0.6840 - val_loss: 0.6078 - val_accuracy: 0.6800\n",
            "Epoch 18/200\n",
            "1000/1000 [==============================] - 4s 4ms/step - loss: 0.5950 - accuracy: 0.6875 - val_loss: 0.6096 - val_accuracy: 0.6680\n",
            "Epoch 19/200\n",
            "1000/1000 [==============================] - 3s 3ms/step - loss: 0.5932 - accuracy: 0.6869 - val_loss: 0.6197 - val_accuracy: 0.6440\n",
            "Epoch 20/200\n",
            "1000/1000 [==============================] - 3s 3ms/step - loss: 0.5920 - accuracy: 0.6829 - val_loss: 0.6088 - val_accuracy: 0.6600\n",
            "Epoch 21/200\n",
            "1000/1000 [==============================] - 3s 3ms/step - loss: 0.5890 - accuracy: 0.6891 - val_loss: 0.5979 - val_accuracy: 0.6860\n",
            "Epoch 22/200\n",
            "1000/1000 [==============================] - 3s 3ms/step - loss: 0.5854 - accuracy: 0.6906 - val_loss: 0.5964 - val_accuracy: 0.6940\n",
            "Epoch 23/200\n",
            "1000/1000 [==============================] - 3s 3ms/step - loss: 0.5830 - accuracy: 0.6978 - val_loss: 0.5896 - val_accuracy: 0.6820\n",
            "Epoch 24/200\n",
            "1000/1000 [==============================] - 3s 3ms/step - loss: 0.5800 - accuracy: 0.6979 - val_loss: 0.5969 - val_accuracy: 0.6760\n",
            "Epoch 25/200\n",
            "1000/1000 [==============================] - 3s 3ms/step - loss: 0.5784 - accuracy: 0.6992 - val_loss: 0.5955 - val_accuracy: 0.6900\n",
            "Epoch 26/200\n",
            "1000/1000 [==============================] - 3s 3ms/step - loss: 0.5731 - accuracy: 0.7038 - val_loss: 0.5752 - val_accuracy: 0.7220\n",
            "Epoch 27/200\n",
            "1000/1000 [==============================] - 3s 3ms/step - loss: 0.5721 - accuracy: 0.7026 - val_loss: 0.5938 - val_accuracy: 0.6740\n",
            "Epoch 28/200\n",
            "1000/1000 [==============================] - 3s 3ms/step - loss: 0.5693 - accuracy: 0.7065 - val_loss: 0.5878 - val_accuracy: 0.6920\n",
            "Epoch 29/200\n",
            "1000/1000 [==============================] - 3s 3ms/step - loss: 0.5669 - accuracy: 0.7123 - val_loss: 0.5799 - val_accuracy: 0.7000\n",
            "Epoch 30/200\n",
            "1000/1000 [==============================] - 3s 3ms/step - loss: 0.5650 - accuracy: 0.7128 - val_loss: 0.5612 - val_accuracy: 0.7100\n",
            "Epoch 31/200\n",
            "1000/1000 [==============================] - 3s 3ms/step - loss: 0.5585 - accuracy: 0.7173 - val_loss: 0.5618 - val_accuracy: 0.7000\n",
            "Epoch 32/200\n",
            "1000/1000 [==============================] - 3s 3ms/step - loss: 0.5588 - accuracy: 0.7172 - val_loss: 0.5600 - val_accuracy: 0.7240\n",
            "Epoch 33/200\n",
            "1000/1000 [==============================] - 3s 3ms/step - loss: 0.5541 - accuracy: 0.7201 - val_loss: 0.5888 - val_accuracy: 0.6940\n",
            "Epoch 34/200\n",
            "1000/1000 [==============================] - 3s 3ms/step - loss: 0.5544 - accuracy: 0.7222 - val_loss: 0.5611 - val_accuracy: 0.7140\n",
            "Epoch 35/200\n",
            "1000/1000 [==============================] - 3s 3ms/step - loss: 0.5481 - accuracy: 0.7247 - val_loss: 0.5686 - val_accuracy: 0.7020\n",
            "Epoch 36/200\n",
            "1000/1000 [==============================] - 3s 3ms/step - loss: 0.5477 - accuracy: 0.7244 - val_loss: 0.5629 - val_accuracy: 0.7180\n",
            "Epoch 37/200\n",
            "1000/1000 [==============================] - 3s 3ms/step - loss: 0.5418 - accuracy: 0.7309 - val_loss: 0.5605 - val_accuracy: 0.7240\n",
            "Epoch 38/200\n",
            "1000/1000 [==============================] - 3s 3ms/step - loss: 0.5415 - accuracy: 0.7335 - val_loss: 0.5459 - val_accuracy: 0.7320\n",
            "Epoch 39/200\n",
            "1000/1000 [==============================] - 3s 3ms/step - loss: 0.5371 - accuracy: 0.7365 - val_loss: 0.5396 - val_accuracy: 0.7320\n",
            "Epoch 40/200\n",
            "1000/1000 [==============================] - 3s 3ms/step - loss: 0.5346 - accuracy: 0.7350 - val_loss: 0.5479 - val_accuracy: 0.7320\n",
            "Epoch 41/200\n",
            "1000/1000 [==============================] - 3s 3ms/step - loss: 0.5299 - accuracy: 0.7399 - val_loss: 0.5395 - val_accuracy: 0.7580\n",
            "Epoch 42/200\n",
            "1000/1000 [==============================] - 3s 3ms/step - loss: 0.5245 - accuracy: 0.7471 - val_loss: 0.5272 - val_accuracy: 0.7400\n",
            "Epoch 43/200\n",
            "1000/1000 [==============================] - 3s 3ms/step - loss: 0.5271 - accuracy: 0.7458 - val_loss: 0.5214 - val_accuracy: 0.7520\n",
            "Epoch 44/200\n",
            "1000/1000 [==============================] - 3s 3ms/step - loss: 0.5250 - accuracy: 0.7461 - val_loss: 0.5235 - val_accuracy: 0.7620\n",
            "Epoch 45/200\n",
            "1000/1000 [==============================] - 3s 3ms/step - loss: 0.5162 - accuracy: 0.7484 - val_loss: 0.5366 - val_accuracy: 0.7300\n",
            "Epoch 46/200\n",
            "1000/1000 [==============================] - 3s 3ms/step - loss: 0.5127 - accuracy: 0.7476 - val_loss: 0.5247 - val_accuracy: 0.7400\n",
            "Epoch 47/200\n",
            "1000/1000 [==============================] - 3s 3ms/step - loss: 0.5116 - accuracy: 0.7542 - val_loss: 0.5242 - val_accuracy: 0.7420\n",
            "Epoch 48/200\n",
            "1000/1000 [==============================] - 3s 3ms/step - loss: 0.5125 - accuracy: 0.7557 - val_loss: 0.5027 - val_accuracy: 0.7800\n",
            "Epoch 49/200\n",
            "1000/1000 [==============================] - 3s 3ms/step - loss: 0.5074 - accuracy: 0.7545 - val_loss: 0.5019 - val_accuracy: 0.7660\n",
            "Epoch 50/200\n",
            "1000/1000 [==============================] - 3s 3ms/step - loss: 0.5058 - accuracy: 0.7613 - val_loss: 0.5246 - val_accuracy: 0.7400\n",
            "Epoch 51/200\n",
            "1000/1000 [==============================] - 3s 3ms/step - loss: 0.5013 - accuracy: 0.7572 - val_loss: 0.5058 - val_accuracy: 0.7500\n",
            "Epoch 52/200\n",
            "1000/1000 [==============================] - 3s 3ms/step - loss: 0.5016 - accuracy: 0.7609 - val_loss: 0.4809 - val_accuracy: 0.7800\n",
            "Epoch 53/200\n",
            "1000/1000 [==============================] - 3s 3ms/step - loss: 0.4945 - accuracy: 0.7635 - val_loss: 0.4920 - val_accuracy: 0.7500\n",
            "Epoch 54/200\n",
            "1000/1000 [==============================] - 3s 3ms/step - loss: 0.4939 - accuracy: 0.7656 - val_loss: 0.5065 - val_accuracy: 0.7700\n",
            "Epoch 55/200\n",
            "1000/1000 [==============================] - 3s 3ms/step - loss: 0.4874 - accuracy: 0.7705 - val_loss: 0.4740 - val_accuracy: 0.7760\n",
            "Epoch 56/200\n",
            "1000/1000 [==============================] - 3s 3ms/step - loss: 0.4875 - accuracy: 0.7720 - val_loss: 0.4834 - val_accuracy: 0.7640\n",
            "Epoch 57/200\n",
            "1000/1000 [==============================] - 3s 3ms/step - loss: 0.4849 - accuracy: 0.7726 - val_loss: 0.4914 - val_accuracy: 0.7720\n",
            "Epoch 58/200\n",
            "1000/1000 [==============================] - 3s 3ms/step - loss: 0.4822 - accuracy: 0.7750 - val_loss: 0.4883 - val_accuracy: 0.7860\n",
            "Epoch 59/200\n",
            "1000/1000 [==============================] - 3s 3ms/step - loss: 0.4792 - accuracy: 0.7773 - val_loss: 0.4745 - val_accuracy: 0.7680\n",
            "Epoch 60/200\n",
            "1000/1000 [==============================] - 3s 3ms/step - loss: 0.4763 - accuracy: 0.7774 - val_loss: 0.4412 - val_accuracy: 0.7900\n",
            "Epoch 61/200\n",
            "1000/1000 [==============================] - 3s 3ms/step - loss: 0.4747 - accuracy: 0.7775 - val_loss: 0.4564 - val_accuracy: 0.7880\n",
            "Epoch 62/200\n",
            "1000/1000 [==============================] - 3s 3ms/step - loss: 0.4692 - accuracy: 0.7818 - val_loss: 0.4555 - val_accuracy: 0.8000\n",
            "Epoch 63/200\n",
            "1000/1000 [==============================] - 3s 3ms/step - loss: 0.4694 - accuracy: 0.7794 - val_loss: 0.4713 - val_accuracy: 0.7740\n",
            "Epoch 64/200\n",
            "1000/1000 [==============================] - 3s 3ms/step - loss: 0.4619 - accuracy: 0.7849 - val_loss: 0.4390 - val_accuracy: 0.8000\n",
            "Epoch 65/200\n",
            "1000/1000 [==============================] - 3s 3ms/step - loss: 0.4627 - accuracy: 0.7883 - val_loss: 0.4357 - val_accuracy: 0.8020\n",
            "Epoch 66/200\n",
            "1000/1000 [==============================] - 3s 3ms/step - loss: 0.4568 - accuracy: 0.7917 - val_loss: 0.4403 - val_accuracy: 0.7900\n",
            "Epoch 67/200\n",
            "1000/1000 [==============================] - 3s 3ms/step - loss: 0.4569 - accuracy: 0.7879 - val_loss: 0.4454 - val_accuracy: 0.7900\n",
            "Epoch 68/200\n",
            "1000/1000 [==============================] - 3s 3ms/step - loss: 0.4508 - accuracy: 0.7915 - val_loss: 0.4541 - val_accuracy: 0.7880\n",
            "Epoch 69/200\n",
            "1000/1000 [==============================] - 3s 3ms/step - loss: 0.4486 - accuracy: 0.8009 - val_loss: 0.4428 - val_accuracy: 0.7800\n",
            "Epoch 70/200\n",
            "1000/1000 [==============================] - 3s 3ms/step - loss: 0.4463 - accuracy: 0.7954 - val_loss: 0.4314 - val_accuracy: 0.8080\n",
            "Epoch 71/200\n",
            "1000/1000 [==============================] - 3s 3ms/step - loss: 0.4411 - accuracy: 0.8016 - val_loss: 0.4265 - val_accuracy: 0.7860\n",
            "Epoch 72/200\n",
            "1000/1000 [==============================] - 3s 3ms/step - loss: 0.4389 - accuracy: 0.8030 - val_loss: 0.4272 - val_accuracy: 0.8200\n",
            "Epoch 73/200\n",
            "1000/1000 [==============================] - 3s 3ms/step - loss: 0.4387 - accuracy: 0.7957 - val_loss: 0.4054 - val_accuracy: 0.8260\n",
            "Epoch 74/200\n",
            "1000/1000 [==============================] - 3s 3ms/step - loss: 0.4377 - accuracy: 0.8016 - val_loss: 0.4020 - val_accuracy: 0.8260\n",
            "Epoch 75/200\n",
            "1000/1000 [==============================] - 3s 3ms/step - loss: 0.4338 - accuracy: 0.8032 - val_loss: 0.4017 - val_accuracy: 0.8280\n",
            "Epoch 76/200\n",
            "1000/1000 [==============================] - 3s 3ms/step - loss: 0.4292 - accuracy: 0.8079 - val_loss: 0.4052 - val_accuracy: 0.8180\n",
            "Epoch 77/200\n",
            "1000/1000 [==============================] - 3s 3ms/step - loss: 0.4280 - accuracy: 0.8101 - val_loss: 0.3872 - val_accuracy: 0.8240\n",
            "Epoch 78/200\n",
            "1000/1000 [==============================] - 3s 3ms/step - loss: 0.4245 - accuracy: 0.8099 - val_loss: 0.4160 - val_accuracy: 0.8240\n",
            "Epoch 79/200\n",
            "1000/1000 [==============================] - 3s 3ms/step - loss: 0.4199 - accuracy: 0.8094 - val_loss: 0.4106 - val_accuracy: 0.8260\n",
            "Epoch 80/200\n",
            "1000/1000 [==============================] - 3s 3ms/step - loss: 0.4191 - accuracy: 0.8136 - val_loss: 0.3877 - val_accuracy: 0.8380\n",
            "Epoch 81/200\n",
            "1000/1000 [==============================] - 3s 3ms/step - loss: 0.4134 - accuracy: 0.8141 - val_loss: 0.4040 - val_accuracy: 0.8240\n",
            "Epoch 82/200\n",
            "1000/1000 [==============================] - 3s 3ms/step - loss: 0.4085 - accuracy: 0.8179 - val_loss: 0.3906 - val_accuracy: 0.8200\n",
            "Epoch 83/200\n",
            "1000/1000 [==============================] - 3s 3ms/step - loss: 0.4087 - accuracy: 0.8162 - val_loss: 0.3822 - val_accuracy: 0.8500\n",
            "Epoch 84/200\n",
            "1000/1000 [==============================] - 3s 3ms/step - loss: 0.4048 - accuracy: 0.8238 - val_loss: 0.3898 - val_accuracy: 0.8220\n",
            "Epoch 85/200\n",
            "1000/1000 [==============================] - 3s 3ms/step - loss: 0.4108 - accuracy: 0.8164 - val_loss: 0.3999 - val_accuracy: 0.8220\n",
            "Epoch 86/200\n",
            "1000/1000 [==============================] - 3s 3ms/step - loss: 0.4041 - accuracy: 0.8214 - val_loss: 0.3829 - val_accuracy: 0.8400\n",
            "Epoch 87/200\n",
            "1000/1000 [==============================] - 3s 3ms/step - loss: 0.3979 - accuracy: 0.8222 - val_loss: 0.3682 - val_accuracy: 0.8340\n",
            "Epoch 88/200\n",
            "1000/1000 [==============================] - 3s 3ms/step - loss: 0.3946 - accuracy: 0.8284 - val_loss: 0.3941 - val_accuracy: 0.8240\n",
            "Epoch 89/200\n",
            "1000/1000 [==============================] - 3s 3ms/step - loss: 0.3962 - accuracy: 0.8293 - val_loss: 0.3923 - val_accuracy: 0.8180\n",
            "Epoch 90/200\n",
            "1000/1000 [==============================] - 3s 3ms/step - loss: 0.3906 - accuracy: 0.8284 - val_loss: 0.3793 - val_accuracy: 0.8300\n",
            "Epoch 91/200\n",
            "1000/1000 [==============================] - 3s 3ms/step - loss: 0.3885 - accuracy: 0.8305 - val_loss: 0.3692 - val_accuracy: 0.8400\n",
            "Epoch 92/200\n",
            "1000/1000 [==============================] - 3s 3ms/step - loss: 0.3856 - accuracy: 0.8313 - val_loss: 0.3815 - val_accuracy: 0.8300\n",
            "Epoch 93/200\n",
            "1000/1000 [==============================] - 3s 3ms/step - loss: 0.3821 - accuracy: 0.8344 - val_loss: 0.3628 - val_accuracy: 0.8400\n",
            "Epoch 94/200\n",
            "1000/1000 [==============================] - 3s 3ms/step - loss: 0.3818 - accuracy: 0.8325 - val_loss: 0.3793 - val_accuracy: 0.8300\n",
            "Epoch 95/200\n",
            "1000/1000 [==============================] - 3s 3ms/step - loss: 0.3771 - accuracy: 0.8408 - val_loss: 0.3606 - val_accuracy: 0.8440\n",
            "Epoch 96/200\n",
            "1000/1000 [==============================] - 3s 3ms/step - loss: 0.3797 - accuracy: 0.8364 - val_loss: 0.3768 - val_accuracy: 0.8340\n",
            "Epoch 97/200\n",
            "1000/1000 [==============================] - 3s 3ms/step - loss: 0.3707 - accuracy: 0.8407 - val_loss: 0.3690 - val_accuracy: 0.8480\n",
            "Epoch 98/200\n",
            "1000/1000 [==============================] - 3s 3ms/step - loss: 0.3716 - accuracy: 0.8409 - val_loss: 0.3381 - val_accuracy: 0.8580\n",
            "Epoch 99/200\n",
            "1000/1000 [==============================] - 3s 3ms/step - loss: 0.3695 - accuracy: 0.8418 - val_loss: 0.3241 - val_accuracy: 0.8600\n",
            "Epoch 100/200\n",
            "1000/1000 [==============================] - 3s 3ms/step - loss: 0.3690 - accuracy: 0.8430 - val_loss: 0.3335 - val_accuracy: 0.8620\n",
            "Epoch 101/200\n",
            "1000/1000 [==============================] - 3s 3ms/step - loss: 0.3635 - accuracy: 0.8407 - val_loss: 0.3369 - val_accuracy: 0.8500\n",
            "Epoch 102/200\n",
            "1000/1000 [==============================] - 3s 3ms/step - loss: 0.3614 - accuracy: 0.8420 - val_loss: 0.3072 - val_accuracy: 0.8700\n",
            "Epoch 103/200\n",
            "1000/1000 [==============================] - 3s 3ms/step - loss: 0.3563 - accuracy: 0.8511 - val_loss: 0.3431 - val_accuracy: 0.8500\n",
            "Epoch 104/200\n",
            "1000/1000 [==============================] - 3s 3ms/step - loss: 0.3548 - accuracy: 0.8482 - val_loss: 0.3580 - val_accuracy: 0.8560\n",
            "Epoch 105/200\n",
            "1000/1000 [==============================] - 3s 3ms/step - loss: 0.3563 - accuracy: 0.8446 - val_loss: 0.3081 - val_accuracy: 0.8760\n",
            "Epoch 106/200\n",
            "1000/1000 [==============================] - 3s 3ms/step - loss: 0.3507 - accuracy: 0.8499 - val_loss: 0.3264 - val_accuracy: 0.8680\n",
            "Epoch 107/200\n",
            "1000/1000 [==============================] - 3s 3ms/step - loss: 0.3561 - accuracy: 0.8468 - val_loss: 0.3341 - val_accuracy: 0.8540\n",
            "Epoch 108/200\n",
            "1000/1000 [==============================] - 3s 3ms/step - loss: 0.3501 - accuracy: 0.8515 - val_loss: 0.3189 - val_accuracy: 0.8640\n",
            "Epoch 109/200\n",
            "1000/1000 [==============================] - 3s 3ms/step - loss: 0.3508 - accuracy: 0.8522 - val_loss: 0.3371 - val_accuracy: 0.8520\n",
            "Epoch 110/200\n",
            "1000/1000 [==============================] - 3s 3ms/step - loss: 0.3428 - accuracy: 0.8551 - val_loss: 0.3246 - val_accuracy: 0.8560\n",
            "Epoch 111/200\n",
            "1000/1000 [==============================] - 3s 3ms/step - loss: 0.3470 - accuracy: 0.8487 - val_loss: 0.3057 - val_accuracy: 0.8720\n",
            "Epoch 112/200\n",
            "1000/1000 [==============================] - 3s 3ms/step - loss: 0.3457 - accuracy: 0.8523 - val_loss: 0.3098 - val_accuracy: 0.8720\n",
            "Epoch 113/200\n",
            "1000/1000 [==============================] - 3s 3ms/step - loss: 0.3369 - accuracy: 0.8565 - val_loss: 0.2934 - val_accuracy: 0.8820\n",
            "Epoch 114/200\n",
            "1000/1000 [==============================] - 3s 3ms/step - loss: 0.3374 - accuracy: 0.8585 - val_loss: 0.2932 - val_accuracy: 0.8920\n",
            "Epoch 115/200\n",
            "1000/1000 [==============================] - 3s 3ms/step - loss: 0.3362 - accuracy: 0.8575 - val_loss: 0.3210 - val_accuracy: 0.8740\n",
            "Epoch 116/200\n",
            "1000/1000 [==============================] - 3s 3ms/step - loss: 0.3355 - accuracy: 0.8581 - val_loss: 0.3150 - val_accuracy: 0.8720\n",
            "Epoch 117/200\n",
            "1000/1000 [==============================] - 3s 3ms/step - loss: 0.3294 - accuracy: 0.8619 - val_loss: 0.3280 - val_accuracy: 0.8620\n",
            "Epoch 118/200\n",
            "1000/1000 [==============================] - 3s 3ms/step - loss: 0.3333 - accuracy: 0.8622 - val_loss: 0.3013 - val_accuracy: 0.8780\n",
            "Epoch 119/200\n",
            "1000/1000 [==============================] - 3s 3ms/step - loss: 0.3284 - accuracy: 0.8626 - val_loss: 0.3393 - val_accuracy: 0.8420\n",
            "Epoch 120/200\n",
            "1000/1000 [==============================] - 3s 3ms/step - loss: 0.3236 - accuracy: 0.8653 - val_loss: 0.3064 - val_accuracy: 0.8660\n",
            "Epoch 121/200\n",
            "1000/1000 [==============================] - 3s 3ms/step - loss: 0.3279 - accuracy: 0.8591 - val_loss: 0.2916 - val_accuracy: 0.8760\n",
            "Epoch 122/200\n",
            "1000/1000 [==============================] - 3s 3ms/step - loss: 0.3201 - accuracy: 0.8667 - val_loss: 0.2949 - val_accuracy: 0.8820\n",
            "Epoch 123/200\n",
            "1000/1000 [==============================] - 3s 3ms/step - loss: 0.3218 - accuracy: 0.8661 - val_loss: 0.3019 - val_accuracy: 0.8780\n",
            "Epoch 124/200\n",
            "1000/1000 [==============================] - 3s 3ms/step - loss: 0.3230 - accuracy: 0.8658 - val_loss: 0.2965 - val_accuracy: 0.8880\n",
            "Epoch 125/200\n",
            "1000/1000 [==============================] - 3s 3ms/step - loss: 0.3149 - accuracy: 0.8721 - val_loss: 0.3488 - val_accuracy: 0.8620\n",
            "Epoch 126/200\n",
            "1000/1000 [==============================] - 3s 3ms/step - loss: 0.3146 - accuracy: 0.8682 - val_loss: 0.2839 - val_accuracy: 0.8880\n",
            "Epoch 127/200\n",
            "1000/1000 [==============================] - 3s 3ms/step - loss: 0.3192 - accuracy: 0.8646 - val_loss: 0.3036 - val_accuracy: 0.8720\n",
            "Epoch 128/200\n",
            "1000/1000 [==============================] - 3s 3ms/step - loss: 0.3130 - accuracy: 0.8713 - val_loss: 0.2676 - val_accuracy: 0.9000\n",
            "Epoch 129/200\n",
            "1000/1000 [==============================] - 3s 3ms/step - loss: 0.3142 - accuracy: 0.8667 - val_loss: 0.2909 - val_accuracy: 0.8940\n",
            "Epoch 130/200\n",
            "1000/1000 [==============================] - 3s 3ms/step - loss: 0.3015 - accuracy: 0.8768 - val_loss: 0.2816 - val_accuracy: 0.8880\n",
            "Epoch 131/200\n",
            "1000/1000 [==============================] - 3s 3ms/step - loss: 0.3058 - accuracy: 0.8720 - val_loss: 0.2823 - val_accuracy: 0.8860\n",
            "Epoch 132/200\n",
            "1000/1000 [==============================] - 3s 3ms/step - loss: 0.3031 - accuracy: 0.8722 - val_loss: 0.2771 - val_accuracy: 0.8940\n",
            "Epoch 133/200\n",
            "1000/1000 [==============================] - 3s 3ms/step - loss: 0.3056 - accuracy: 0.8730 - val_loss: 0.2957 - val_accuracy: 0.8820\n",
            "Epoch 134/200\n",
            "1000/1000 [==============================] - 3s 3ms/step - loss: 0.3010 - accuracy: 0.8762 - val_loss: 0.2856 - val_accuracy: 0.8760\n",
            "Epoch 135/200\n",
            "1000/1000 [==============================] - 3s 3ms/step - loss: 0.3101 - accuracy: 0.8716 - val_loss: 0.2931 - val_accuracy: 0.8880\n",
            "Epoch 136/200\n",
            "1000/1000 [==============================] - 3s 3ms/step - loss: 0.2978 - accuracy: 0.8779 - val_loss: 0.2872 - val_accuracy: 0.8720\n",
            "Epoch 137/200\n",
            "1000/1000 [==============================] - 3s 3ms/step - loss: 0.3012 - accuracy: 0.8767 - val_loss: 0.2778 - val_accuracy: 0.8920\n",
            "Epoch 138/200\n",
            "1000/1000 [==============================] - 3s 3ms/step - loss: 0.2941 - accuracy: 0.8796 - val_loss: 0.2822 - val_accuracy: 0.8940\n",
            "Epoch 139/200\n",
            "1000/1000 [==============================] - 3s 3ms/step - loss: 0.2913 - accuracy: 0.8794 - val_loss: 0.2467 - val_accuracy: 0.9100\n",
            "Epoch 140/200\n",
            "1000/1000 [==============================] - 3s 3ms/step - loss: 0.2963 - accuracy: 0.8774 - val_loss: 0.2590 - val_accuracy: 0.9020\n",
            "Epoch 141/200\n",
            "1000/1000 [==============================] - 3s 3ms/step - loss: 0.2885 - accuracy: 0.8842 - val_loss: 0.2720 - val_accuracy: 0.8860\n",
            "Epoch 142/200\n",
            "1000/1000 [==============================] - 3s 3ms/step - loss: 0.2915 - accuracy: 0.8829 - val_loss: 0.2538 - val_accuracy: 0.9040\n",
            "Epoch 143/200\n",
            "1000/1000 [==============================] - 3s 3ms/step - loss: 0.2872 - accuracy: 0.8840 - val_loss: 0.2828 - val_accuracy: 0.8820\n",
            "Epoch 144/200\n",
            "1000/1000 [==============================] - 3s 3ms/step - loss: 0.2922 - accuracy: 0.8847 - val_loss: 0.2725 - val_accuracy: 0.8960\n",
            "Epoch 145/200\n",
            "1000/1000 [==============================] - 3s 3ms/step - loss: 0.2946 - accuracy: 0.8814 - val_loss: 0.2810 - val_accuracy: 0.8840\n",
            "Epoch 146/200\n",
            "1000/1000 [==============================] - 3s 3ms/step - loss: 0.2844 - accuracy: 0.8845 - val_loss: 0.2658 - val_accuracy: 0.8940\n",
            "Epoch 147/200\n",
            "1000/1000 [==============================] - 3s 3ms/step - loss: 0.2777 - accuracy: 0.8882 - val_loss: 0.2498 - val_accuracy: 0.9000\n",
            "Epoch 148/200\n",
            "1000/1000 [==============================] - 3s 3ms/step - loss: 0.2864 - accuracy: 0.8814 - val_loss: 0.2599 - val_accuracy: 0.8880\n",
            "Epoch 149/200\n",
            "1000/1000 [==============================] - 3s 3ms/step - loss: 0.2785 - accuracy: 0.8887 - val_loss: 0.2701 - val_accuracy: 0.8820\n",
            "Epoch 150/200\n",
            "1000/1000 [==============================] - 3s 3ms/step - loss: 0.2774 - accuracy: 0.8872 - val_loss: 0.2596 - val_accuracy: 0.8900\n",
            "Epoch 151/200\n",
            "1000/1000 [==============================] - 3s 3ms/step - loss: 0.2803 - accuracy: 0.8868 - val_loss: 0.2554 - val_accuracy: 0.9000\n",
            "Epoch 152/200\n",
            "1000/1000 [==============================] - 3s 3ms/step - loss: 0.2748 - accuracy: 0.8900 - val_loss: 0.2545 - val_accuracy: 0.8940\n",
            "Epoch 153/200\n",
            "1000/1000 [==============================] - 3s 3ms/step - loss: 0.2732 - accuracy: 0.8922 - val_loss: 0.2870 - val_accuracy: 0.8820\n",
            "Epoch 154/200\n",
            "1000/1000 [==============================] - 3s 3ms/step - loss: 0.2785 - accuracy: 0.8866 - val_loss: 0.2805 - val_accuracy: 0.8780\n",
            "Epoch 154: early stopping\n",
            "313/313 [==============================] - 1s 2ms/step - loss: 0.2553 - accuracy: 0.9008\n",
            "Accuracy: 90.08\n",
            "dict_keys(['loss', 'accuracy', 'val_loss', 'val_accuracy'])\n"
          ]
        }
      ]
    },
    {
      "cell_type": "code",
      "source": [
        "# Plot tain/validation accuracy at each epoch\n",
        "plt.plot(history.history['accuracy'])\n",
        "plt.plot(history.history['val_accuracy'])\n",
        "plt.title('model accuracy')\n",
        "plt.ylabel('accuracy')\n",
        "plt.xlabel('epoch')\n",
        "plt.legend(['train', 'test'], loc='upper left')\n",
        "plt.show()"
      ],
      "metadata": {
        "colab": {
          "base_uri": "https://localhost:8080/",
          "height": 295
        },
        "id": "3kwdysoByfAD",
        "outputId": "0a1fe76d-2876-4297-dc0a-058485c490e9"
      },
      "execution_count": null,
      "outputs": [
        {
          "output_type": "display_data",
          "data": {
            "text/plain": [
              "<Figure size 432x288 with 1 Axes>"
            ],
            "image/png": "[encoded data removed]"
          },
          "metadata": {
            "needs_background": "light"
          }
        }
      ]
    },
    {
      "cell_type": "code",
      "source": [
        "# Plot tain/validation loss at each epoch\n",
        "plt.plot(history.history['loss'])\n",
        "plt.plot(history.history['val_loss'])\n",
        "plt.title('model loss')\n",
        "plt.ylabel('loss')\n",
        "plt.xlabel('epoch')\n",
        "plt.legend(['train', 'test'], loc='upper left')\n",
        "plt.show()"
      ],
      "metadata": {
        "colab": {
          "base_uri": "https://localhost:8080/",
          "height": 295
        },
        "id": "W3-Ey0mgygKs",
        "outputId": "f4cd917a-8adf-4e27-b180-399fd1035f6b"
      },
      "execution_count": null,
      "outputs": [
        {
          "output_type": "display_data",
          "data": {
            "text/plain": [
              "<Figure size 432x288 with 1 Axes>"
            ],
            "image/png": "[encoded data removed]"
          },
          "metadata": {
            "needs_background": "light"
          }
        }
      ]
    },
    {
      "cell_type": "code",
      "source": [
        "y_pred=model_nn.predict(X_test)"
      ],
      "metadata": {
        "colab": {
          "base_uri": "https://localhost:8080/"
        },
        "id": "p0IuN4EMyhuD",
        "outputId": "10bc1cc3-c807-4634-8a19-5143ef5871ef"
      },
      "execution_count": null,
      "outputs": [
        {
          "output_type": "stream",
          "name": "stdout",
          "text": [
            "15/15 [==============================] - 0s 2ms/step\n"
          ]
        }
      ]
    },
    {
      "cell_type": "code",
      "source": [
        "# Visualisation with plot_metric\n",
        "bc = BinaryClassification(y_pred.round(), y_test, labels=[\"Class 1\", \"Class 2\"])"
      ],
      "metadata": {
        "id": "9CJHb52U4Qrw"
      },
      "execution_count": null,
      "outputs": []
    },
    {
      "cell_type": "code",
      "source": [
        "# Figures\n",
        "plt.figure(figsize=(5,5))\n",
        "bc.plot_roc_curve()\n",
        "plt.show()"
      ],
      "metadata": {
        "colab": {
          "base_uri": "https://localhost:8080/",
          "height": 350
        },
        "id": "3IFkqD7X8Jmg",
        "outputId": "456aa7c2-b1ea-4f58-b962-c82261c8598d"
      },
      "execution_count": null,
      "outputs": [
        {
          "output_type": "display_data",
          "data": {
            "text/plain": [
              "<Figure size 360x360 with 1 Axes>"
            ],
            "image/png": "[encoded data removed]"
          },
          "metadata": {}
        }
      ]
    },
    {
      "cell_type": "code",
      "source": [
        "print(classification_report(y_test,y_pred.round()))\n",
        "print(accuracy_score(y_test,y_pred.round())*100)"
      ],
      "metadata": {
        "colab": {
          "base_uri": "https://localhost:8080/"
        },
        "id": "0yoASpgTyjhL",
        "outputId": "cfbdc0dc-abc5-46a3-fb02-f29653ee1937"
      },
      "execution_count": null,
      "outputs": [
        {
          "output_type": "stream",
          "name": "stdout",
          "text": [
            "              precision    recall  f1-score   support\n",
            "\n",
            "         0.0       0.88      0.92      0.90       223\n",
            "         1.0       0.93      0.89      0.91       252\n",
            "\n",
            "    accuracy                           0.91       475\n",
            "   macro avg       0.90      0.91      0.91       475\n",
            "weighted avg       0.91      0.91      0.91       475\n",
            "\n",
            "90.52631578947368\n"
          ]
        }
      ]
    },
    {
      "cell_type": "code",
      "source": [
        "labels=[\"Class 1\", \"Class 2\"]\n",
        "sns.heatmap(confusion_matrix(y_test, y_pred.round()), square=True, annot=True, fmt='d', cbar=False, cmap='Blues',\n",
        "            xticklabels=labels, yticklabels=labels)\n",
        "plt.xlabel('Predicted label')\n",
        "plt.ylabel('Actual label')"
      ],
      "metadata": {
        "colab": {
          "base_uri": "https://localhost:8080/",
          "height": 296
        },
        "id": "d6ud7GJeylIj",
        "outputId": "c6f4762e-8543-4cbb-858b-7e21fc481ee9"
      },
      "execution_count": null,
      "outputs": [
        {
          "output_type": "execute_result",
          "data": {
            "text/plain": [
              "Text(91.68, 0.5, 'Actual label')"
            ]
          },
          "metadata": {},
          "execution_count": 41
        },
        {
          "output_type": "display_data",
          "data": {
            "text/plain": [
              "<Figure size 432x288 with 1 Axes>"
            ],
            "image/png": "[encoded data removed]"
          },
          "metadata": {}
        }
      ]
    },
    {
      "cell_type": "code",
      "source": [
        "print(model_nn.summary())"
      ],
      "metadata": {
        "colab": {
          "base_uri": "https://localhost:8080/"
        },
        "id": "6SyTe51n79yc",
        "outputId": "827a17a6-8871-4a2d-c819-3f703d4d9b1c"
      },
      "execution_count": null,
      "outputs": [
        {
          "output_type": "stream",
          "name": "stdout",
          "text": [
            "Model: \"sequential_5\"\n",
            "_________________________________________________________________\n",
            " Layer (type)                Output Shape              Param #   \n",
            "=================================================================\n",
            " dense_35 (Dense)            (None, 28)                812       \n",
            "                                                                 \n",
            " dense_36 (Dense)            (None, 64)                1856      \n",
            "                                                                 \n",
            " dense_37 (Dense)            (None, 32)                2080      \n",
            "                                                                 \n",
            " dense_38 (Dense)            (None, 16)                528       \n",
            "                                                                 \n",
            " dense_39 (Dense)            (None, 8)                 136       \n",
            "                                                                 \n",
            " dropout_7 (Dropout)         (None, 8)                 0         \n",
            "                                                                 \n",
            " dense_40 (Dense)            (None, 4)                 36        \n",
            "                                                                 \n",
            " dense_41 (Dense)            (None, 1)                 5         \n",
            "                                                                 \n",
            "=================================================================\n",
            "Total params: 5,453\n",
            "Trainable params: 5,453\n",
            "Non-trainable params: 0\n",
            "_________________________________________________________________\n",
            "None\n"
          ]
        }
      ]
    },
    {
      "cell_type": "code",
      "source": [
        "from keras.utils.vis_utils import plot_model\n",
        "plot_model(model_nn, to_file='model_plot.png', show_shapes=True, show_layer_names=True)"
      ],
      "metadata": {
        "colab": {
          "base_uri": "https://localhost:8080/",
          "height": 976
        },
        "id": "OlM8WVTQ8gUQ",
        "outputId": "36186861-ba3c-495e-c739-04a23dae8fd2"
      },
      "execution_count": null,
      "outputs": [
        {
          "output_type": "execute_result",
          "data": {
            "image/png": "[encoded data removed]",
            "text/plain": [
              "<IPython.core.display.Image object>"
            ]
          },
          "metadata": {},
          "execution_count": 29
        }
      ]
    },
    {
      "cell_type": "markdown",
      "source": [
        "# Last approach"
      ],
      "metadata": {
        "id": "Scq8EzKT8wm9"
      }
    },
    {
      "cell_type": "code",
      "source": [
        "model_nn = Sequential()\n",
        "model_nn.add(Dense(64, input_dim=28, kernel_initializer='lecun_normal', activation='selu'))\n",
        "model_nn.add(Dense(32, kernel_initializer='lecun_normal', activation='selu'))\n",
        "model_nn.add(Dense(16, kernel_initializer='lecun_normal', activation='selu'))\n",
        "model_nn.add(Dense(8, kernel_initializer='lecun_normal', activation='selu'))\n",
        "model_nn.add(Dropout(0.4))\n",
        "model_nn.add(Dense(4, kernel_initializer='lecun_normal', activation='selu'))\n",
        "model_nn.add(Dense(1, activation='sigmoid'))\n",
        "\n",
        "# kernel_initializer='lecun_normal',activation='selu'))\n",
        "\n",
        "model_nn.compile(loss='binary_crossentropy', optimizer='adam', metrics=['accuracy'])\n",
        "es = EarlyStopping(monitor='val_accuracy', mode='max', verbose=1, patience=15)\n",
        "# fit the keras model on the dataset\n",
        "history=model_nn.fit(X, y,validation_data=(X_val,y_val),epochs=200,batch_size=10, callbacks=[es])\n",
        "# evaluate the keras model\n",
        "_, accuracy = model_nn.evaluate(X, y)\n",
        "model_nn.save('my_model.h5') ##Saving model weights\n",
        "print('Accuracy: %.2f' % (accuracy*100))\n",
        "print(history.history.keys())"
      ],
      "metadata": {
        "colab": {
          "base_uri": "https://localhost:8080/"
        },
        "id": "t5AHpNy88k8Q",
        "outputId": "59f6f8fc-498e-4563-9e75-48577eddaf47"
      },
      "execution_count": null,
      "outputs": [
        {
          "output_type": "stream",
          "name": "stdout",
          "text": [
            "Epoch 1/200\n",
            "1000/1000 [==============================] - 3s 3ms/step - loss: 0.7032 - accuracy: 0.5238 - val_loss: 0.6802 - val_accuracy: 0.5540\n",
            "Epoch 2/200\n",
            "1000/1000 [==============================] - 3s 3ms/step - loss: 0.6823 - accuracy: 0.5509 - val_loss: 0.6679 - val_accuracy: 0.5580\n",
            "Epoch 3/200\n",
            "1000/1000 [==============================] - 3s 3ms/step - loss: 0.6729 - accuracy: 0.5783 - val_loss: 0.6698 - val_accuracy: 0.5720\n",
            "Epoch 4/200\n",
            "1000/1000 [==============================] - 3s 3ms/step - loss: 0.6603 - accuracy: 0.5997 - val_loss: 0.6556 - val_accuracy: 0.6060\n",
            "Epoch 5/200\n",
            "1000/1000 [==============================] - 3s 3ms/step - loss: 0.6520 - accuracy: 0.6037 - val_loss: 0.6515 - val_accuracy: 0.5940\n",
            "Epoch 6/200\n",
            "1000/1000 [==============================] - 3s 3ms/step - loss: 0.6462 - accuracy: 0.6117 - val_loss: 0.6456 - val_accuracy: 0.6200\n",
            "Epoch 7/200\n",
            "1000/1000 [==============================] - 3s 3ms/step - loss: 0.6410 - accuracy: 0.6257 - val_loss: 0.6458 - val_accuracy: 0.6260\n",
            "Epoch 8/200\n",
            "1000/1000 [==============================] - 3s 3ms/step - loss: 0.6343 - accuracy: 0.6341 - val_loss: 0.6348 - val_accuracy: 0.6380\n",
            "Epoch 9/200\n",
            "1000/1000 [==============================] - 3s 3ms/step - loss: 0.6303 - accuracy: 0.6372 - val_loss: 0.6591 - val_accuracy: 0.6200\n",
            "Epoch 10/200\n",
            "1000/1000 [==============================] - 3s 3ms/step - loss: 0.6273 - accuracy: 0.6424 - val_loss: 0.6384 - val_accuracy: 0.6600\n",
            "Epoch 11/200\n",
            "1000/1000 [==============================] - 3s 3ms/step - loss: 0.6209 - accuracy: 0.6530 - val_loss: 0.6261 - val_accuracy: 0.6340\n",
            "Epoch 12/200\n",
            "1000/1000 [==============================] - 3s 3ms/step - loss: 0.6162 - accuracy: 0.6640 - val_loss: 0.6236 - val_accuracy: 0.6580\n",
            "Epoch 13/200\n",
            "1000/1000 [==============================] - 3s 3ms/step - loss: 0.6126 - accuracy: 0.6629 - val_loss: 0.6113 - val_accuracy: 0.6640\n",
            "Epoch 14/200\n",
            "1000/1000 [==============================] - 3s 3ms/step - loss: 0.6076 - accuracy: 0.6617 - val_loss: 0.6188 - val_accuracy: 0.6260\n",
            "Epoch 15/200\n",
            "1000/1000 [==============================] - 3s 3ms/step - loss: 0.6089 - accuracy: 0.6680 - val_loss: 0.6260 - val_accuracy: 0.6740\n",
            "Epoch 16/200\n",
            "1000/1000 [==============================] - 3s 3ms/step - loss: 0.6069 - accuracy: 0.6666 - val_loss: 0.6023 - val_accuracy: 0.6760\n",
            "Epoch 17/200\n",
            "1000/1000 [==============================] - 3s 3ms/step - loss: 0.6016 - accuracy: 0.6727 - val_loss: 0.6026 - val_accuracy: 0.6880\n",
            "Epoch 18/200\n",
            "1000/1000 [==============================] - 3s 3ms/step - loss: 0.5962 - accuracy: 0.6810 - val_loss: 0.5881 - val_accuracy: 0.6880\n",
            "Epoch 19/200\n",
            "1000/1000 [==============================] - 3s 3ms/step - loss: 0.5954 - accuracy: 0.6842 - val_loss: 0.5966 - val_accuracy: 0.6700\n",
            "Epoch 20/200\n",
            "1000/1000 [==============================] - 3s 3ms/step - loss: 0.5899 - accuracy: 0.6870 - val_loss: 0.5863 - val_accuracy: 0.6820\n",
            "Epoch 21/200\n",
            "1000/1000 [==============================] - 3s 3ms/step - loss: 0.5879 - accuracy: 0.6886 - val_loss: 0.5834 - val_accuracy: 0.7000\n",
            "Epoch 22/200\n",
            "1000/1000 [==============================] - 3s 3ms/step - loss: 0.5850 - accuracy: 0.6924 - val_loss: 0.5684 - val_accuracy: 0.6960\n",
            "Epoch 23/200\n",
            "1000/1000 [==============================] - 3s 3ms/step - loss: 0.5832 - accuracy: 0.6916 - val_loss: 0.5922 - val_accuracy: 0.6960\n",
            "Epoch 24/200\n",
            "1000/1000 [==============================] - 4s 4ms/step - loss: 0.5800 - accuracy: 0.6932 - val_loss: 0.5691 - val_accuracy: 0.7280\n",
            "Epoch 25/200\n",
            "1000/1000 [==============================] - 3s 3ms/step - loss: 0.5782 - accuracy: 0.6979 - val_loss: 0.5708 - val_accuracy: 0.6940\n",
            "Epoch 26/200\n",
            "1000/1000 [==============================] - 3s 3ms/step - loss: 0.5745 - accuracy: 0.7060 - val_loss: 0.5661 - val_accuracy: 0.7020\n",
            "Epoch 27/200\n",
            "1000/1000 [==============================] - 3s 3ms/step - loss: 0.5755 - accuracy: 0.6987 - val_loss: 0.5734 - val_accuracy: 0.6860\n",
            "Epoch 28/200\n",
            "1000/1000 [==============================] - 3s 3ms/step - loss: 0.5706 - accuracy: 0.7075 - val_loss: 0.5611 - val_accuracy: 0.7220\n",
            "Epoch 29/200\n",
            "1000/1000 [==============================] - 3s 3ms/step - loss: 0.5680 - accuracy: 0.7096 - val_loss: 0.5780 - val_accuracy: 0.6940\n",
            "Epoch 30/200\n",
            "1000/1000 [==============================] - 3s 3ms/step - loss: 0.5647 - accuracy: 0.7076 - val_loss: 0.5611 - val_accuracy: 0.7060\n",
            "Epoch 31/200\n",
            "1000/1000 [==============================] - 3s 3ms/step - loss: 0.5612 - accuracy: 0.7144 - val_loss: 0.5472 - val_accuracy: 0.7300\n",
            "Epoch 32/200\n",
            "1000/1000 [==============================] - 3s 3ms/step - loss: 0.5637 - accuracy: 0.7130 - val_loss: 0.5493 - val_accuracy: 0.7260\n",
            "Epoch 33/200\n",
            "1000/1000 [==============================] - 3s 3ms/step - loss: 0.5568 - accuracy: 0.7160 - val_loss: 0.5466 - val_accuracy: 0.7320\n",
            "Epoch 34/200\n",
            "1000/1000 [==============================] - 3s 3ms/step - loss: 0.5562 - accuracy: 0.7146 - val_loss: 0.5387 - val_accuracy: 0.7240\n",
            "Epoch 35/200\n",
            "1000/1000 [==============================] - 3s 3ms/step - loss: 0.5551 - accuracy: 0.7219 - val_loss: 0.5361 - val_accuracy: 0.7260\n",
            "Epoch 36/200\n",
            "1000/1000 [==============================] - 3s 3ms/step - loss: 0.5516 - accuracy: 0.7225 - val_loss: 0.5508 - val_accuracy: 0.7340\n",
            "Epoch 37/200\n",
            "1000/1000 [==============================] - 3s 3ms/step - loss: 0.5480 - accuracy: 0.7258 - val_loss: 0.5359 - val_accuracy: 0.7540\n",
            "Epoch 38/200\n",
            "1000/1000 [==============================] - 3s 3ms/step - loss: 0.5480 - accuracy: 0.7277 - val_loss: 0.5363 - val_accuracy: 0.7400\n",
            "Epoch 39/200\n",
            "1000/1000 [==============================] - 3s 3ms/step - loss: 0.5421 - accuracy: 0.7339 - val_loss: 0.5320 - val_accuracy: 0.7260\n",
            "Epoch 40/200\n",
            "1000/1000 [==============================] - 3s 3ms/step - loss: 0.5422 - accuracy: 0.7316 - val_loss: 0.5530 - val_accuracy: 0.6920\n",
            "Epoch 41/200\n",
            "1000/1000 [==============================] - 3s 3ms/step - loss: 0.5436 - accuracy: 0.7302 - val_loss: 0.5195 - val_accuracy: 0.7580\n",
            "Epoch 42/200\n",
            "1000/1000 [==============================] - 3s 3ms/step - loss: 0.5361 - accuracy: 0.7384 - val_loss: 0.5368 - val_accuracy: 0.7380\n",
            "Epoch 43/200\n",
            "1000/1000 [==============================] - 3s 3ms/step - loss: 0.5306 - accuracy: 0.7400 - val_loss: 0.5076 - val_accuracy: 0.7580\n",
            "Epoch 44/200\n",
            "1000/1000 [==============================] - 3s 3ms/step - loss: 0.5317 - accuracy: 0.7408 - val_loss: 0.5180 - val_accuracy: 0.7700\n",
            "Epoch 45/200\n",
            "1000/1000 [==============================] - 3s 3ms/step - loss: 0.5263 - accuracy: 0.7441 - val_loss: 0.5141 - val_accuracy: 0.7400\n",
            "Epoch 46/200\n",
            "1000/1000 [==============================] - 3s 3ms/step - loss: 0.5262 - accuracy: 0.7443 - val_loss: 0.5193 - val_accuracy: 0.7480\n",
            "Epoch 47/200\n",
            "1000/1000 [==============================] - 3s 3ms/step - loss: 0.5252 - accuracy: 0.7463 - val_loss: 0.5072 - val_accuracy: 0.7680\n",
            "Epoch 48/200\n",
            "1000/1000 [==============================] - 3s 3ms/step - loss: 0.5223 - accuracy: 0.7421 - val_loss: 0.4879 - val_accuracy: 0.7860\n",
            "Epoch 49/200\n",
            "1000/1000 [==============================] - 4s 4ms/step - loss: 0.5198 - accuracy: 0.7482 - val_loss: 0.4802 - val_accuracy: 0.7940\n",
            "Epoch 50/200\n",
            "1000/1000 [==============================] - 3s 3ms/step - loss: 0.5173 - accuracy: 0.7485 - val_loss: 0.5130 - val_accuracy: 0.7720\n",
            "Epoch 51/200\n",
            "1000/1000 [==============================] - 3s 3ms/step - loss: 0.5121 - accuracy: 0.7513 - val_loss: 0.4927 - val_accuracy: 0.7940\n",
            "Epoch 52/200\n",
            "1000/1000 [==============================] - 3s 3ms/step - loss: 0.5104 - accuracy: 0.7560 - val_loss: 0.4923 - val_accuracy: 0.7700\n",
            "Epoch 53/200\n",
            "1000/1000 [==============================] - 3s 3ms/step - loss: 0.5112 - accuracy: 0.7524 - val_loss: 0.4875 - val_accuracy: 0.8020\n",
            "Epoch 54/200\n",
            "1000/1000 [==============================] - 3s 3ms/step - loss: 0.5061 - accuracy: 0.7527 - val_loss: 0.4948 - val_accuracy: 0.7960\n",
            "Epoch 55/200\n",
            "1000/1000 [==============================] - 3s 3ms/step - loss: 0.5016 - accuracy: 0.7576 - val_loss: 0.4712 - val_accuracy: 0.7860\n",
            "Epoch 56/200\n",
            "1000/1000 [==============================] - 3s 3ms/step - loss: 0.5003 - accuracy: 0.7601 - val_loss: 0.5085 - val_accuracy: 0.7520\n",
            "Epoch 57/200\n",
            "1000/1000 [==============================] - 3s 3ms/step - loss: 0.4999 - accuracy: 0.7563 - val_loss: 0.4717 - val_accuracy: 0.7900\n",
            "Epoch 58/200\n",
            "1000/1000 [==============================] - 3s 3ms/step - loss: 0.5030 - accuracy: 0.7631 - val_loss: 0.4778 - val_accuracy: 0.7940\n",
            "Epoch 59/200\n",
            "1000/1000 [==============================] - 3s 3ms/step - loss: 0.4939 - accuracy: 0.7672 - val_loss: 0.4923 - val_accuracy: 0.7760\n",
            "Epoch 60/200\n",
            "1000/1000 [==============================] - 3s 3ms/step - loss: 0.4932 - accuracy: 0.7692 - val_loss: 0.4607 - val_accuracy: 0.8080\n",
            "Epoch 61/200\n",
            "1000/1000 [==============================] - 3s 3ms/step - loss: 0.4926 - accuracy: 0.7685 - val_loss: 0.4728 - val_accuracy: 0.7820\n",
            "Epoch 62/200\n",
            "1000/1000 [==============================] - 3s 3ms/step - loss: 0.4883 - accuracy: 0.7684 - val_loss: 0.4680 - val_accuracy: 0.7820\n",
            "Epoch 63/200\n",
            "1000/1000 [==============================] - 3s 3ms/step - loss: 0.4817 - accuracy: 0.7750 - val_loss: 0.4775 - val_accuracy: 0.7880\n",
            "Epoch 64/200\n",
            "1000/1000 [==============================] - 3s 3ms/step - loss: 0.4833 - accuracy: 0.7734 - val_loss: 0.4757 - val_accuracy: 0.7880\n",
            "Epoch 65/200\n",
            "1000/1000 [==============================] - 3s 3ms/step - loss: 0.4768 - accuracy: 0.7784 - val_loss: 0.4903 - val_accuracy: 0.7680\n",
            "Epoch 66/200\n",
            "1000/1000 [==============================] - 3s 3ms/step - loss: 0.4792 - accuracy: 0.7766 - val_loss: 0.4661 - val_accuracy: 0.7900\n",
            "Epoch 67/200\n",
            "1000/1000 [==============================] - 3s 3ms/step - loss: 0.4714 - accuracy: 0.7794 - val_loss: 0.4651 - val_accuracy: 0.7740\n",
            "Epoch 68/200\n",
            "1000/1000 [==============================] - 3s 3ms/step - loss: 0.4749 - accuracy: 0.7789 - val_loss: 0.4549 - val_accuracy: 0.8040\n",
            "Epoch 69/200\n",
            "1000/1000 [==============================] - 3s 3ms/step - loss: 0.4715 - accuracy: 0.7810 - val_loss: 0.4443 - val_accuracy: 0.8180\n",
            "Epoch 70/200\n",
            "1000/1000 [==============================] - 3s 3ms/step - loss: 0.4705 - accuracy: 0.7830 - val_loss: 0.4736 - val_accuracy: 0.7840\n",
            "Epoch 71/200\n",
            "1000/1000 [==============================] - 3s 3ms/step - loss: 0.4687 - accuracy: 0.7816 - val_loss: 0.4521 - val_accuracy: 0.7860\n",
            "Epoch 72/200\n",
            "1000/1000 [==============================] - 3s 3ms/step - loss: 0.4659 - accuracy: 0.7854 - val_loss: 0.4511 - val_accuracy: 0.8000\n",
            "Epoch 73/200\n",
            "1000/1000 [==============================] - 3s 3ms/step - loss: 0.4657 - accuracy: 0.7875 - val_loss: 0.4556 - val_accuracy: 0.8080\n",
            "Epoch 74/200\n",
            "1000/1000 [==============================] - 3s 3ms/step - loss: 0.4627 - accuracy: 0.7890 - val_loss: 0.4521 - val_accuracy: 0.7980\n",
            "Epoch 75/200\n",
            "1000/1000 [==============================] - 3s 3ms/step - loss: 0.4616 - accuracy: 0.7876 - val_loss: 0.4400 - val_accuracy: 0.7960\n",
            "Epoch 76/200\n",
            "1000/1000 [==============================] - 3s 3ms/step - loss: 0.4592 - accuracy: 0.7917 - val_loss: 0.4498 - val_accuracy: 0.7740\n",
            "Epoch 77/200\n",
            "1000/1000 [==============================] - 3s 3ms/step - loss: 0.4548 - accuracy: 0.7924 - val_loss: 0.4392 - val_accuracy: 0.7880\n",
            "Epoch 78/200\n",
            "1000/1000 [==============================] - 3s 3ms/step - loss: 0.4565 - accuracy: 0.7927 - val_loss: 0.4342 - val_accuracy: 0.8180\n",
            "Epoch 79/200\n",
            "1000/1000 [==============================] - 3s 3ms/step - loss: 0.4503 - accuracy: 0.7938 - val_loss: 0.4157 - val_accuracy: 0.8300\n",
            "Epoch 80/200\n",
            "1000/1000 [==============================] - 3s 3ms/step - loss: 0.4488 - accuracy: 0.7968 - val_loss: 0.4498 - val_accuracy: 0.7980\n",
            "Epoch 81/200\n",
            "1000/1000 [==============================] - 3s 3ms/step - loss: 0.4499 - accuracy: 0.7941 - val_loss: 0.4342 - val_accuracy: 0.8120\n",
            "Epoch 82/200\n",
            "1000/1000 [==============================] - 3s 3ms/step - loss: 0.4429 - accuracy: 0.7980 - val_loss: 0.4353 - val_accuracy: 0.8040\n",
            "Epoch 83/200\n",
            "1000/1000 [==============================] - 3s 3ms/step - loss: 0.4407 - accuracy: 0.8004 - val_loss: 0.4308 - val_accuracy: 0.7940\n",
            "Epoch 84/200\n",
            "1000/1000 [==============================] - 3s 3ms/step - loss: 0.4393 - accuracy: 0.8066 - val_loss: 0.4124 - val_accuracy: 0.8160\n",
            "Epoch 85/200\n",
            "1000/1000 [==============================] - 3s 3ms/step - loss: 0.4403 - accuracy: 0.8030 - val_loss: 0.4113 - val_accuracy: 0.8020\n",
            "Epoch 86/200\n",
            "1000/1000 [==============================] - 3s 3ms/step - loss: 0.4358 - accuracy: 0.8028 - val_loss: 0.4425 - val_accuracy: 0.8040\n",
            "Epoch 87/200\n",
            "1000/1000 [==============================] - 3s 3ms/step - loss: 0.4360 - accuracy: 0.8053 - val_loss: 0.4060 - val_accuracy: 0.8180\n",
            "Epoch 88/200\n",
            "1000/1000 [==============================] - 3s 3ms/step - loss: 0.4363 - accuracy: 0.8055 - val_loss: 0.4416 - val_accuracy: 0.8160\n",
            "Epoch 89/200\n",
            "1000/1000 [==============================] - 3s 3ms/step - loss: 0.4313 - accuracy: 0.8083 - val_loss: 0.4477 - val_accuracy: 0.8120\n",
            "Epoch 90/200\n",
            "1000/1000 [==============================] - 3s 3ms/step - loss: 0.4302 - accuracy: 0.8061 - val_loss: 0.4113 - val_accuracy: 0.8220\n",
            "Epoch 91/200\n",
            "1000/1000 [==============================] - 3s 3ms/step - loss: 0.4305 - accuracy: 0.8054 - val_loss: 0.4307 - val_accuracy: 0.8080\n",
            "Epoch 92/200\n",
            "1000/1000 [==============================] - 3s 3ms/step - loss: 0.4299 - accuracy: 0.8067 - val_loss: 0.4395 - val_accuracy: 0.8000\n",
            "Epoch 93/200\n",
            "1000/1000 [==============================] - 3s 3ms/step - loss: 0.4264 - accuracy: 0.8085 - val_loss: 0.4338 - val_accuracy: 0.8040\n",
            "Epoch 94/200\n",
            "1000/1000 [==============================] - 3s 3ms/step - loss: 0.4220 - accuracy: 0.8095 - val_loss: 0.4136 - val_accuracy: 0.8120\n",
            "Epoch 94: early stopping\n",
            "313/313 [==============================] - 1s 2ms/step - loss: 0.3988 - accuracy: 0.8236\n",
            "Accuracy: 82.36\n",
            "dict_keys(['loss', 'accuracy', 'val_loss', 'val_accuracy'])\n"
          ]
        }
      ]
    },
    {
      "cell_type": "code",
      "source": [
        "y_pred=model_nn.predict(X_test)"
      ],
      "metadata": {
        "colab": {
          "base_uri": "https://localhost:8080/"
        },
        "id": "a294Pg7K88XV",
        "outputId": "80530625-4433-4901-f085-1dfbdc5b9c73"
      },
      "execution_count": null,
      "outputs": [
        {
          "output_type": "stream",
          "name": "stdout",
          "text": [
            "15/15 [==============================] - 0s 2ms/step\n"
          ]
        }
      ]
    },
    {
      "cell_type": "code",
      "source": [
        "print(classification_report(y_test,y_pred.round()))\n",
        "print(accuracy_score(y_test,y_pred.round())*100)"
      ],
      "metadata": {
        "colab": {
          "base_uri": "https://localhost:8080/"
        },
        "id": "OV06MU08-Ccz",
        "outputId": "5aa8024c-88c5-49f8-dde5-8de3a4c2187c"
      },
      "execution_count": null,
      "outputs": [
        {
          "output_type": "stream",
          "name": "stdout",
          "text": [
            "              precision    recall  f1-score   support\n",
            "\n",
            "         0.0       0.78      0.88      0.83       223\n",
            "         1.0       0.88      0.78      0.83       252\n",
            "\n",
            "    accuracy                           0.83       475\n",
            "   macro avg       0.83      0.83      0.83       475\n",
            "weighted avg       0.83      0.83      0.83       475\n",
            "\n",
            "82.73684210526315\n"
          ]
        }
      ]
    },
    {
      "cell_type": "code",
      "source": [
        "labels=[\"Class 1\", \"Class 2\"]\n",
        "sns.heatmap(confusion_matrix(y_test, y_pred.round()), square=True, annot=True, fmt='d', cbar=False, cmap='Blues',\n",
        "            xticklabels=labels, yticklabels=labels)\n",
        "plt.xlabel('Predicted label')\n",
        "plt.ylabel('Actual label')"
      ],
      "metadata": {
        "colab": {
          "base_uri": "https://localhost:8080/",
          "height": 296
        },
        "id": "cfxZ9v5E-HCK",
        "outputId": "478188f8-6a36-4c14-c173-7c79da0b5487"
      },
      "execution_count": null,
      "outputs": [
        {
          "output_type": "execute_result",
          "data": {
            "text/plain": [
              "Text(91.68, 0.5, 'Actual label')"
            ]
          },
          "metadata": {},
          "execution_count": 33
        },
        {
          "output_type": "display_data",
          "data": {
            "text/plain": [
              "<Figure size 432x288 with 1 Axes>"
            ],
            "image/png": "[encoded data removed]"
          },
          "metadata": {}
        }
      ]
    },
    {
      "cell_type": "code",
      "source": [
        "!cp my_model.h5 gdrive/MyDrive/"
      ],
      "metadata": {
        "id": "fOHOxqri-HuU"
      },
      "execution_count": null,
      "outputs": []
    },
    {
      "cell_type": "markdown",
      "source": [
        "# Neural Search Approach"
      ],
      "metadata": {
        "id": "smWsWY_8Kqg4"
      }
    },
    {
      "cell_type": "code",
      "source": [],
      "metadata": {
        "id": "10SSqxf6Kt54"
      },
      "execution_count": null,
      "outputs": []
    }
  ],
  "metadata": {
    "colab": {
      "provenance": [],
      "collapsed_sections": [
        "e311PF5OGrNV",
        "9uKCiR8DGxF7",
        "R56M-2vpG22d",
        "Cs_qsy49EvKk",
        "jy6EBy1ICi6E",
        "RStoyRNfCpQL",
        "um8IJbmTxkEx",
        "g_ku-tD68sKe",
        "Scq8EzKT8wm9",
        "smWsWY_8Kqg4"
      ]
    },
    "gpuClass": "standard",
    "kernelspec": {
      "display_name": "Python 3",
      "name": "python3"
    },
    "language_info": {
      "name": "python"
    },
    "accelerator": "GPU"
  },
  "nbformat": 4,
  "nbformat_minor": 0
}